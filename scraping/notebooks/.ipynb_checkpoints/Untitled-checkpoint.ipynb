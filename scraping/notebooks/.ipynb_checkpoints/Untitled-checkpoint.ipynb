{
 "cells": [
  {
   "cell_type": "code",
   "execution_count": 1,
   "id": "e32f5099",
   "metadata": {},
   "outputs": [],
   "source": [
    "import pandas as pd\n",
    "\n",
    "import time\n",
    "\n",
    "import requests, json\n",
    "import bs4\n",
    "\n",
    "from selenium import webdriver\n",
    "from selenium.webdriver.common.by import By\n",
    "from selenium.webdriver.chrome.service import Service\n",
    "from selenium.webdriver.common.action_chains import ActionChains\n"
   ]
  },
  {
   "cell_type": "markdown",
   "id": "addbbb37",
   "metadata": {},
   "source": [
    "---\n",
    "## Fase 1: Inicializar driver y hacer búsqueda\n",
    "introducir cp, entrar en google y aceptar cookies e ir a gmaps"
   ]
  },
  {
   "cell_type": "code",
   "execution_count": 2,
   "id": "916a0aa2",
   "metadata": {},
   "outputs": [
    {
     "name": "stdout",
     "output_type": "stream",
     "text": [
      "Seleccione un código postal28031\n"
     ]
    }
   ],
   "source": [
    "cp = input('Seleccione un código postal')"
   ]
  },
  {
   "cell_type": "code",
   "execution_count": 3,
   "id": "e86434e0",
   "metadata": {},
   "outputs": [],
   "source": [
    "path = '../resources/firefox_driver/geckodriver'\n",
    "service = Service(executable_path=path)\n",
    "driver = webdriver.Firefox(service=service)"
   ]
  },
  {
   "cell_type": "code",
   "execution_count": 4,
   "id": "1d3e1174",
   "metadata": {},
   "outputs": [],
   "source": [
    "url = f'https://www.google.com/search?q=restaurantes+en+{cp}&rlz=1C5CHFA_enES1019ES1019&oq=restaurantes+en+28031&aqs=chrome..69i57j69i60l3.4633j0j15&sourceid=chrome&ie=UTF-8'"
   ]
  },
  {
   "cell_type": "code",
   "execution_count": 5,
   "id": "fa08ddc3",
   "metadata": {},
   "outputs": [],
   "source": [
    "driver.get(url)\n",
    "driver.maximize_window()"
   ]
  },
  {
   "cell_type": "code",
   "execution_count": 6,
   "id": "7fd6ea4b",
   "metadata": {},
   "outputs": [
    {
     "data": {
      "text/plain": [
       "<selenium.webdriver.remote.webelement.WebElement (session=\"c767b333-5dd5-4152-a0a0-690944e72524\", element=\"44ae7271-0666-435b-86b8-a2ec4ea5a42e\")>"
      ]
     },
     "execution_count": 6,
     "metadata": {},
     "output_type": "execute_result"
    }
   ],
   "source": [
    "cookie_button = driver.find_element(by=By.ID, value='L2AGLb')\n",
    "cookie_button"
   ]
  },
  {
   "cell_type": "code",
   "execution_count": 7,
   "id": "a89da569",
   "metadata": {},
   "outputs": [],
   "source": [
    "cookie_button.click()"
   ]
  },
  {
   "cell_type": "code",
   "execution_count": 8,
   "id": "f1846faf",
   "metadata": {},
   "outputs": [],
   "source": [
    "time.sleep(3)"
   ]
  },
  {
   "cell_type": "code",
   "execution_count": 9,
   "id": "f6687b69",
   "metadata": {},
   "outputs": [],
   "source": [
    "mapslink = driver.find_element(By.XPATH, '/html/body/div[8]/div/div[4]/div/div[1]/div/div[1]/div/div[2]/a')\n",
    "mapslink.click()"
   ]
  },
  {
   "cell_type": "markdown",
   "id": "4b9e5958",
   "metadata": {},
   "source": [
    "---\n",
    "## Fase 2: hacer scroll para cargar todos los lugares y obtenerlos"
   ]
  },
  {
   "cell_type": "code",
   "execution_count": 10,
   "id": "12a6f5e0",
   "metadata": {},
   "outputs": [],
   "source": [
    "def full_scroll(driver):\n",
    "    \n",
    "    \n",
    "    altura = driver.execute_script('return document.querySelector(\".ecceSd\").firstChild.scrollHeight')\n",
    "\n",
    "    nueva_altura = 0\n",
    "    while True:   \n",
    "\n",
    "        driver.execute_script(f'document.querySelector(\".ecceSd \").firstChild.scrollTo(0, {altura});')\n",
    "\n",
    "        time.sleep(2)\n",
    "        \n",
    "        nueva_altura = driver.execute_script('return document.querySelector(\".ecceSd\").firstChild.firstChild.scrollHeight')\n",
    "    \n",
    "        altura = nueva_altura\n",
    "        if altura == nueva_altura:\n",
    "            break\n"
   ]
  },
  {
   "cell_type": "code",
   "execution_count": 11,
   "id": "56d73558",
   "metadata": {},
   "outputs": [
    {
     "name": "stdout",
     "output_type": "stream",
     "text": [
      "final\n"
     ]
    }
   ],
   "source": [
    "while True:\n",
    "    try:\n",
    "        driver.find_element(By.CLASS_NAME, 'HlvSq')\n",
    "        print('final')\n",
    "        break\n",
    "    except:\n",
    "        full_scroll(driver) "
   ]
  },
  {
   "cell_type": "code",
   "execution_count": 13,
   "id": "6af2514d",
   "metadata": {},
   "outputs": [],
   "source": [
    "cards = driver.find_elements(By.CLASS_NAME, 'hfpxzc')"
   ]
  },
  {
   "cell_type": "code",
   "execution_count": 14,
   "id": "e087d635",
   "metadata": {},
   "outputs": [],
   "source": [
    "time.sleep(3)"
   ]
  },
  {
   "cell_type": "markdown",
   "id": "debefa93",
   "metadata": {},
   "source": [
    "---\n",
    "## Fase 3: Recorrer lugar por lugar y scrapear datos"
   ]
  },
  {
   "cell_type": "code",
   "execution_count": 15,
   "id": "e4a8e856",
   "metadata": {},
   "outputs": [],
   "source": [
    "nombres = []\n",
    "rates = []\n",
    "nums_resenas = []\n",
    "pricings = []\n",
    "detalles = []\n",
    "labels = []\n",
    "descripciones = []\n",
    "ids = []\n",
    "\n",
    "\n",
    "for i in range(len(cards)):\n",
    "    cards[i].click()\n",
    "    \n",
    "    time.sleep(1)\n",
    "    \n",
    "    ids.append(i)\n",
    "    \n",
    "    try:\n",
    "        nombre = driver.find_element(By.CLASS_NAME, 'DUwDvf').text\n",
    "        nombres.append(nombre)\n",
    "    except:\n",
    "        nombres.append('')\n",
    "        \n",
    "    try:\n",
    "        rate = driver.find_element(By.CLASS_NAME, 'fontDisplayLarge').text\n",
    "        rates.append(rate)\n",
    "    except:\n",
    "        rates.append('')\n",
    "\n",
    "    try:\n",
    "        num_resenas = driver.find_element(By.CLASS_NAME, 'DkEaL').text\n",
    "        nums_resenas.append(num_resenas)\n",
    "        \n",
    "    except:\n",
    "        num_resenas.append('')\n",
    "    \n",
    "    try:\n",
    "        pricing = driver.find_element(By.CLASS_NAME, 'mgr77e').text\n",
    "        pricings.append(pricing)\n",
    "    except:\n",
    "        pricings.append('')\n",
    "        \n",
    "    try:\n",
    "        detalle = driver.find_elements(By.CLASS_NAME, 'rogA2c')\n",
    "        detalles.append([i.text for i in detalle])\n",
    "    except:\n",
    "        detalles.append('')\n",
    "        \n",
    "    try:\n",
    "        label = driver.find_element(By.CLASS_NAME,'u6ijk').text\n",
    "        labels.append(label)\n",
    "    except:\n",
    "        labels.append('')\n",
    "    try:\n",
    "        descripcion = driver.find_element(By.CLASS_NAME,'PYvSYb').text\n",
    "        descripciones.append(descripcion)\n",
    "    except:\n",
    "        descripciones.append('')\n",
    "        \n",
    "    \n",
    "    \n",
    "        "
   ]
  },
  {
   "cell_type": "markdown",
   "id": "cdb789dc",
   "metadata": {},
   "source": [
    "---\n",
    "## Fase 4: Scraping terminado. Cerramos driver"
   ]
  },
  {
   "cell_type": "code",
   "execution_count": 19,
   "id": "603b0242",
   "metadata": {},
   "outputs": [],
   "source": [
    "driver.quit()"
   ]
  },
  {
   "cell_type": "markdown",
   "id": "df63d635",
   "metadata": {},
   "source": [
    "# Hasta aquí Selenium :D\n",
    "---"
   ]
  },
  {
   "cell_type": "markdown",
   "id": "0ce71555",
   "metadata": {},
   "source": [
    "## Ahora hay que extraer cada dato de la lista\n",
    "---\n",
    "1. Direccion siempre es la posición 0 de la lista\n",
    "2. Teléfono necesita REGEX siempre tiene formato 3 2 2 2\n",
    "3. Web necesita regex con .com o .es Hay que filtrar los menus y los hacer un pedido en just eat\n"
   ]
  },
  {
   "cell_type": "code",
   "execution_count": 18,
   "id": "8e393197",
   "metadata": {},
   "outputs": [
    {
     "data": {
      "text/plain": [
       "'https://www.google.com/maps/place/Restaurante+El+Mantel/data=!4m7!3m6!1s0xd4224fe8af9cef5:0xbc3e8c5ba34f4cad!8m2!3d40.3720648!4d-3.6177279!16s%2Fg%2F1hc6y55x_!19sChIJ9c75iv4kQg0RrUxPo1uMPrw?authuser=0&hl=es&rclk=1'"
      ]
     },
     "execution_count": 18,
     "metadata": {},
     "output_type": "execute_result"
    }
   ],
   "source": [
    "urls = [cards[i].get_attribute('href') for i in range(len(cards))]"
   ]
  },
  {
   "cell_type": "code",
   "execution_count": 21,
   "id": "6b1c13a2",
   "metadata": {},
   "outputs": [
    {
     "data": {
      "text/plain": [
       "[0,\n",
       " 1,\n",
       " 2,\n",
       " 3,\n",
       " 4,\n",
       " 5,\n",
       " 6,\n",
       " 7,\n",
       " 8,\n",
       " 9,\n",
       " 10,\n",
       " 11,\n",
       " 12,\n",
       " 13,\n",
       " 14,\n",
       " 15,\n",
       " 16,\n",
       " 17,\n",
       " 18,\n",
       " 19,\n",
       " 20,\n",
       " 21,\n",
       " 22,\n",
       " 23,\n",
       " 24,\n",
       " 25,\n",
       " 26,\n",
       " 27,\n",
       " 28,\n",
       " 29,\n",
       " 30,\n",
       " 31,\n",
       " 32,\n",
       " 33,\n",
       " 34,\n",
       " 35,\n",
       " 36,\n",
       " 37,\n",
       " 38,\n",
       " 39]"
      ]
     },
     "execution_count": 21,
     "metadata": {},
     "output_type": "execute_result"
    }
   ],
   "source": [
    "ids"
   ]
  },
  {
   "cell_type": "code",
   "execution_count": 20,
   "id": "29e620f3",
   "metadata": {},
   "outputs": [
    {
     "data": {
      "text/plain": [
       "['Restaurante El Mantel',\n",
       " 'El Rincon de la Villa',\n",
       " 'La Oveja Negra Villa de Vallecas',\n",
       " 'La Oveja Negra Villa de Vallecas',\n",
       " 'Mar Abierto',\n",
       " 'Asador Llopis',\n",
       " 'Bodega La Pitarra',\n",
       " 'La Choza De David',\n",
       " 'Mesón La Cepa',\n",
       " 'Casa de comidas Raquel',\n",
       " 'Bar Restaurante La paella de plaza',\n",
       " 'La Tabernita De Domínguez',\n",
       " 'Bar Restaurante Ecuatoriano La Orquídea',\n",
       " 'Restaurante Dolmen de Axeitos',\n",
       " 'Restaurante cafetería PLAZA',\n",
       " 'Restaurante La Morenita',\n",
       " 'Restaurante Cardumen',\n",
       " 'Jardín de Baco',\n",
       " 'Restaurante Parrilla Agora',\n",
       " 'Restobar EL EMBRUJO',\n",
       " 'Restaurante Asiático Xing',\n",
       " 'Restaurante Asiático Ches',\n",
       " 'Mil Manjares Colombia',\n",
       " 'Asador Lorena',\n",
       " 'MR CHEN',\n",
       " 'Rincon de Tomy',\n",
       " 'Casa Guerra Menú Diario',\n",
       " 'Restaurante Chino Sur',\n",
       " 'Jardín de Baco II',\n",
       " 'Alboronía',\n",
       " 'El Gallito Del Corral',\n",
       " 'Bar y Restáurate La Cervecita Catracha',\n",
       " 'Sidrería Asgaya Santa Eugenia',\n",
       " 'Cervecería Franva',\n",
       " 'Congosto 47',\n",
       " 'La Bodeguita',\n",
       " 'Restaurante Canalejas',\n",
       " 'Restaurante-Cafeteria Hermanos Arnanz',\n",
       " 'Palacio del Pollo',\n",
       " 'Cafetería Cervecería la Villa']"
      ]
     },
     "execution_count": 20,
     "metadata": {},
     "output_type": "execute_result"
    }
   ],
   "source": [
    "nombres"
   ]
  },
  {
   "cell_type": "code",
   "execution_count": 22,
   "id": "94cf6cc6",
   "metadata": {},
   "outputs": [
    {
     "data": {
      "text/plain": [
       "['369 reseñas',\n",
       " '694 reseñas',\n",
       " '1.060 reseñas',\n",
       " '1.060 reseñas',\n",
       " '334 reseñas',\n",
       " '519 reseñas',\n",
       " '158 reseñas',\n",
       " '263 reseñas',\n",
       " '2.134 reseñas',\n",
       " '70 reseñas',\n",
       " '764 reseñas',\n",
       " '742 reseñas',\n",
       " '211 reseñas',\n",
       " '1.330 reseñas',\n",
       " '262 reseñas',\n",
       " '164 reseñas',\n",
       " '159 reseñas',\n",
       " '933 reseñas',\n",
       " '298 reseñas',\n",
       " '28 reseñas',\n",
       " '816 reseñas',\n",
       " '659 reseñas',\n",
       " '557 reseñas',\n",
       " '221 reseñas',\n",
       " '202 reseñas',\n",
       " '572 reseñas',\n",
       " '162 reseñas',\n",
       " '341 reseñas',\n",
       " '669 reseñas',\n",
       " '28 reseñas',\n",
       " '343 reseñas',\n",
       " '258 reseñas',\n",
       " '370 reseñas',\n",
       " '2.716 reseñas',\n",
       " '991 reseñas',\n",
       " '179 reseñas',\n",
       " '208 reseñas',\n",
       " '340 reseñas',\n",
       " '187 reseñas',\n",
       " '1.993 reseñas']"
      ]
     },
     "execution_count": 22,
     "metadata": {},
     "output_type": "execute_result"
    }
   ],
   "source": [
    "nums_resenas"
   ]
  },
  {
   "cell_type": "code",
   "execution_count": 24,
   "id": "98a3d7c2",
   "metadata": {},
   "outputs": [
    {
     "data": {
      "text/plain": [
       "['·€',\n",
       " '·€',\n",
       " '·€',\n",
       " '·€',\n",
       " '·€',\n",
       " '·€€',\n",
       " '·€',\n",
       " '·€€',\n",
       " '·€',\n",
       " '',\n",
       " '·€',\n",
       " '·€',\n",
       " '',\n",
       " '·€€',\n",
       " '·€',\n",
       " '',\n",
       " '',\n",
       " '·€€',\n",
       " '·€',\n",
       " '',\n",
       " '·€',\n",
       " '·€',\n",
       " '·€',\n",
       " '·€',\n",
       " '',\n",
       " '·€',\n",
       " '',\n",
       " '·€',\n",
       " '·€€',\n",
       " '',\n",
       " '·€',\n",
       " '·€',\n",
       " '·€',\n",
       " '·€',\n",
       " '·€',\n",
       " '·€',\n",
       " '·€',\n",
       " '·€',\n",
       " '·€',\n",
       " '·€']"
      ]
     },
     "execution_count": 24,
     "metadata": {},
     "output_type": "execute_result"
    }
   ],
   "source": [
    "pricings\n",
    "# NECESITA LIMPIEZA"
   ]
  },
  {
   "cell_type": "code",
   "execution_count": 25,
   "id": "105ac297",
   "metadata": {},
   "outputs": [
    {
     "data": {
      "text/plain": [
       "['Restaurante',\n",
       " 'Restaurante especializado en tapas',\n",
       " 'Bar restaurante',\n",
       " 'Bar restaurante',\n",
       " 'Restaurante',\n",
       " 'Restaurante',\n",
       " 'Taberna',\n",
       " 'Restaurante',\n",
       " 'Restaurante',\n",
       " 'Tienda de kebabs',\n",
       " 'Bar restaurante',\n",
       " 'Taberna',\n",
       " 'Bar restaurante',\n",
       " 'Restaurante gallego',\n",
       " 'Restaurante',\n",
       " 'Bar restaurante',\n",
       " 'Restaurante',\n",
       " 'Restaurante',\n",
       " 'Restaurante',\n",
       " 'Restaurante',\n",
       " 'Restaurante chino',\n",
       " 'Restaurante asiático',\n",
       " 'Restaurante',\n",
       " 'Restaurante especializado en pollo',\n",
       " 'Restaurante asiático',\n",
       " 'Bar',\n",
       " 'Bar restaurante',\n",
       " 'Restaurante chino',\n",
       " 'Restaurante',\n",
       " 'Restaurante',\n",
       " 'Restaurante especializado en pollo',\n",
       " 'Restaurante',\n",
       " 'Sidrería',\n",
       " 'Bar de tapas',\n",
       " 'Bar de tapas',\n",
       " 'Bar restaurante',\n",
       " 'Restaurante',\n",
       " 'Bar restaurante',\n",
       " 'Restaurante especializado en pollo',\n",
       " 'Bar de tapas']"
      ]
     },
     "execution_count": 25,
     "metadata": {},
     "output_type": "execute_result"
    }
   ],
   "source": [
    "labels"
   ]
  },
  {
   "cell_type": "code",
   "execution_count": 26,
   "id": "50b127fc",
   "metadata": {},
   "outputs": [
    {
     "data": {
      "text/plain": [
       "['',\n",
       " '',\n",
       " 'Bar restaurante sencillo y concurrido, con terraza, que sirve raciones contundentes de comida de pub.',\n",
       " 'Bar restaurante sencillo y concurrido, con terraza, que sirve raciones contundentes de comida de pub.',\n",
       " '',\n",
       " 'Cocina española y asados en horno de leña en un local clásico decorado con bustos de toro y lámparas de araña.',\n",
       " '',\n",
       " '',\n",
       " 'Asador con paredes revestidas de ladrillo donde se sirven carnes al horno de leña, tapas y platos típicos de Castilla y Madrid.',\n",
       " '',\n",
       " '',\n",
       " '',\n",
       " '',\n",
       " '',\n",
       " '',\n",
       " '',\n",
       " '',\n",
       " 'Cordero asado y recetas españolas en un mesón de paredes y mobiliario de madera oscura, con terraza.',\n",
       " '',\n",
       " '',\n",
       " 'Cuadros con caligrafía china decoran este restaurante que sirve platos asiáticos como sushi o cerdo agridulce.',\n",
       " '',\n",
       " 'Restaurante de estilo desenfadado con comida tradicional, desayunos, pan casero y dulces.',\n",
       " '',\n",
       " '',\n",
       " '',\n",
       " '',\n",
       " 'Recetas tradicionales de China en un amplio restaurante cuya fachada se asemeja a un templo oriental.',\n",
       " '',\n",
       " '',\n",
       " '',\n",
       " '',\n",
       " '',\n",
       " 'Concurrida cervecería de barrio que sirve desayunos, raciones generosas, tapas de toda la vida y bocadillos.',\n",
       " '',\n",
       " '',\n",
       " '',\n",
       " '',\n",
       " '',\n",
       " 'Comedor con ventanales, ladrillo y madera donde sirven un menú diario de cocina española, tostas y raciones.']"
      ]
     },
     "execution_count": 26,
     "metadata": {},
     "output_type": "execute_result"
    }
   ],
   "source": [
    "descripciones"
   ]
  },
  {
   "cell_type": "code",
   "execution_count": 29,
   "id": "ba1d63e9",
   "metadata": {},
   "outputs": [
    {
     "data": {
      "text/plain": [
       "['C. del Puerto de Galapagar, 11, 28031 Madrid',\n",
       " 'Av. de la Albufera, 432, 28031 Madrid',\n",
       " 'C/ Puerto de Porzuna, 13, 28031 Madrid',\n",
       " 'C/ Puerto de Porzuna, 13, 28031 Madrid',\n",
       " 'C. Sierra de Mira, 2, 28031 Madrid',\n",
       " 'C. de César Pastor Llopis, 6, 28031 Madrid',\n",
       " '2803, Pl. Juan de Malasaña, 5, 28031 Madrid',\n",
       " 'Pl. Juan de Malasaña, 5, 28031 Madrid',\n",
       " 'C. Poza de la Sal, 20, 28031 Madrid',\n",
       " 'Pl. Juan de Malasaña, 4, 28031 Madrid',\n",
       " 'Cl. de la Sierra Vieja, 48, 28031 Madrid',\n",
       " 'Av. del Ensanche de Vallecas, 14, 28031 Madrid',\n",
       " 'C. Pico Espigüete, 2, 28031 Madrid',\n",
       " 'C. del Tranvía de Arganda, 16, 18, 28031 Madrid',\n",
       " 'Cl. de la Sierra Vieja, 68, 28031 Madrid',\n",
       " 'C. Castrillo de Aza, 15, 28031 Madrid',\n",
       " 'Albufera 323 · Edif. Vallausa ·, Pta.1 Nave 5-6, 28031 Madrid',\n",
       " 'C. Castrillo de Aza, 7, 28031 Madrid',\n",
       " 'C. Fuentespina, 21, 28031 Madrid',\n",
       " 'C. Manuel Vélez, 17, 28031 Madrid',\n",
       " 'Av. del Ensanche de Vallecas, 9, 28031 Madrid',\n",
       " 'C. de San Jaime, 2, 28031 Madrid',\n",
       " 'Cam. de las Hormigueras, 122, 28031 Madrid',\n",
       " 'Calle Martín Muñoz de las Posadas, 10, 28031 Madrid',\n",
       " 'Av. del Ensanche de Vallecas, 57, 28031 Madrid',\n",
       " 'Pl. Juan de Malasaña, 7, 28031 Madrid',\n",
       " 'C. Monte Aya, 24, 28031 Madrid',\n",
       " 'Av. de Santa Eugenia, 62, 28031 Madrid',\n",
       " 'C. de Fuentespina, 6, 28031 Madrid',\n",
       " 'C. Alameda del Valle, 34, 28031 Madrid',\n",
       " 'C. Fuentespina, 13, 28031 Madrid',\n",
       " 'C. de San Jaime, Tr.ª Sierra de Guadalupe, 23, L1, 28031 Madrid',\n",
       " 'C. Castrillo de Aza, 7, 28031 Madrid',\n",
       " 'C. de Sierra Gorda, 25, 28031 Madrid',\n",
       " 'C. del Congosto, 47, 28031 Madrid',\n",
       " 'C. Castrillo de Aza, 12, 28031 Madrid',\n",
       " 'C. de Fuentidueña, 21, 28031 Madrid',\n",
       " 'C. de Sierra de Guadalupe, 7, 28031 Madrid',\n",
       " 'C. Manuel Vélez, 4, 28031 Madrid',\n",
       " 'C. Cocherón de la Villa, 19, 28031 Madrid']"
      ]
     },
     "execution_count": 29,
     "metadata": {},
     "output_type": "execute_result"
    }
   ],
   "source": [
    "direcciones = [i[0] for i in detalles]\n",
    "direcciones"
   ]
  },
  {
   "cell_type": "code",
   "execution_count": null,
   "id": "49a7a537",
   "metadata": {},
   "outputs": [],
   "source": []
  }
 ],
 "metadata": {
  "kernelspec": {
   "display_name": "Python [conda env:lunarossa_ih]",
   "language": "python",
   "name": "conda-env-lunarossa_ih-py"
  },
  "language_info": {
   "codemirror_mode": {
    "name": "ipython",
    "version": 3
   },
   "file_extension": ".py",
   "mimetype": "text/x-python",
   "name": "python",
   "nbconvert_exporter": "python",
   "pygments_lexer": "ipython3",
   "version": "3.9.13"
  }
 },
 "nbformat": 4,
 "nbformat_minor": 5
}
