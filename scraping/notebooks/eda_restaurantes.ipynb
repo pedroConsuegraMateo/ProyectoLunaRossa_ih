{
 "cells": [
  {
   "cell_type": "code",
   "execution_count": 1,
   "id": "84577252",
   "metadata": {},
   "outputs": [],
   "source": [
    "import pandas as pd\n",
    "from sqlalchemy import create_engine"
   ]
  },
  {
   "cell_type": "code",
   "execution_count": 2,
   "id": "f7e376c5",
   "metadata": {},
   "outputs": [
    {
     "name": "stderr",
     "output_type": "stream",
     "text": [
      "/var/folders/n3/xb6jll3d49q147jw5_13y6zm0000gn/T/ipykernel_62390/355435169.py:4: SADeprecationWarning: The Engine.table_names() method is deprecated and will be removed in a future release.  Please refer to Inspector.get_table_names(). (deprecated since: 1.4)\n",
      "  nombre_tabla = engine.table_names()\n"
     ]
    }
   ],
   "source": [
    "engine = create_engine(f'sqlite:///../../../ih_final_project_DB/ih_final_project') \n",
    "con = engine.connect()\n",
    "\n",
    "nombre_tabla = engine.table_names()"
   ]
  },
  {
   "cell_type": "code",
   "execution_count": 3,
   "id": "6baedb29",
   "metadata": {},
   "outputs": [
    {
     "name": "stdout",
     "output_type": "stream",
     "text": [
      "['activity_tracking', 'credenciales_usuarios', 'eventos', 'preferencias_generales', 'preferencias_restaurantes', 'restaurantes', 'restaurantes_visitados', 'sqlite_sequence', 'usuarios']\n"
     ]
    }
   ],
   "source": [
    "print(nombre_tabla)"
   ]
  },
  {
   "cell_type": "code",
   "execution_count": 4,
   "id": "899d8ec9",
   "metadata": {},
   "outputs": [],
   "source": [
    "restaurantes = pd.read_sql('SELECT * FROM restaurantes', con)"
   ]
  },
  {
   "cell_type": "code",
   "execution_count": 5,
   "id": "0bd31c1c",
   "metadata": {},
   "outputs": [
    {
     "data": {
      "text/html": [
       "<div>\n",
       "<style scoped>\n",
       "    .dataframe tbody tr th:only-of-type {\n",
       "        vertical-align: middle;\n",
       "    }\n",
       "\n",
       "    .dataframe tbody tr th {\n",
       "        vertical-align: top;\n",
       "    }\n",
       "\n",
       "    .dataframe thead th {\n",
       "        text-align: right;\n",
       "    }\n",
       "</style>\n",
       "<table border=\"1\" class=\"dataframe\">\n",
       "  <thead>\n",
       "    <tr style=\"text-align: right;\">\n",
       "      <th></th>\n",
       "      <th>id</th>\n",
       "      <th>nombre</th>\n",
       "      <th>rate</th>\n",
       "      <th>resenas</th>\n",
       "      <th>precio</th>\n",
       "      <th>labels</th>\n",
       "      <th>descripcion</th>\n",
       "      <th>direccion</th>\n",
       "      <th>url</th>\n",
       "      <th>numero</th>\n",
       "      <th>x</th>\n",
       "      <th>y</th>\n",
       "      <th>img</th>\n",
       "    </tr>\n",
       "  </thead>\n",
       "  <tbody>\n",
       "    <tr>\n",
       "      <th>0</th>\n",
       "      <td>354</td>\n",
       "      <td>Restaurante El Rincón Asturiano</td>\n",
       "      <td>4,2</td>\n",
       "      <td>3871</td>\n",
       "      <td>€€</td>\n",
       "      <td>Restaurante asturiano</td>\n",
       "      <td>Muros de ladrillo y una virgen de Covadonga en...</td>\n",
       "      <td>Calle de las Delicias, 26, 28045 Madrid</td>\n",
       "      <td>https://www.google.com/maps/place/Restaurante+...</td>\n",
       "      <td>915 30 89 68</td>\n",
       "      <td>40.4039679</td>\n",
       "      <td>-3.6922957</td>\n",
       "      <td>https://lh5.googleusercontent.com/p/AF1QipO-pZ...</td>\n",
       "    </tr>\n",
       "    <tr>\n",
       "      <th>1</th>\n",
       "      <td>355</td>\n",
       "      <td>Restaurante Fortunata</td>\n",
       "      <td>4,1</td>\n",
       "      <td>519</td>\n",
       "      <td>€</td>\n",
       "      <td>Taberna</td>\n",
       "      <td></td>\n",
       "      <td>C. del Ferrocarril, 33, 28045 Madrid</td>\n",
       "      <td>https://www.google.com/maps/place/Restaurante+...</td>\n",
       "      <td>910 41 00 88</td>\n",
       "      <td>40.4007429</td>\n",
       "      <td>-3.6974671</td>\n",
       "      <td>https://lh5.googleusercontent.com/p/AF1QipN5D8...</td>\n",
       "    </tr>\n",
       "    <tr>\n",
       "      <th>2</th>\n",
       "      <td>356</td>\n",
       "      <td>LA TAGUARA By Guayana Mia S.L</td>\n",
       "      <td>4,5</td>\n",
       "      <td>617</td>\n",
       "      <td></td>\n",
       "      <td>Bar restaurante</td>\n",
       "      <td></td>\n",
       "      <td>C. de Méndez Álvaro, 32, 28045 Madrid</td>\n",
       "      <td>https://www.google.com/maps/place/LA+TAGUARA+B...</td>\n",
       "      <td>915 15 94 96</td>\n",
       "      <td>40.4010639</td>\n",
       "      <td>-3.6866538</td>\n",
       "      <td>https://lh5.googleusercontent.com/p/AF1QipPU84...</td>\n",
       "    </tr>\n",
       "    <tr>\n",
       "      <th>3</th>\n",
       "      <td>357</td>\n",
       "      <td>Bar \"Divino Tinto\"</td>\n",
       "      <td>4,5</td>\n",
       "      <td>832</td>\n",
       "      <td>€€</td>\n",
       "      <td>Bar</td>\n",
       "      <td></td>\n",
       "      <td>C. del Hierro, 4B, 28045 Madrid</td>\n",
       "      <td>https://www.google.com/maps/place/Bar+%22Divin...</td>\n",
       "      <td>616 92 54 77</td>\n",
       "      <td>40.391698</td>\n",
       "      <td>-3.6913893</td>\n",
       "      <td>https://lh5.googleusercontent.com/p/AF1QipNvGK...</td>\n",
       "    </tr>\n",
       "    <tr>\n",
       "      <th>4</th>\n",
       "      <td>358</td>\n",
       "      <td>Kia Ora</td>\n",
       "      <td>4,5</td>\n",
       "      <td>126</td>\n",
       "      <td></td>\n",
       "      <td>Restaurante</td>\n",
       "      <td>Restaurante sencillo, con terraza, que ofrece ...</td>\n",
       "      <td>C. Eros, 18, 28045 Madrid</td>\n",
       "      <td>https://www.google.com/maps/place/Kia+Ora/data...</td>\n",
       "      <td>657 49 34 80</td>\n",
       "      <td>40.3922792</td>\n",
       "      <td>-3.6792987</td>\n",
       "      <td>https://lh5.googleusercontent.com/p/AF1QipPhz8...</td>\n",
       "    </tr>\n",
       "    <tr>\n",
       "      <th>...</th>\n",
       "      <td>...</td>\n",
       "      <td>...</td>\n",
       "      <td>...</td>\n",
       "      <td>...</td>\n",
       "      <td>...</td>\n",
       "      <td>...</td>\n",
       "      <td>...</td>\n",
       "      <td>...</td>\n",
       "      <td>...</td>\n",
       "      <td>...</td>\n",
       "      <td>...</td>\n",
       "      <td>...</td>\n",
       "      <td>...</td>\n",
       "    </tr>\n",
       "    <tr>\n",
       "      <th>398</th>\n",
       "      <td>752</td>\n",
       "      <td>Voy Volando Pinto</td>\n",
       "      <td>4,3</td>\n",
       "      <td>214</td>\n",
       "      <td></td>\n",
       "      <td>Pizzería a domicilio</td>\n",
       "      <td></td>\n",
       "      <td>C. Joan Miró, 1, 28320 Pinto, Madrid</td>\n",
       "      <td>https://www.google.com/maps/place/Voy+Volando+...</td>\n",
       "      <td>916 91 28 22</td>\n",
       "      <td>40.2391921</td>\n",
       "      <td>-3.6989821</td>\n",
       "      <td>https://lh5.googleusercontent.com/p/AF1QipNRAf...</td>\n",
       "    </tr>\n",
       "    <tr>\n",
       "      <th>400</th>\n",
       "      <td>754</td>\n",
       "      <td>Princesa Café &amp; Bar</td>\n",
       "      <td>3,9</td>\n",
       "      <td>349</td>\n",
       "      <td>€</td>\n",
       "      <td>Cafetería</td>\n",
       "      <td></td>\n",
       "      <td>Av. de España, 13, 28320 Pinto, Madrid</td>\n",
       "      <td>https://www.google.com/maps/place/Princesa+Caf...</td>\n",
       "      <td>-</td>\n",
       "      <td>40.23955</td>\n",
       "      <td>-3.70007</td>\n",
       "      <td>https://lh5.googleusercontent.com/p/AF1QipM2p3...</td>\n",
       "    </tr>\n",
       "    <tr>\n",
       "      <th>401</th>\n",
       "      <td>755</td>\n",
       "      <td>Cafeteria Restaurante</td>\n",
       "      <td>4,0</td>\n",
       "      <td>37</td>\n",
       "      <td></td>\n",
       "      <td>Restaurante</td>\n",
       "      <td></td>\n",
       "      <td>28320 Pinto, Madrid</td>\n",
       "      <td>https://www.google.com/maps/place/Cafeteria+Re...</td>\n",
       "      <td>-</td>\n",
       "      <td>40.2646649</td>\n",
       "      <td>-3.692672</td>\n",
       "      <td>https://lh5.googleusercontent.com/p/AF1QipN3AR...</td>\n",
       "    </tr>\n",
       "    <tr>\n",
       "      <th>403</th>\n",
       "      <td>757</td>\n",
       "      <td>EL ROBLE</td>\n",
       "      <td>4,2</td>\n",
       "      <td>36</td>\n",
       "      <td>€</td>\n",
       "      <td>Bar</td>\n",
       "      <td></td>\n",
       "      <td>C. de Fuentevieja, 34, 28320 Pinto, Madrid</td>\n",
       "      <td>https://www.google.com/maps/place/EL+ROBLE/dat...</td>\n",
       "      <td>-</td>\n",
       "      <td>40.2454883</td>\n",
       "      <td>-3.705068</td>\n",
       "      <td>https://lh5.googleusercontent.com/p/AF1QipMBTY...</td>\n",
       "    </tr>\n",
       "    <tr>\n",
       "      <th>404</th>\n",
       "      <td>758</td>\n",
       "      <td>Restaurante Casa Fermín</td>\n",
       "      <td>4,3</td>\n",
       "      <td>704</td>\n",
       "      <td></td>\n",
       "      <td>Restaurante</td>\n",
       "      <td></td>\n",
       "      <td></td>\n",
       "      <td>https://www.google.com/maps/place/Restaurante+...</td>\n",
       "      <td>-</td>\n",
       "      <td>40.3024214</td>\n",
       "      <td>-4.5510621</td>\n",
       "      <td>https://lh5.googleusercontent.com/p/AF1QipOaGH...</td>\n",
       "    </tr>\n",
       "  </tbody>\n",
       "</table>\n",
       "<p>363 rows × 13 columns</p>\n",
       "</div>"
      ],
      "text/plain": [
       "      id                           nombre rate resenas precio  \\\n",
       "0    354  Restaurante El Rincón Asturiano  4,2    3871     €€   \n",
       "1    355            Restaurante Fortunata  4,1     519      €   \n",
       "2    356    LA TAGUARA By Guayana Mia S.L  4,5     617          \n",
       "3    357               Bar \"Divino Tinto\"  4,5     832     €€   \n",
       "4    358                          Kia Ora  4,5     126          \n",
       "..   ...                              ...  ...     ...    ...   \n",
       "398  752                Voy Volando Pinto  4,3     214          \n",
       "400  754              Princesa Café & Bar  3,9     349      €   \n",
       "401  755            Cafeteria Restaurante  4,0      37          \n",
       "403  757                         EL ROBLE  4,2      36      €   \n",
       "404  758          Restaurante Casa Fermín  4,3     704          \n",
       "\n",
       "                    labels                                        descripcion  \\\n",
       "0    Restaurante asturiano  Muros de ladrillo y una virgen de Covadonga en...   \n",
       "1                  Taberna                                                      \n",
       "2          Bar restaurante                                                      \n",
       "3                      Bar                                                      \n",
       "4              Restaurante  Restaurante sencillo, con terraza, que ofrece ...   \n",
       "..                     ...                                                ...   \n",
       "398   Pizzería a domicilio                                                      \n",
       "400              Cafetería                                                      \n",
       "401            Restaurante                                                      \n",
       "403                    Bar                                                      \n",
       "404            Restaurante                                                      \n",
       "\n",
       "                                      direccion  \\\n",
       "0       Calle de las Delicias, 26, 28045 Madrid   \n",
       "1          C. del Ferrocarril, 33, 28045 Madrid   \n",
       "2         C. de Méndez Álvaro, 32, 28045 Madrid   \n",
       "3               C. del Hierro, 4B, 28045 Madrid   \n",
       "4                     C. Eros, 18, 28045 Madrid   \n",
       "..                                          ...   \n",
       "398        C. Joan Miró, 1, 28320 Pinto, Madrid   \n",
       "400      Av. de España, 13, 28320 Pinto, Madrid   \n",
       "401                         28320 Pinto, Madrid   \n",
       "403  C. de Fuentevieja, 34, 28320 Pinto, Madrid   \n",
       "404                                               \n",
       "\n",
       "                                                   url        numero  \\\n",
       "0    https://www.google.com/maps/place/Restaurante+...  915 30 89 68   \n",
       "1    https://www.google.com/maps/place/Restaurante+...  910 41 00 88   \n",
       "2    https://www.google.com/maps/place/LA+TAGUARA+B...  915 15 94 96   \n",
       "3    https://www.google.com/maps/place/Bar+%22Divin...  616 92 54 77   \n",
       "4    https://www.google.com/maps/place/Kia+Ora/data...  657 49 34 80   \n",
       "..                                                 ...           ...   \n",
       "398  https://www.google.com/maps/place/Voy+Volando+...  916 91 28 22   \n",
       "400  https://www.google.com/maps/place/Princesa+Caf...             -   \n",
       "401  https://www.google.com/maps/place/Cafeteria+Re...             -   \n",
       "403  https://www.google.com/maps/place/EL+ROBLE/dat...             -   \n",
       "404  https://www.google.com/maps/place/Restaurante+...             -   \n",
       "\n",
       "              x           y                                                img  \n",
       "0    40.4039679  -3.6922957  https://lh5.googleusercontent.com/p/AF1QipO-pZ...  \n",
       "1    40.4007429  -3.6974671  https://lh5.googleusercontent.com/p/AF1QipN5D8...  \n",
       "2    40.4010639  -3.6866538  https://lh5.googleusercontent.com/p/AF1QipPU84...  \n",
       "3     40.391698  -3.6913893  https://lh5.googleusercontent.com/p/AF1QipNvGK...  \n",
       "4    40.3922792  -3.6792987  https://lh5.googleusercontent.com/p/AF1QipPhz8...  \n",
       "..          ...         ...                                                ...  \n",
       "398  40.2391921  -3.6989821  https://lh5.googleusercontent.com/p/AF1QipNRAf...  \n",
       "400    40.23955    -3.70007  https://lh5.googleusercontent.com/p/AF1QipM2p3...  \n",
       "401  40.2646649   -3.692672  https://lh5.googleusercontent.com/p/AF1QipN3AR...  \n",
       "403  40.2454883   -3.705068  https://lh5.googleusercontent.com/p/AF1QipMBTY...  \n",
       "404  40.3024214  -4.5510621  https://lh5.googleusercontent.com/p/AF1QipOaGH...  \n",
       "\n",
       "[363 rows x 13 columns]"
      ]
     },
     "execution_count": 5,
     "metadata": {},
     "output_type": "execute_result"
    }
   ],
   "source": [
    "restaurantes = restaurantes.drop_duplicates(subset=['direccion'])\n",
    "restaurantes"
   ]
  },
  {
   "cell_type": "code",
   "execution_count": 22,
   "id": "7b3d61aa",
   "metadata": {},
   "outputs": [
    {
     "data": {
      "text/html": [
       "<div>\n",
       "<style scoped>\n",
       "    .dataframe tbody tr th:only-of-type {\n",
       "        vertical-align: middle;\n",
       "    }\n",
       "\n",
       "    .dataframe tbody tr th {\n",
       "        vertical-align: top;\n",
       "    }\n",
       "\n",
       "    .dataframe thead th {\n",
       "        text-align: right;\n",
       "    }\n",
       "</style>\n",
       "<table border=\"1\" class=\"dataframe\">\n",
       "  <thead>\n",
       "    <tr style=\"text-align: right;\">\n",
       "      <th></th>\n",
       "      <th>id</th>\n",
       "      <th>rate</th>\n",
       "      <th>resenas</th>\n",
       "    </tr>\n",
       "  </thead>\n",
       "  <tbody>\n",
       "    <tr>\n",
       "      <th>count</th>\n",
       "      <td>363.000000</td>\n",
       "      <td>363.000000</td>\n",
       "      <td>363.000000</td>\n",
       "    </tr>\n",
       "    <tr>\n",
       "      <th>mean</th>\n",
       "      <td>558.415978</td>\n",
       "      <td>4.158678</td>\n",
       "      <td>591.837466</td>\n",
       "    </tr>\n",
       "    <tr>\n",
       "      <th>std</th>\n",
       "      <td>115.558507</td>\n",
       "      <td>0.460663</td>\n",
       "      <td>794.313052</td>\n",
       "    </tr>\n",
       "    <tr>\n",
       "      <th>min</th>\n",
       "      <td>354.000000</td>\n",
       "      <td>1.500000</td>\n",
       "      <td>0.000000</td>\n",
       "    </tr>\n",
       "    <tr>\n",
       "      <th>25%</th>\n",
       "      <td>463.500000</td>\n",
       "      <td>4.000000</td>\n",
       "      <td>141.000000</td>\n",
       "    </tr>\n",
       "    <tr>\n",
       "      <th>50%</th>\n",
       "      <td>562.000000</td>\n",
       "      <td>4.200000</td>\n",
       "      <td>329.000000</td>\n",
       "    </tr>\n",
       "    <tr>\n",
       "      <th>75%</th>\n",
       "      <td>654.500000</td>\n",
       "      <td>4.400000</td>\n",
       "      <td>734.500000</td>\n",
       "    </tr>\n",
       "    <tr>\n",
       "      <th>max</th>\n",
       "      <td>758.000000</td>\n",
       "      <td>5.000000</td>\n",
       "      <td>6992.000000</td>\n",
       "    </tr>\n",
       "  </tbody>\n",
       "</table>\n",
       "</div>"
      ],
      "text/plain": [
       "               id        rate      resenas\n",
       "count  363.000000  363.000000   363.000000\n",
       "mean   558.415978    4.158678   591.837466\n",
       "std    115.558507    0.460663   794.313052\n",
       "min    354.000000    1.500000     0.000000\n",
       "25%    463.500000    4.000000   141.000000\n",
       "50%    562.000000    4.200000   329.000000\n",
       "75%    654.500000    4.400000   734.500000\n",
       "max    758.000000    5.000000  6992.000000"
      ]
     },
     "execution_count": 22,
     "metadata": {},
     "output_type": "execute_result"
    }
   ],
   "source": [
    "restaurantes.describe()"
   ]
  },
  {
   "cell_type": "code",
   "execution_count": 6,
   "id": "e06ed291",
   "metadata": {},
   "outputs": [
    {
     "data": {
      "text/html": [
       "<div>\n",
       "<style scoped>\n",
       "    .dataframe tbody tr th:only-of-type {\n",
       "        vertical-align: middle;\n",
       "    }\n",
       "\n",
       "    .dataframe tbody tr th {\n",
       "        vertical-align: top;\n",
       "    }\n",
       "\n",
       "    .dataframe thead th {\n",
       "        text-align: right;\n",
       "    }\n",
       "</style>\n",
       "<table border=\"1\" class=\"dataframe\">\n",
       "  <thead>\n",
       "    <tr style=\"text-align: right;\">\n",
       "      <th></th>\n",
       "      <th>id</th>\n",
       "      <th>nombre</th>\n",
       "      <th>rate</th>\n",
       "      <th>resenas</th>\n",
       "      <th>labels</th>\n",
       "      <th>descripcion</th>\n",
       "      <th>direccion</th>\n",
       "      <th>url</th>\n",
       "      <th>numero</th>\n",
       "      <th>x</th>\n",
       "      <th>y</th>\n",
       "      <th>img</th>\n",
       "    </tr>\n",
       "    <tr>\n",
       "      <th>precio</th>\n",
       "      <th></th>\n",
       "      <th></th>\n",
       "      <th></th>\n",
       "      <th></th>\n",
       "      <th></th>\n",
       "      <th></th>\n",
       "      <th></th>\n",
       "      <th></th>\n",
       "      <th></th>\n",
       "      <th></th>\n",
       "      <th></th>\n",
       "      <th></th>\n",
       "    </tr>\n",
       "  </thead>\n",
       "  <tbody>\n",
       "    <tr>\n",
       "      <th></th>\n",
       "      <td>114</td>\n",
       "      <td>114</td>\n",
       "      <td>114</td>\n",
       "      <td>114</td>\n",
       "      <td>114</td>\n",
       "      <td>114</td>\n",
       "      <td>114</td>\n",
       "      <td>114</td>\n",
       "      <td>114</td>\n",
       "      <td>114</td>\n",
       "      <td>114</td>\n",
       "      <td>114</td>\n",
       "    </tr>\n",
       "    <tr>\n",
       "      <th>€</th>\n",
       "      <td>183</td>\n",
       "      <td>183</td>\n",
       "      <td>183</td>\n",
       "      <td>183</td>\n",
       "      <td>183</td>\n",
       "      <td>183</td>\n",
       "      <td>183</td>\n",
       "      <td>183</td>\n",
       "      <td>183</td>\n",
       "      <td>183</td>\n",
       "      <td>183</td>\n",
       "      <td>183</td>\n",
       "    </tr>\n",
       "    <tr>\n",
       "      <th>€€</th>\n",
       "      <td>61</td>\n",
       "      <td>61</td>\n",
       "      <td>61</td>\n",
       "      <td>61</td>\n",
       "      <td>61</td>\n",
       "      <td>61</td>\n",
       "      <td>61</td>\n",
       "      <td>61</td>\n",
       "      <td>61</td>\n",
       "      <td>61</td>\n",
       "      <td>61</td>\n",
       "      <td>61</td>\n",
       "    </tr>\n",
       "    <tr>\n",
       "      <th>€€€</th>\n",
       "      <td>5</td>\n",
       "      <td>5</td>\n",
       "      <td>5</td>\n",
       "      <td>5</td>\n",
       "      <td>5</td>\n",
       "      <td>5</td>\n",
       "      <td>5</td>\n",
       "      <td>5</td>\n",
       "      <td>5</td>\n",
       "      <td>5</td>\n",
       "      <td>5</td>\n",
       "      <td>5</td>\n",
       "    </tr>\n",
       "  </tbody>\n",
       "</table>\n",
       "</div>"
      ],
      "text/plain": [
       "         id  nombre  rate  resenas  labels  descripcion  direccion  url  \\\n",
       "precio                                                                    \n",
       "        114     114   114      114     114          114        114  114   \n",
       "€       183     183   183      183     183          183        183  183   \n",
       "€€       61      61    61       61      61           61         61   61   \n",
       "€€€       5       5     5        5       5            5          5    5   \n",
       "\n",
       "        numero    x    y  img  \n",
       "precio                         \n",
       "           114  114  114  114  \n",
       "€          183  183  183  183  \n",
       "€€          61   61   61   61  \n",
       "€€€          5    5    5    5  "
      ]
     },
     "execution_count": 6,
     "metadata": {},
     "output_type": "execute_result"
    }
   ],
   "source": [
    "restaurantes.groupby(by=['precio']).count()"
   ]
  },
  {
   "cell_type": "code",
   "execution_count": 7,
   "id": "0a30d4f1",
   "metadata": {},
   "outputs": [],
   "source": [
    "restaurantes['rate'][restaurantes['rate'].isin([''])] = restaurantes['rate'][restaurantes['rate'].isin([''])].apply(lambda x : x.replace('', '2.5'))"
   ]
  },
  {
   "cell_type": "code",
   "execution_count": 8,
   "id": "332ecba5",
   "metadata": {},
   "outputs": [
    {
     "data": {
      "text/plain": [
       "4.3    56\n",
       "4.2    49\n",
       "4.0    33\n",
       "4.1    32\n",
       "4.5    30\n",
       "3.9    29\n",
       "4.4    29\n",
       "4.6    25\n",
       "3.8    15\n",
       "4.7    11\n",
       "2.5     9\n",
       "3.7     8\n",
       "4.9     7\n",
       "3.6     6\n",
       "5.0     5\n",
       "4.8     5\n",
       "3.5     4\n",
       "3.3     3\n",
       "3.0     2\n",
       "2.3     1\n",
       "3.4     1\n",
       "3.1     1\n",
       "3.2     1\n",
       "1.5     1\n",
       "Name: rate, dtype: int64"
      ]
     },
     "execution_count": 8,
     "metadata": {},
     "output_type": "execute_result"
    }
   ],
   "source": [
    "restaurantes['rate'] = restaurantes['rate'].apply(lambda x: x.replace(',', '.')).astype('float64', errors='ignore')\n",
    "restaurantes['rate'].value_counts()"
   ]
  },
  {
   "cell_type": "code",
   "execution_count": 9,
   "id": "67391f5e",
   "metadata": {},
   "outputs": [
    {
     "data": {
      "text/plain": [
       "4.158677685950412"
      ]
     },
     "execution_count": 9,
     "metadata": {},
     "output_type": "execute_result"
    }
   ],
   "source": [
    "restaurantes['rate'].mean()"
   ]
  },
  {
   "cell_type": "code",
   "execution_count": 10,
   "id": "6c95f2f9",
   "metadata": {},
   "outputs": [
    {
     "data": {
      "text/plain": [
       "4.2"
      ]
     },
     "execution_count": 10,
     "metadata": {},
     "output_type": "execute_result"
    }
   ],
   "source": [
    "restaurantes['rate'].median()"
   ]
  },
  {
   "cell_type": "code",
   "execution_count": 11,
   "id": "d8cd4c4a",
   "metadata": {},
   "outputs": [
    {
     "name": "stderr",
     "output_type": "stream",
     "text": [
      "/var/folders/n3/xb6jll3d49q147jw5_13y6zm0000gn/T/ipykernel_62390/1587080502.py:1: SettingWithCopyWarning: \n",
      "A value is trying to be set on a copy of a slice from a DataFrame\n",
      "\n",
      "See the caveats in the documentation: https://pandas.pydata.org/pandas-docs/stable/user_guide/indexing.html#returning-a-view-versus-a-copy\n",
      "  restaurantes['resenas'][restaurantes['resenas'].isin([''])] = restaurantes['resenas'][restaurantes['resenas'].isin([''])].apply(lambda x : x.replace('', '0'))\n"
     ]
    }
   ],
   "source": [
    "restaurantes['resenas'][restaurantes['resenas'].isin([''])] = restaurantes['resenas'][restaurantes['resenas'].isin([''])].apply(lambda x : x.replace('', '0'))"
   ]
  },
  {
   "cell_type": "code",
   "execution_count": 12,
   "id": "68d06648",
   "metadata": {},
   "outputs": [],
   "source": [
    "restaurantes['resenas'] = restaurantes['resenas'].astype('float64')"
   ]
  },
  {
   "cell_type": "code",
   "execution_count": 20,
   "id": "6278f9e7",
   "metadata": {},
   "outputs": [
    {
     "data": {
      "application/vnd.plotly.v1+json": {
       "config": {
        "plotlyServerURL": "https://plot.ly"
       },
       "data": [
        {
         "customdata": [
          [
           "Restaurante El Rincón Asturiano",
           3871
          ],
          [
           "Restaurante Fortunata",
           519
          ],
          [
           "LA TAGUARA By Guayana Mia S.L",
           617
          ],
          [
           "Bar \"Divino Tinto\"",
           832
          ],
          [
           "Kia Ora",
           126
          ],
          [
           "La Flor de Asturias",
           307
          ],
          [
           "Mesón La Casina",
           315
          ],
          [
           "Macarena Madrid",
           1734
          ],
          [
           "La Madreña",
           2443
          ],
          [
           "Puerto Maior",
           1057
          ],
          [
           "Restaurante Asturias",
           2377
          ],
          [
           "Dominguez",
           546
          ],
          [
           "Doña Lambra",
           285
          ],
          [
           "Restaurante - La Confusa",
           264
          ],
          [
           "Mesón Las Regiones",
           772
          ],
          [
           "Restaurante Cafetería Trasmontana",
           636
          ],
          [
           "Los Metales Bar&Kitchen",
           898
          ],
          [
           "Los Castaños",
           1335
          ],
          [
           "Casa Maxi",
           357
          ],
          [
           "Restaurante Arturo's Méndez Álvaro Buenos cócteles pollo asado cerveza Atocha",
           1038
          ],
          [
           "Muxia",
           679
          ],
          [
           "Restaurante Horóscopo",
           386
          ],
          [
           "Bistro Bar Restaurante",
           291
          ],
          [
           "Restaurante Buen Gusto",
           1709
          ],
          [
           "A Ñora",
           486
          ],
          [
           "Casa Pedro",
           345
          ],
          [
           "Restaurante Nico",
           1
          ],
          [
           "Restaurante Arequepay",
           1139
          ],
          [
           "ALMA CHELI MATADERO",
           891
          ],
          [
           "Restaurante Casa Lucía",
           368
          ],
          [
           "Restaurante Os'Peregrinos",
           228
          ],
          [
           "Restaurante Mitad del Mundo",
           365
          ],
          [
           "Parisien",
           277
          ],
          [
           "Sidrería Restaurante La Casona",
           380
          ],
          [
           "La Cantina del Matadero",
           912
          ],
          [
           "El Tizón",
           512
          ],
          [
           "Bar Menéndez",
           38
          ],
          [
           "Chipa Ferrocarril",
           116
          ],
          [
           "Arrocería Imperial",
           1030
          ],
          [
           "COCINA 34",
           162
          ],
          [
           "Restaurante Cantalejo",
           767
          ],
          [
           "Restaurante Mis Tradiciones",
           1428
          ],
          [
           "El Rincón de Asturias",
           211
          ],
          [
           "Lola Puñales",
           272
          ],
          [
           "El Rincón A-Gusto",
           16
          ],
          [
           "Restaurante O’Ribeiriño",
           637
          ],
          [
           "Cangas Restaurante",
           529
          ],
          [
           "Restaurante Cantespino",
           259
          ],
          [
           "El Ratón De Getaria",
           195
          ],
          [
           "Restaurante Oviedo",
           2456
          ],
          [
           "Restaurante Atrapallada",
           2781
          ],
          [
           "Pintxoteca",
           159
          ],
          [
           "El Ideal",
           426
          ],
          [
           "Juana la Loca",
           4502
          ],
          [
           "Restaurante el Madroño",
           2035
          ],
          [
           "Restaurants La Chata",
           0
          ],
          [
           "Restaurante Mis Tradiciones",
           2275
          ],
          [
           "Cafetería Favorite Restaurante",
           186
          ],
          [
           "Restaurante Esteban",
           474
          ],
          [
           "Guang Dong City (GD Cuisine)",
           793
          ],
          [
           "El sueño de Carmen",
           157
          ],
          [
           "Sahuaro Madrid",
           1815
          ],
          [
           "La Perejila",
           1603
          ],
          [
           "Sidrería Asgaya",
           1501
          ],
          [
           "Arrocería D'stapa Madrid",
           1124
          ],
          [
           "Restaurante Italiano Emma y Julia",
           1635
          ],
          [
           "La Paloma",
           923
          ],
          [
           "Burmet",
           493
          ],
          [
           "Cantalejo",
           952
          ],
          [
           "Taberna Alba's",
           294
          ],
          [
           "Posada de la Villa",
           2259
          ],
          [
           "Bar Restaurante La esquina del Calderón",
           856
          ],
          [
           "La Taberna De Mi Abuelo",
           665
          ],
          [
           "El Novo Escalón",
           344
          ],
          [
           "MEGU",
           747
          ],
          [
           "Cervecería Restaurante El Alcázar",
           210
          ],
          [
           "Bar Restaurante La Herradura",
           168
          ],
          [
           "Restaurante O'Boi",
           271
          ],
          [
           "Somolinos",
           220
          ],
          [
           "Mafrens",
           560
          ],
          [
           "Restaurante Gibraltar",
           797
          ],
          [
           "Restaurante Seoul",
           957
          ],
          [
           "Restaurante Japonés - RAKU SUSHI",
           583
          ],
          [
           "Casa Lucio",
           6992
          ],
          [
           "Taberna del Capitán Alatriste",
           1823
          ],
          [
           "Restaurante O Breogán",
           286
          ],
          [
           "Taberna Piedra Pinta",
           131
          ],
          [
           "Asador Málaga",
           152
          ],
          [
           "Terraza La Playa Madrid Río",
           1429
          ],
          [
           "Asador \"LOS TRONQUITOS\"",
           367
          ],
          [
           "Restaurante Amicis",
           1045
          ],
          [
           "La Antoñita",
           738
          ],
          [
           "Casa Victor",
           384
          ],
          [
           "El Landó",
           740
          ],
          [
           "Restaurante Paraíso",
           139
          ],
          [
           "Cervecería El Caño",
           547
          ],
          [
           "CHIFA Maca",
           1310
          ],
          [
           "Toga Restaurante",
           1732
          ],
          [
           "Don Asador Madrid. Parrilla restaurante argentino.",
           726
          ],
          [
           "Ronda",
           266
          ],
          [
           "Casa Armán",
           512
          ],
          [
           "La Barca del Patio",
           1870
          ],
          [
           "Taberna La Concha",
           2008
          ],
          [
           "Restaurante La Malaje",
           749
          ],
          [
           "La Muralla",
           700
          ],
          [
           "GastroBar de la Tierra",
           0
          ],
          [
           "Naia",
           730
          ],
          [
           "de Madrid",
           283
          ],
          [
           "Restaurante Basarri Terraza",
           844
          ],
          [
           "Bar Restaurante Donde José",
           123
          ],
          [
           "La Esquina Peruana",
           650
          ],
          [
           "La Casa de Zhou",
           153
          ],
          [
           "Ginos",
           1240
          ],
          [
           "Casa Lucas",
           1118
          ],
          [
           "Bar Sidrería Aviseo",
           238
          ],
          [
           "Pizzería Arezzo",
           211
          ],
          [
           "Uskar",
           1207
          ],
          [
           "Malacatín",
           2397
          ],
          [
           "El Capricho Extremeño",
           875
          ],
          [
           "La Posada del Nuncio",
           449
          ],
          [
           "SUSHI MOLA The Crab House.Restaurante Japonés Madrid.",
           209
          ],
          [
           "Casa Julián de Tolosa",
           940
          ],
          [
           "La Nueva Martina",
           1234
          ],
          [
           "Los Huevos de Lucio",
           3713
          ],
          [
           "Cafetería Restaurante Imperial IV",
           167
          ],
          [
           "Restaurante Argentino El Camoatí",
           1250
          ],
          [
           "Restaurante Los Ángeles",
           794
          ],
          [
           "Restaurante LUSI",
           354
          ],
          [
           "Bar Ronda",
           615
          ],
          [
           "Cafetería Pontones",
           503
          ],
          [
           "Restaurante Fan Hua",
           264
          ],
          [
           "Rodilla",
           419
          ],
          [
           "Bipolar casa de comidas 2.0",
           502
          ],
          [
           "Cocinante",
           97
          ],
          [
           "El Fogón de Usera",
           462
          ],
          [
           "La Taberna de Usera",
           234
          ],
          [
           "La Parrilla de Usera",
           1017
          ],
          [
           "La Cuchara Restaurante Asador",
           196
          ],
          [
           "Restaurante La Parrilla De Usera",
           2824
          ],
          [
           "La Casa del Pulpo",
           1011
          ],
          [
           "Restaurante FEITO USERA",
           901
          ],
          [
           "Restaurante Pasamar",
           349
          ],
          [
           "Restaurante Lao Tou",
           1023
          ],
          [
           "Bodega Amistad",
           440
          ],
          [
           "El Rincón de Alina - Bar Restaurante",
           357
          ],
          [
           "Mr. Doulao (Madrid)",
           480
          ],
          [
           "Restaurante La Braña",
           1659
          ],
          [
           "La Terracita. Campo De Rugby",
           731
          ],
          [
           "Igopasta",
           1442
          ],
          [
           "Restaurante Marisco Guo Rong",
           619
          ],
          [
           "La Marieta",
           141
          ],
          [
           "La Estancia Parrilla Usera",
           429
          ],
          [
           "El Carbón De Granada",
           703
          ],
          [
           "A'barca Muxia",
           1115
          ],
          [
           "Restaurante La Barca",
           280
          ],
          [
           "Usera 面香缘",
           105
          ],
          [
           "Feito Río",
           1859
          ],
          [
           "Restaurante la Fonda de Colombia ~ Comida Típica Colombiana",
           1866
          ],
          [
           "Taberna Andaluza Sacromonte",
           261
          ],
          [
           "LA AUTENTICA",
           95
          ],
          [
           "Al Carbón restaurante",
           233
          ],
          [
           "Asador de Pollos Usera",
           115
          ],
          [
           "La Posada de Coti",
           807
          ],
          [
           "Cervecería LA CURIOSA",
           481
          ],
          [
           "La abuela Aleja sabor peruano",
           115
          ],
          [
           "La Alegría De Enrique",
           149
          ],
          [
           "Royal Cantonés",
           2718
          ],
          [
           "Bar Restaurante Las Palmeras",
           87
          ],
          [
           "Casa Mariano",
           1986
          ],
          [
           "Perla del Pacifico",
           806
          ],
          [
           "Restaurante Monteferro",
           193
          ],
          [
           "O Freixo",
           1775
          ],
          [
           "Restaurante Brasayleña CC Plaza Río 2",
           2450
          ],
          [
           "El Sabroso",
           55
          ],
          [
           "Los Cantaritos",
           194
          ],
          [
           "Wanlixiang",
           127
          ],
          [
           "El Obrero",
           162
          ],
          [
           "Helaotai (Madrid)",
           402
          ],
          [
           "Chic & Trick Bar-Restaurante",
           116
          ],
          [
           "La Nueva Terraza Verde",
           230
          ],
          [
           "Gilan Restaurante",
           496
          ],
          [
           "Real turkito",
           67
          ],
          [
           "Casa Ciri",
           198
          ],
          [
           "RESTAURANTE CASA BLANCA",
           141
          ],
          [
           "Restaurante Boliviano Madrid - VIPBAR",
           821
          ],
          [
           "川辣香都 Restaurante Sichuan",
           202
          ],
          [
           "Jaleos",
           402
          ],
          [
           "Jordan Gala Restaurante Cafe Bar",
           1566
          ],
          [
           "Restaurante Asador Veliz",
           4
          ],
          [
           "Barbacoa",
           76
          ],
          [
           "Restaurante ~ La Perla Boliviana 2",
           726
          ],
          [
           "Restaurante Ecu-tropical",
           157
          ],
          [
           "Restaurante Sabor Chiclayano",
           93
          ],
          [
           "Restaurante BAMMBAO 打包！(TIBU)",
           356
          ],
          [
           "Pasta Wok",
           55
          ],
          [
           "Cordero",
           75
          ],
          [
           "Jin Yun Shao Bing",
           222
          ],
          [
           "Restaurante Jin Gu",
           329
          ],
          [
           "La Sazon Boliviana",
           66
          ],
          [
           "Terraza Moscardó",
           918
          ],
          [
           "El Cruceño Bar Restaurante",
           235
          ],
          [
           "QUE BO",
           82
          ],
          [
           "La Estacion usera",
           2
          ],
          [
           "Restaurante Rincón de Andalucia",
           137
          ],
          [
           "Bar restaurante Los Kali 2",
           208
          ],
          [
           "MESON VALENCIA",
           13
          ],
          [
           "Mesón Ocandil",
           41
          ],
          [
           "Restaurante Parilla Punata",
           0
          ],
          [
           "Bar Restaurante Nicol",
           1
          ],
          [
           "Restaurante Zagros",
           220
          ],
          [
           "Restaurante KFC",
           1553
          ],
          [
           "VOHEMY RESTAURANTE",
           88
          ],
          [
           "AREPA OLE \"USERA\"",
           162
          ],
          [
           "Alice Pizza",
           320
          ],
          [
           "Cocina Fresca",
           46
          ],
          [
           "Restaurante Margarita",
           23
          ],
          [
           "Chuan Shui Yao Restaurante",
           212
          ],
          [
           "el fogon ecuatoriano",
           356
          ],
          [
           "El Trébol",
           6
          ],
          [
           "Carnívoros BBQ bar parrilla",
           341
          ],
          [
           "Restaurante Vickar",
           0
          ],
          [
           "Chernobil",
           80
          ],
          [
           "Deewey",
           667
          ],
          [
           "Entre Fuego y Carbón - Restaurante Peruano, Menús, Hamburguesas y Carnes al Carbón en Madrid",
           244
          ],
          [
           "Bar El Aventurero",
           58
          ],
          [
           "Bar La Alegria",
           142
          ],
          [
           "Pizza Mirasierra",
           66
          ],
          [
           "Bodega La Andaluza",
           1167
          ],
          [
           "Del Santos Restaurante",
           1
          ],
          [
           "Rocío al",
           0
          ],
          [
           "Mesón La Peña Soriana",
           631
          ],
          [
           "Bar Want Kee",
           11
          ],
          [
           "Pabellón Gathering Edge",
           29
          ],
          [
           "阿郑小炒 AZHENG restaurante",
           29
          ],
          [
           "sabor cafetero",
           14
          ],
          [
           "MASAMADRE PIZZA USERA",
           249
          ],
          [
           "BBTO Sabor Carretillero",
           53
          ],
          [
           "Vértice",
           319
          ],
          [
           "Restaurante Boliviano Margarita",
           1
          ],
          [
           "Museo del Jamón",
           5430
          ],
          [
           "Bar quillacollo",
           84
          ],
          [
           "Restaurante Marisco",
           6
          ],
          [
           "Mesón Madridejos",
           139
          ],
          [
           "GRAN ASADOR DEL SUR",
           80
          ],
          [
           "MASTER POLLO",
           96
          ],
          [
           "Restaurante Chino Da Fa (Usera)",
           496
          ],
          [
           "Bar La Peña Soriana",
           500
          ],
          [
           "Bar cafetería aquí me quedo",
           10
          ],
          [
           "Cocinas del Mundo",
           8
          ],
          [
           "Pollo Asado Sudamérica",
           204
          ],
          [
           "Burger john",
           228
          ],
          [
           "Asador De Pollos Tokio",
           141
          ],
          [
           "Rodilla",
           785
          ],
          [
           "Restaurante La Suite del Lago",
           2744
          ],
          [
           "Mesón Toledano",
           808
          ],
          [
           "El Barril",
           361
          ],
          [
           "Puerto Pirata",
           1072
          ],
          [
           "Garri's",
           173
          ],
          [
           "Arrivederci Comida Italiana",
           658
          ],
          [
           "Restaurante el Almendro Pinto",
           148
          ],
          [
           "La Cúspide Pinto - Restaurante Peruano",
           353
          ],
          [
           "Asador Parrilla Rincón De Castilla",
           1383
          ],
          [
           "El Buen Yantar de Azucena",
           92
          ],
          [
           "Las Patatas de Javi",
           499
          ],
          [
           "Mesón Salazar",
           101
          ],
          [
           "My'Secret",
           660
          ],
          [
           "Il Vit Restaurante Cafetería",
           108
          ],
          [
           "Eneria",
           85
          ],
          [
           "Restaurante Plaza",
           348
          ],
          [
           "La Posada",
           315
          ],
          [
           "Restaurante El Buen Comer",
           8
          ],
          [
           "Restaurante Nadu",
           20
          ],
          [
           "La cantina de Frida",
           207
          ],
          [
           "Restaurante Panpintao",
           278
          ],
          [
           "Jamon Y Vino",
           204
          ],
          [
           "Crokante",
           322
          ],
          [
           "Reverso Restaurante",
           295
          ],
          [
           "Malauva",
           224
          ],
          [
           "RESTAURANTE EVELIN",
           15
          ],
          [
           "Restaurante Buenaventura",
           901
          ],
          [
           "A Fuego Lento",
           168
          ],
          [
           "El Asador De Pinto",
           206
          ],
          [
           "Restaurante Punctum",
           144
          ],
          [
           "La Barbería",
           887
          ],
          [
           "Restaurante Artium",
           10
          ],
          [
           "Como la trucha al trucho",
           51
          ],
          [
           "El Apretón II pinto",
           703
          ],
          [
           "La Capilla Del Parque",
           721
          ],
          [
           "El Teatro de Baco",
           146
          ],
          [
           "El Apeadero de Pinto",
           168
          ],
          [
           "Los Ratitos de Marotti",
           211
          ],
          [
           "Quintana Bar - Restaurante",
           254
          ],
          [
           "EBOLI Gastro",
           24
          ],
          [
           "Restaurante Chinatown",
           434
          ],
          [
           "Restaurante Maica",
           0
          ],
          [
           "Asador de Pollos El Buen Gusto",
           429
          ],
          [
           "Asador ¡Cómo como!",
           112
          ],
          [
           "Restaurante el Cisne",
           3
          ],
          [
           "Cafetería Romayka de David Aguilar",
           419
          ],
          [
           "Foster's Hollywood",
           859
          ],
          [
           "The Wok House",
           581
          ],
          [
           "La Esperanza",
           157
          ],
          [
           "La Nave Burger",
           232
          ],
          [
           "LUSUVER 2018 S.L.U",
           0
          ],
          [
           "Ponzano",
           114
          ],
          [
           "Las Delicias Sushi Bar",
           411
          ],
          [
           "Restaurante LIPARI.",
           345
          ],
          [
           "Cafetería Trazos",
           492
          ],
          [
           "Al Barrio",
           0
          ],
          [
           "Wanderlux 360º",
           39
          ],
          [
           "New pizza pasta",
           591
          ],
          [
           "🍽️ En Blanko Taberna",
           98
          ],
          [
           "Gela",
           492
          ],
          [
           "Anteux Burger",
           537
          ],
          [
           "Restaurante Casa Antonio",
           567
          ],
          [
           "La Ostra",
           324
          ],
          [
           "Salvaje GastroBar",
           245
          ],
          [
           "OnSushi",
           285
          ],
          [
           "La Mancha",
           201
          ],
          [
           "Cafetería Gran Vía",
           1299
          ],
          [
           "Nova Galicia 2",
           448
          ],
          [
           "Restaurante 100 Montaditos",
           377
          ],
          [
           "Han",
           451
          ],
          [
           "Muerde la Pasta",
           399
          ],
          [
           "Cervecería Vinoteca LO NUESTRO",
           414
          ],
          [
           "La Bahia de Cadiz",
           239
          ],
          [
           "Bar El Rincón",
           123
          ],
          [
           "Cervecería Atila",
           2188
          ],
          [
           "Bar Félix",
           261
          ],
          [
           "Oasis Cafetería",
           155
          ],
          [
           "GASTROCHEF comida para llevar",
           60
          ],
          [
           "Pizzería Carlos | Pinto",
           558
          ],
          [
           "POMODORO Pizza Pasta Burritos",
           180
          ],
          [
           "Burger King",
           606
          ],
          [
           "Bar los Pitufos",
           401
          ],
          [
           "Bar La Rábida.",
           148
          ],
          [
           "El Pollo Rico",
           115
          ],
          [
           "Bar El Refugio de Pinto",
           459
          ],
          [
           "McDonald's",
           3144
          ],
          [
           "Cerveceria pub Tennessee",
           26
          ],
          [
           "Chiringuito De Paco",
           8
          ],
          [
           "Bar Restaurante La Rinconada",
           106
          ],
          [
           "Restaurante Chino Nueva Muralla",
           137
          ],
          [
           "Telepizza Pinto - Comida a Domicilio",
           483
          ],
          [
           "Arrocería de Pinto",
           3
          ],
          [
           "Émalú Coffee Bar",
           414
          ],
          [
           "Kebab",
           113
          ],
          [
           "Xing",
           175
          ],
          [
           "Bar Central Tenería",
           204
          ],
          [
           "Asador De Pollos",
           31
          ],
          [
           "kebab express & fried chicken",
           43
          ],
          [
           "Manhattan Lounge",
           101
          ],
          [
           "Cafetería Restaurante Puerta de Pinto",
           382
          ],
          [
           "Domino's Pizza",
           1475
          ],
          [
           "Bar Grana y Oro",
           316
          ],
          [
           "American Retro Diner",
           2
          ],
          [
           "Finca, La Nueva",
           64
          ],
          [
           "Pincho Doner Kebab",
           159
          ],
          [
           "Voy Volando Pinto",
           214
          ],
          [
           "Princesa Café & Bar",
           349
          ],
          [
           "Cafeteria Restaurante",
           37
          ],
          [
           "EL ROBLE",
           36
          ],
          [
           "Restaurante Casa Fermín",
           704
          ]
         ],
         "hovertemplate": "id=%{x}<br>rate=%{y}<br>nombre=%{customdata[0]}<br>resenas=%{customdata[1]}<extra></extra>",
         "legendgroup": "",
         "marker": {
          "color": "#636efa",
          "symbol": "circle"
         },
         "mode": "markers",
         "name": "",
         "orientation": "v",
         "showlegend": false,
         "type": "scatter",
         "x": [
          354,
          355,
          356,
          357,
          358,
          359,
          360,
          361,
          362,
          363,
          364,
          365,
          366,
          367,
          368,
          369,
          370,
          372,
          373,
          374,
          375,
          376,
          377,
          378,
          379,
          380,
          381,
          382,
          383,
          384,
          385,
          386,
          387,
          388,
          389,
          390,
          391,
          392,
          393,
          395,
          396,
          397,
          398,
          399,
          400,
          403,
          404,
          405,
          408,
          409,
          410,
          411,
          415,
          416,
          417,
          418,
          419,
          421,
          427,
          428,
          429,
          430,
          431,
          432,
          433,
          434,
          435,
          436,
          437,
          438,
          439,
          440,
          441,
          442,
          443,
          444,
          445,
          446,
          450,
          451,
          452,
          453,
          454,
          456,
          457,
          458,
          459,
          460,
          461,
          462,
          463,
          464,
          465,
          466,
          467,
          468,
          469,
          470,
          471,
          472,
          473,
          474,
          475,
          476,
          477,
          478,
          479,
          482,
          483,
          484,
          485,
          486,
          487,
          488,
          489,
          490,
          491,
          494,
          495,
          496,
          497,
          498,
          499,
          500,
          501,
          502,
          503,
          505,
          506,
          507,
          508,
          509,
          510,
          511,
          512,
          513,
          514,
          515,
          516,
          517,
          518,
          519,
          520,
          521,
          522,
          523,
          524,
          525,
          526,
          527,
          528,
          529,
          530,
          532,
          533,
          534,
          535,
          536,
          537,
          538,
          539,
          540,
          541,
          542,
          545,
          546,
          547,
          548,
          549,
          550,
          551,
          552,
          553,
          554,
          555,
          556,
          557,
          558,
          559,
          560,
          561,
          562,
          563,
          564,
          565,
          566,
          567,
          568,
          569,
          570,
          571,
          572,
          573,
          574,
          575,
          576,
          577,
          578,
          579,
          580,
          581,
          582,
          583,
          584,
          585,
          586,
          587,
          588,
          589,
          590,
          591,
          592,
          593,
          594,
          595,
          596,
          597,
          598,
          599,
          600,
          601,
          602,
          603,
          604,
          605,
          606,
          607,
          608,
          609,
          610,
          611,
          612,
          613,
          614,
          615,
          616,
          617,
          618,
          619,
          620,
          621,
          622,
          623,
          624,
          625,
          626,
          627,
          628,
          629,
          630,
          631,
          632,
          633,
          634,
          635,
          637,
          638,
          639,
          640,
          641,
          642,
          643,
          644,
          645,
          646,
          647,
          648,
          649,
          651,
          652,
          653,
          654,
          655,
          656,
          657,
          658,
          659,
          660,
          662,
          663,
          664,
          665,
          666,
          667,
          668,
          669,
          670,
          671,
          672,
          673,
          674,
          675,
          676,
          677,
          678,
          679,
          681,
          683,
          684,
          685,
          686,
          687,
          688,
          689,
          690,
          691,
          692,
          696,
          697,
          698,
          699,
          700,
          701,
          702,
          703,
          704,
          705,
          706,
          709,
          713,
          714,
          715,
          716,
          717,
          718,
          719,
          720,
          721,
          722,
          723,
          724,
          725,
          726,
          727,
          728,
          729,
          730,
          731,
          732,
          733,
          734,
          735,
          736,
          737,
          738,
          739,
          740,
          741,
          742,
          743,
          744,
          745,
          746,
          747,
          748,
          749,
          750,
          751,
          752,
          754,
          755,
          757,
          758
         ],
         "xaxis": "x",
         "y": [
          4.2,
          4.1,
          4.5,
          4.5,
          4.5,
          3.9,
          3.9,
          4.2,
          4.1,
          3.8,
          4.3,
          4.3,
          3.9,
          4.6,
          4.3,
          4,
          4.7,
          4.3,
          4.2,
          4.2,
          4.1,
          4.4,
          4.2,
          4.2,
          4.2,
          4.1,
          4,
          4.6,
          4.4,
          4.5,
          4.2,
          4.2,
          4.3,
          3.9,
          3.7,
          3.8,
          4.7,
          4.6,
          4.4,
          4.6,
          4,
          4.2,
          4,
          4.3,
          4.6,
          3.7,
          4.3,
          4,
          4.6,
          4.2,
          3.9,
          4.5,
          4.1,
          4.5,
          4.2,
          2.5,
          4.2,
          4.3,
          4.6,
          4.4,
          4.8,
          4.3,
          4.5,
          4.1,
          4.6,
          4.2,
          4.4,
          4.8,
          3.8,
          4.3,
          4.5,
          4.4,
          4.1,
          4.3,
          4.4,
          4,
          4.2,
          4.1,
          4.5,
          4.6,
          4.6,
          4.3,
          4.6,
          4.3,
          4.4,
          3.9,
          4.7,
          4.4,
          3.9,
          4.2,
          4.3,
          4.2,
          4.4,
          4.6,
          4.1,
          4.6,
          4.4,
          4.7,
          4.9,
          4.5,
          4.3,
          3.9,
          4.5,
          4.2,
          3.7,
          2.5,
          4,
          4.1,
          4.1,
          4.2,
          4.3,
          3.8,
          4,
          4.5,
          4.3,
          4.6,
          4.4,
          4.4,
          4.4,
          4.5,
          4.7,
          4.3,
          4.3,
          4.1,
          4.1,
          4.5,
          4.2,
          4.1,
          4,
          4.3,
          4.1,
          3.9,
          4.5,
          4.3,
          4.4,
          4.3,
          4.2,
          4.2,
          4.3,
          4.2,
          4.2,
          4.5,
          4.2,
          4.5,
          4.2,
          4.2,
          4,
          4.2,
          4.4,
          4.1,
          4.3,
          4.3,
          4.7,
          4.2,
          3.9,
          4.5,
          4.1,
          4.3,
          4.7,
          4.3,
          4.5,
          4.6,
          4.2,
          4.5,
          3.7,
          3.8,
          4.3,
          3.9,
          4,
          4,
          4.1,
          3.8,
          3.8,
          4.3,
          4,
          4.2,
          3.8,
          4.3,
          4.7,
          4.3,
          3.9,
          3.9,
          4.3,
          4,
          4.2,
          4.3,
          4.1,
          4.1,
          4.3,
          3.6,
          3.8,
          4.6,
          3.9,
          4.9,
          4.1,
          4.2,
          4.2,
          4.2,
          4.2,
          3.9,
          4.1,
          4.9,
          5,
          4.2,
          3.8,
          4.9,
          4,
          2.5,
          4,
          4.4,
          3.6,
          4.6,
          3.7,
          4.4,
          4,
          3,
          4.1,
          3.7,
          4.2,
          4.3,
          2.5,
          3.9,
          3.5,
          4.5,
          4.4,
          3.6,
          3.7,
          3.8,
          5,
          2.5,
          4.4,
          4.5,
          4.1,
          4.9,
          5,
          3.9,
          4,
          3.7,
          5,
          3.9,
          4.2,
          4.3,
          4,
          4.3,
          4.2,
          3.9,
          4,
          4.4,
          4,
          4,
          4.5,
          4.3,
          3.8,
          4.3,
          4.4,
          4.1,
          4.2,
          4.7,
          4.6,
          4.1,
          4.6,
          4,
          4.2,
          4.3,
          4.2,
          3.9,
          4.3,
          4.4,
          4.1,
          3.8,
          2.5,
          5,
          4,
          4.7,
          3.9,
          4.3,
          4.8,
          4.5,
          4.6,
          4.1,
          4.5,
          4.1,
          4.6,
          4.1,
          4.6,
          4.9,
          4.2,
          3.6,
          4.5,
          4.3,
          4.4,
          4.3,
          4.3,
          4.3,
          2.5,
          4.8,
          4.4,
          2.3,
          4.2,
          3.3,
          3.9,
          4.2,
          4.7,
          2.5,
          4.6,
          4.4,
          3.5,
          4.3,
          2.5,
          4.9,
          4.3,
          4.6,
          4,
          4.5,
          4,
          4.4,
          4.6,
          4.3,
          4,
          3.6,
          4.2,
          3.6,
          4.1,
          3.4,
          3.9,
          3.8,
          4.3,
          4.3,
          4.4,
          4,
          4.3,
          3.9,
          3.5,
          3.1,
          4.5,
          4.4,
          4.3,
          4,
          3.5,
          4.8,
          3.9,
          4.5,
          3.3,
          3.2,
          3,
          4.2,
          3.8,
          3.9,
          4,
          4,
          3.3,
          4.5,
          4.1,
          4,
          4.3,
          1.5,
          3.9,
          3.9,
          4.3,
          3.9,
          4,
          4.2,
          4.3
         ],
         "yaxis": "y"
        }
       ],
       "layout": {
        "legend": {
         "tracegroupgap": 0
        },
        "margin": {
         "t": 60
        },
        "template": {
         "data": {
          "bar": [
           {
            "error_x": {
             "color": "#2a3f5f"
            },
            "error_y": {
             "color": "#2a3f5f"
            },
            "marker": {
             "line": {
              "color": "#E5ECF6",
              "width": 0.5
             },
             "pattern": {
              "fillmode": "overlay",
              "size": 10,
              "solidity": 0.2
             }
            },
            "type": "bar"
           }
          ],
          "barpolar": [
           {
            "marker": {
             "line": {
              "color": "#E5ECF6",
              "width": 0.5
             },
             "pattern": {
              "fillmode": "overlay",
              "size": 10,
              "solidity": 0.2
             }
            },
            "type": "barpolar"
           }
          ],
          "carpet": [
           {
            "aaxis": {
             "endlinecolor": "#2a3f5f",
             "gridcolor": "white",
             "linecolor": "white",
             "minorgridcolor": "white",
             "startlinecolor": "#2a3f5f"
            },
            "baxis": {
             "endlinecolor": "#2a3f5f",
             "gridcolor": "white",
             "linecolor": "white",
             "minorgridcolor": "white",
             "startlinecolor": "#2a3f5f"
            },
            "type": "carpet"
           }
          ],
          "choropleth": [
           {
            "colorbar": {
             "outlinewidth": 0,
             "ticks": ""
            },
            "type": "choropleth"
           }
          ],
          "contour": [
           {
            "colorbar": {
             "outlinewidth": 0,
             "ticks": ""
            },
            "colorscale": [
             [
              0,
              "#0d0887"
             ],
             [
              0.1111111111111111,
              "#46039f"
             ],
             [
              0.2222222222222222,
              "#7201a8"
             ],
             [
              0.3333333333333333,
              "#9c179e"
             ],
             [
              0.4444444444444444,
              "#bd3786"
             ],
             [
              0.5555555555555556,
              "#d8576b"
             ],
             [
              0.6666666666666666,
              "#ed7953"
             ],
             [
              0.7777777777777778,
              "#fb9f3a"
             ],
             [
              0.8888888888888888,
              "#fdca26"
             ],
             [
              1,
              "#f0f921"
             ]
            ],
            "type": "contour"
           }
          ],
          "contourcarpet": [
           {
            "colorbar": {
             "outlinewidth": 0,
             "ticks": ""
            },
            "type": "contourcarpet"
           }
          ],
          "heatmap": [
           {
            "colorbar": {
             "outlinewidth": 0,
             "ticks": ""
            },
            "colorscale": [
             [
              0,
              "#0d0887"
             ],
             [
              0.1111111111111111,
              "#46039f"
             ],
             [
              0.2222222222222222,
              "#7201a8"
             ],
             [
              0.3333333333333333,
              "#9c179e"
             ],
             [
              0.4444444444444444,
              "#bd3786"
             ],
             [
              0.5555555555555556,
              "#d8576b"
             ],
             [
              0.6666666666666666,
              "#ed7953"
             ],
             [
              0.7777777777777778,
              "#fb9f3a"
             ],
             [
              0.8888888888888888,
              "#fdca26"
             ],
             [
              1,
              "#f0f921"
             ]
            ],
            "type": "heatmap"
           }
          ],
          "heatmapgl": [
           {
            "colorbar": {
             "outlinewidth": 0,
             "ticks": ""
            },
            "colorscale": [
             [
              0,
              "#0d0887"
             ],
             [
              0.1111111111111111,
              "#46039f"
             ],
             [
              0.2222222222222222,
              "#7201a8"
             ],
             [
              0.3333333333333333,
              "#9c179e"
             ],
             [
              0.4444444444444444,
              "#bd3786"
             ],
             [
              0.5555555555555556,
              "#d8576b"
             ],
             [
              0.6666666666666666,
              "#ed7953"
             ],
             [
              0.7777777777777778,
              "#fb9f3a"
             ],
             [
              0.8888888888888888,
              "#fdca26"
             ],
             [
              1,
              "#f0f921"
             ]
            ],
            "type": "heatmapgl"
           }
          ],
          "histogram": [
           {
            "marker": {
             "pattern": {
              "fillmode": "overlay",
              "size": 10,
              "solidity": 0.2
             }
            },
            "type": "histogram"
           }
          ],
          "histogram2d": [
           {
            "colorbar": {
             "outlinewidth": 0,
             "ticks": ""
            },
            "colorscale": [
             [
              0,
              "#0d0887"
             ],
             [
              0.1111111111111111,
              "#46039f"
             ],
             [
              0.2222222222222222,
              "#7201a8"
             ],
             [
              0.3333333333333333,
              "#9c179e"
             ],
             [
              0.4444444444444444,
              "#bd3786"
             ],
             [
              0.5555555555555556,
              "#d8576b"
             ],
             [
              0.6666666666666666,
              "#ed7953"
             ],
             [
              0.7777777777777778,
              "#fb9f3a"
             ],
             [
              0.8888888888888888,
              "#fdca26"
             ],
             [
              1,
              "#f0f921"
             ]
            ],
            "type": "histogram2d"
           }
          ],
          "histogram2dcontour": [
           {
            "colorbar": {
             "outlinewidth": 0,
             "ticks": ""
            },
            "colorscale": [
             [
              0,
              "#0d0887"
             ],
             [
              0.1111111111111111,
              "#46039f"
             ],
             [
              0.2222222222222222,
              "#7201a8"
             ],
             [
              0.3333333333333333,
              "#9c179e"
             ],
             [
              0.4444444444444444,
              "#bd3786"
             ],
             [
              0.5555555555555556,
              "#d8576b"
             ],
             [
              0.6666666666666666,
              "#ed7953"
             ],
             [
              0.7777777777777778,
              "#fb9f3a"
             ],
             [
              0.8888888888888888,
              "#fdca26"
             ],
             [
              1,
              "#f0f921"
             ]
            ],
            "type": "histogram2dcontour"
           }
          ],
          "mesh3d": [
           {
            "colorbar": {
             "outlinewidth": 0,
             "ticks": ""
            },
            "type": "mesh3d"
           }
          ],
          "parcoords": [
           {
            "line": {
             "colorbar": {
              "outlinewidth": 0,
              "ticks": ""
             }
            },
            "type": "parcoords"
           }
          ],
          "pie": [
           {
            "automargin": true,
            "type": "pie"
           }
          ],
          "scatter": [
           {
            "fillpattern": {
             "fillmode": "overlay",
             "size": 10,
             "solidity": 0.2
            },
            "type": "scatter"
           }
          ],
          "scatter3d": [
           {
            "line": {
             "colorbar": {
              "outlinewidth": 0,
              "ticks": ""
             }
            },
            "marker": {
             "colorbar": {
              "outlinewidth": 0,
              "ticks": ""
             }
            },
            "type": "scatter3d"
           }
          ],
          "scattercarpet": [
           {
            "marker": {
             "colorbar": {
              "outlinewidth": 0,
              "ticks": ""
             }
            },
            "type": "scattercarpet"
           }
          ],
          "scattergeo": [
           {
            "marker": {
             "colorbar": {
              "outlinewidth": 0,
              "ticks": ""
             }
            },
            "type": "scattergeo"
           }
          ],
          "scattergl": [
           {
            "marker": {
             "colorbar": {
              "outlinewidth": 0,
              "ticks": ""
             }
            },
            "type": "scattergl"
           }
          ],
          "scattermapbox": [
           {
            "marker": {
             "colorbar": {
              "outlinewidth": 0,
              "ticks": ""
             }
            },
            "type": "scattermapbox"
           }
          ],
          "scatterpolar": [
           {
            "marker": {
             "colorbar": {
              "outlinewidth": 0,
              "ticks": ""
             }
            },
            "type": "scatterpolar"
           }
          ],
          "scatterpolargl": [
           {
            "marker": {
             "colorbar": {
              "outlinewidth": 0,
              "ticks": ""
             }
            },
            "type": "scatterpolargl"
           }
          ],
          "scatterternary": [
           {
            "marker": {
             "colorbar": {
              "outlinewidth": 0,
              "ticks": ""
             }
            },
            "type": "scatterternary"
           }
          ],
          "surface": [
           {
            "colorbar": {
             "outlinewidth": 0,
             "ticks": ""
            },
            "colorscale": [
             [
              0,
              "#0d0887"
             ],
             [
              0.1111111111111111,
              "#46039f"
             ],
             [
              0.2222222222222222,
              "#7201a8"
             ],
             [
              0.3333333333333333,
              "#9c179e"
             ],
             [
              0.4444444444444444,
              "#bd3786"
             ],
             [
              0.5555555555555556,
              "#d8576b"
             ],
             [
              0.6666666666666666,
              "#ed7953"
             ],
             [
              0.7777777777777778,
              "#fb9f3a"
             ],
             [
              0.8888888888888888,
              "#fdca26"
             ],
             [
              1,
              "#f0f921"
             ]
            ],
            "type": "surface"
           }
          ],
          "table": [
           {
            "cells": {
             "fill": {
              "color": "#EBF0F8"
             },
             "line": {
              "color": "white"
             }
            },
            "header": {
             "fill": {
              "color": "#C8D4E3"
             },
             "line": {
              "color": "white"
             }
            },
            "type": "table"
           }
          ]
         },
         "layout": {
          "annotationdefaults": {
           "arrowcolor": "#2a3f5f",
           "arrowhead": 0,
           "arrowwidth": 1
          },
          "autotypenumbers": "strict",
          "coloraxis": {
           "colorbar": {
            "outlinewidth": 0,
            "ticks": ""
           }
          },
          "colorscale": {
           "diverging": [
            [
             0,
             "#8e0152"
            ],
            [
             0.1,
             "#c51b7d"
            ],
            [
             0.2,
             "#de77ae"
            ],
            [
             0.3,
             "#f1b6da"
            ],
            [
             0.4,
             "#fde0ef"
            ],
            [
             0.5,
             "#f7f7f7"
            ],
            [
             0.6,
             "#e6f5d0"
            ],
            [
             0.7,
             "#b8e186"
            ],
            [
             0.8,
             "#7fbc41"
            ],
            [
             0.9,
             "#4d9221"
            ],
            [
             1,
             "#276419"
            ]
           ],
           "sequential": [
            [
             0,
             "#0d0887"
            ],
            [
             0.1111111111111111,
             "#46039f"
            ],
            [
             0.2222222222222222,
             "#7201a8"
            ],
            [
             0.3333333333333333,
             "#9c179e"
            ],
            [
             0.4444444444444444,
             "#bd3786"
            ],
            [
             0.5555555555555556,
             "#d8576b"
            ],
            [
             0.6666666666666666,
             "#ed7953"
            ],
            [
             0.7777777777777778,
             "#fb9f3a"
            ],
            [
             0.8888888888888888,
             "#fdca26"
            ],
            [
             1,
             "#f0f921"
            ]
           ],
           "sequentialminus": [
            [
             0,
             "#0d0887"
            ],
            [
             0.1111111111111111,
             "#46039f"
            ],
            [
             0.2222222222222222,
             "#7201a8"
            ],
            [
             0.3333333333333333,
             "#9c179e"
            ],
            [
             0.4444444444444444,
             "#bd3786"
            ],
            [
             0.5555555555555556,
             "#d8576b"
            ],
            [
             0.6666666666666666,
             "#ed7953"
            ],
            [
             0.7777777777777778,
             "#fb9f3a"
            ],
            [
             0.8888888888888888,
             "#fdca26"
            ],
            [
             1,
             "#f0f921"
            ]
           ]
          },
          "colorway": [
           "#636efa",
           "#EF553B",
           "#00cc96",
           "#ab63fa",
           "#FFA15A",
           "#19d3f3",
           "#FF6692",
           "#B6E880",
           "#FF97FF",
           "#FECB52"
          ],
          "font": {
           "color": "#2a3f5f"
          },
          "geo": {
           "bgcolor": "white",
           "lakecolor": "white",
           "landcolor": "#E5ECF6",
           "showlakes": true,
           "showland": true,
           "subunitcolor": "white"
          },
          "hoverlabel": {
           "align": "left"
          },
          "hovermode": "closest",
          "mapbox": {
           "style": "light"
          },
          "paper_bgcolor": "white",
          "plot_bgcolor": "#E5ECF6",
          "polar": {
           "angularaxis": {
            "gridcolor": "white",
            "linecolor": "white",
            "ticks": ""
           },
           "bgcolor": "#E5ECF6",
           "radialaxis": {
            "gridcolor": "white",
            "linecolor": "white",
            "ticks": ""
           }
          },
          "scene": {
           "xaxis": {
            "backgroundcolor": "#E5ECF6",
            "gridcolor": "white",
            "gridwidth": 2,
            "linecolor": "white",
            "showbackground": true,
            "ticks": "",
            "zerolinecolor": "white"
           },
           "yaxis": {
            "backgroundcolor": "#E5ECF6",
            "gridcolor": "white",
            "gridwidth": 2,
            "linecolor": "white",
            "showbackground": true,
            "ticks": "",
            "zerolinecolor": "white"
           },
           "zaxis": {
            "backgroundcolor": "#E5ECF6",
            "gridcolor": "white",
            "gridwidth": 2,
            "linecolor": "white",
            "showbackground": true,
            "ticks": "",
            "zerolinecolor": "white"
           }
          },
          "shapedefaults": {
           "line": {
            "color": "#2a3f5f"
           }
          },
          "ternary": {
           "aaxis": {
            "gridcolor": "white",
            "linecolor": "white",
            "ticks": ""
           },
           "baxis": {
            "gridcolor": "white",
            "linecolor": "white",
            "ticks": ""
           },
           "bgcolor": "#E5ECF6",
           "caxis": {
            "gridcolor": "white",
            "linecolor": "white",
            "ticks": ""
           }
          },
          "title": {
           "x": 0.05
          },
          "xaxis": {
           "automargin": true,
           "gridcolor": "white",
           "linecolor": "white",
           "ticks": "",
           "title": {
            "standoff": 15
           },
           "zerolinecolor": "white",
           "zerolinewidth": 2
          },
          "yaxis": {
           "automargin": true,
           "gridcolor": "white",
           "linecolor": "white",
           "ticks": "",
           "title": {
            "standoff": 15
           },
           "zerolinecolor": "white",
           "zerolinewidth": 2
          }
         }
        },
        "xaxis": {
         "anchor": "y",
         "domain": [
          0,
          1
         ],
         "title": {
          "text": "id"
         }
        },
        "yaxis": {
         "anchor": "x",
         "domain": [
          0,
          1
         ],
         "title": {
          "text": "rate"
         }
        }
       }
      },
      "text/html": [
       "<div>                            <div id=\"7ced4245-77b8-482f-8bc5-e7ba278585df\" class=\"plotly-graph-div\" style=\"height:525px; width:100%;\"></div>            <script type=\"text/javascript\">                require([\"plotly\"], function(Plotly) {                    window.PLOTLYENV=window.PLOTLYENV || {};                                    if (document.getElementById(\"7ced4245-77b8-482f-8bc5-e7ba278585df\")) {                    Plotly.newPlot(                        \"7ced4245-77b8-482f-8bc5-e7ba278585df\",                        [{\"customdata\":[[\"Restaurante El Rinc\\u00f3n Asturiano\",3871.0],[\"Restaurante Fortunata\",519.0],[\"LA TAGUARA By Guayana Mia S.L\",617.0],[\"Bar \\\"Divino Tinto\\\"\",832.0],[\"Kia Ora\",126.0],[\"La Flor de Asturias\",307.0],[\"Mes\\u00f3n La Casina\",315.0],[\"Macarena Madrid\",1734.0],[\"La Madre\\u00f1a\",2443.0],[\"Puerto Maior\",1057.0],[\"Restaurante Asturias\",2377.0],[\"Dominguez\",546.0],[\"Do\\u00f1a Lambra\",285.0],[\"Restaurante - La Confusa\",264.0],[\"Mes\\u00f3n Las Regiones\",772.0],[\"Restaurante Cafeter\\u00eda Trasmontana\",636.0],[\"Los Metales Bar&Kitchen\",898.0],[\"Los Casta\\u00f1os\",1335.0],[\"Casa Maxi\",357.0],[\"Restaurante Arturo's M\\u00e9ndez \\u00c1lvaro Buenos c\\u00f3cteles pollo asado cerveza Atocha\",1038.0],[\"Muxia\",679.0],[\"Restaurante Hor\\u00f3scopo\",386.0],[\"Bistro Bar Restaurante\",291.0],[\"Restaurante Buen Gusto\",1709.0],[\"A \\u00d1ora\",486.0],[\"Casa Pedro\",345.0],[\"Restaurante Nico\",1.0],[\"Restaurante Arequepay\",1139.0],[\"ALMA CHELI MATADERO\",891.0],[\"Restaurante Casa Luc\\u00eda\",368.0],[\"Restaurante Os'Peregrinos\",228.0],[\"Restaurante Mitad del Mundo\",365.0],[\"Parisien\",277.0],[\"Sidrer\\u00eda Restaurante La Casona\",380.0],[\"La Cantina del Matadero\",912.0],[\"El Tiz\\u00f3n\",512.0],[\"Bar Men\\u00e9ndez\",38.0],[\"Chipa Ferrocarril\",116.0],[\"Arrocer\\u00eda Imperial\",1030.0],[\"COCINA 34\",162.0],[\"Restaurante Cantalejo\",767.0],[\"Restaurante Mis Tradiciones\",1428.0],[\"El Rinc\\u00f3n de Asturias\",211.0],[\"Lola Pu\\u00f1ales\",272.0],[\"El Rinc\\u00f3n A-Gusto\",16.0],[\"Restaurante O\\u2019Ribeiri\\u00f1o\",637.0],[\"Cangas Restaurante\",529.0],[\"Restaurante Cantespino\",259.0],[\"El Rat\\u00f3n De Getaria\",195.0],[\"Restaurante Oviedo\",2456.0],[\"Restaurante Atrapallada\",2781.0],[\"Pintxoteca\",159.0],[\"El Ideal\",426.0],[\"Juana la Loca\",4502.0],[\"Restaurante el Madro\\u00f1o\",2035.0],[\"Restaurants La Chata\",0.0],[\"Restaurante Mis Tradiciones\",2275.0],[\"Cafeter\\u00eda Favorite Restaurante\",186.0],[\"Restaurante Esteban\",474.0],[\"Guang Dong City (GD Cuisine)\",793.0],[\"El sue\\u00f1o de Carmen\",157.0],[\"Sahuaro Madrid\",1815.0],[\"La Perejila\",1603.0],[\"Sidrer\\u00eda Asgaya\",1501.0],[\"Arrocer\\u00eda D'stapa Madrid\",1124.0],[\"Restaurante Italiano Emma y Julia\",1635.0],[\"La Paloma\",923.0],[\"Burmet\",493.0],[\"Cantalejo\",952.0],[\"Taberna Alba's\",294.0],[\"Posada de la Villa\",2259.0],[\"Bar Restaurante La esquina del Calder\\u00f3n\",856.0],[\"La Taberna De Mi Abuelo\",665.0],[\"El Novo Escal\\u00f3n\",344.0],[\"MEGU\",747.0],[\"Cervecer\\u00eda Restaurante El Alc\\u00e1zar\",210.0],[\"Bar Restaurante La Herradura\",168.0],[\"Restaurante O'Boi\",271.0],[\"Somolinos\",220.0],[\"Mafrens\",560.0],[\"Restaurante Gibraltar\",797.0],[\"Restaurante Seoul\",957.0],[\"Restaurante Japon\\u00e9s - RAKU SUSHI\",583.0],[\"Casa Lucio\",6992.0],[\"Taberna del Capit\\u00e1n Alatriste\",1823.0],[\"Restaurante O Breog\\u00e1n\",286.0],[\"Taberna Piedra Pinta\",131.0],[\"Asador M\\u00e1laga\",152.0],[\"Terraza La Playa Madrid R\\u00edo\",1429.0],[\"Asador \\\"LOS TRONQUITOS\\\"\",367.0],[\"Restaurante Amicis\",1045.0],[\"La Anto\\u00f1ita\",738.0],[\"Casa Victor\",384.0],[\"El Land\\u00f3\",740.0],[\"Restaurante Para\\u00edso\",139.0],[\"Cervecer\\u00eda El Ca\\u00f1o\",547.0],[\"CHIFA Maca\",1310.0],[\"Toga Restaurante\",1732.0],[\"Don Asador Madrid. Parrilla restaurante argentino.\",726.0],[\"Ronda\",266.0],[\"Casa Arm\\u00e1n\",512.0],[\"La Barca del Patio\",1870.0],[\"Taberna La Concha\",2008.0],[\"Restaurante La Malaje\",749.0],[\"La Muralla\",700.0],[\"GastroBar de la Tierra\",0.0],[\"Naia\",730.0],[\"de Madrid\",283.0],[\"Restaurante Basarri Terraza\",844.0],[\"Bar Restaurante Donde Jos\\u00e9\",123.0],[\"La Esquina Peruana\",650.0],[\"La Casa de Zhou\",153.0],[\"Ginos\",1240.0],[\"Casa Lucas\",1118.0],[\"Bar Sidrer\\u00eda Aviseo\",238.0],[\"Pizzer\\u00eda Arezzo\",211.0],[\"Uskar\",1207.0],[\"Malacat\\u00edn\",2397.0],[\"El Capricho Extreme\\u00f1o\",875.0],[\"La Posada del Nuncio\",449.0],[\"SUSHI MOLA The Crab House.Restaurante Japon\\u00e9s Madrid.\",209.0],[\"Casa Juli\\u00e1n de Tolosa\",940.0],[\"La Nueva Martina\",1234.0],[\"Los Huevos de Lucio\",3713.0],[\"Cafeter\\u00eda Restaurante Imperial IV\",167.0],[\"Restaurante Argentino El Camoat\\u00ed\",1250.0],[\"Restaurante Los \\u00c1ngeles\",794.0],[\"Restaurante LUSI\",354.0],[\"Bar Ronda\",615.0],[\"Cafeter\\u00eda Pontones\",503.0],[\"Restaurante Fan Hua\",264.0],[\"Rodilla\",419.0],[\"Bipolar casa de comidas 2.0\",502.0],[\"Cocinante\",97.0],[\"El Fog\\u00f3n de Usera\",462.0],[\"La Taberna de Usera\",234.0],[\"La Parrilla de Usera\",1017.0],[\"La Cuchara Restaurante Asador\",196.0],[\"Restaurante La Parrilla De Usera\",2824.0],[\"La Casa del Pulpo\",1011.0],[\"Restaurante FEITO USERA\",901.0],[\"Restaurante Pasamar\",349.0],[\"Restaurante Lao Tou\",1023.0],[\"Bodega Amistad\",440.0],[\"El Rinc\\u00f3n de Alina - Bar Restaurante\",357.0],[\"Mr. Doulao (Madrid)\",480.0],[\"Restaurante La Bra\\u00f1a\",1659.0],[\"La Terracita. Campo De Rugby\",731.0],[\"Igopasta\",1442.0],[\"Restaurante Marisco Guo Rong\",619.0],[\"La Marieta\",141.0],[\"La Estancia Parrilla Usera\",429.0],[\"El Carb\\u00f3n De Granada\",703.0],[\"A'barca Muxia\",1115.0],[\"Restaurante La Barca\",280.0],[\"Usera \\u9762\\u9999\\u7f18\",105.0],[\"Feito R\\u00edo\",1859.0],[\"Restaurante la Fonda de Colombia ~ Comida T\\u00edpica Colombiana\",1866.0],[\"Taberna Andaluza Sacromonte\",261.0],[\"LA AUTENTICA\",95.0],[\"Al Carb\\u00f3n restaurante\",233.0],[\"Asador de Pollos Usera\",115.0],[\"La Posada de Coti\",807.0],[\"Cervecer\\u00eda LA CURIOSA\",481.0],[\"La abuela Aleja sabor peruano\",115.0],[\"La Alegr\\u00eda De Enrique\",149.0],[\"Royal Canton\\u00e9s\",2718.0],[\"Bar Restaurante Las Palmeras\",87.0],[\"Casa Mariano\",1986.0],[\"Perla del Pacifico\",806.0],[\"Restaurante Monteferro\",193.0],[\"O Freixo\",1775.0],[\"Restaurante Brasayle\\u00f1a CC Plaza R\\u00edo 2\",2450.0],[\"El Sabroso\",55.0],[\"Los Cantaritos\",194.0],[\"Wanlixiang\",127.0],[\"El Obrero\",162.0],[\"Helaotai (Madrid)\",402.0],[\"Chic & Trick Bar-Restaurante\",116.0],[\"La Nueva Terraza Verde\",230.0],[\"Gilan Restaurante\",496.0],[\"Real turkito\",67.0],[\"Casa Ciri\",198.0],[\"RESTAURANTE CASA BLANCA\",141.0],[\"Restaurante Boliviano Madrid - VIPBAR\",821.0],[\"\\u5ddd\\u8fa3\\u9999\\u90fd Restaurante Sichuan\",202.0],[\"Jaleos\",402.0],[\"Jordan Gala Restaurante Cafe Bar\",1566.0],[\"Restaurante Asador Veliz\",4.0],[\"Barbacoa\",76.0],[\"Restaurante ~ La Perla Boliviana 2\",726.0],[\"Restaurante Ecu-tropical\",157.0],[\"Restaurante Sabor Chiclayano\",93.0],[\"Restaurante BAMMBAO \\u6253\\u5305\\uff01(TIBU)\",356.0],[\"Pasta Wok\",55.0],[\"Cordero\",75.0],[\"Jin Yun Shao Bing\",222.0],[\"Restaurante Jin Gu\",329.0],[\"La Sazon Boliviana\",66.0],[\"Terraza Moscard\\u00f3\",918.0],[\"El Cruce\\u00f1o Bar Restaurante\",235.0],[\"QUE BO\",82.0],[\"La Estacion usera\",2.0],[\"Restaurante Rinc\\u00f3n de Andalucia\",137.0],[\"Bar restaurante Los Kali 2\",208.0],[\"MESON VALENCIA\",13.0],[\"Mes\\u00f3n Ocandil\",41.0],[\"Restaurante Parilla Punata\",0.0],[\"Bar Restaurante Nicol\",1.0],[\"Restaurante Zagros\",220.0],[\"Restaurante KFC\",1553.0],[\"VOHEMY RESTAURANTE\",88.0],[\"AREPA OLE \\\"USERA\\\"\",162.0],[\"Alice Pizza\",320.0],[\"Cocina Fresca\",46.0],[\"Restaurante Margarita\",23.0],[\"Chuan Shui Yao Restaurante\",212.0],[\"el fogon ecuatoriano\",356.0],[\"El Tr\\u00e9bol\",6.0],[\"Carn\\u00edvoros BBQ bar parrilla\",341.0],[\"Restaurante Vickar\",0.0],[\"Chernobil\",80.0],[\"Deewey\",667.0],[\"Entre Fuego y Carb\\u00f3n - Restaurante Peruano, Men\\u00fas, Hamburguesas y Carnes al Carb\\u00f3n en Madrid\",244.0],[\"Bar El Aventurero\",58.0],[\"Bar La Alegria\",142.0],[\"Pizza Mirasierra\",66.0],[\"Bodega La Andaluza\",1167.0],[\"Del Santos Restaurante\",1.0],[\"Roc\\u00edo al\",0.0],[\"Mes\\u00f3n La Pe\\u00f1a Soriana\",631.0],[\"Bar Want Kee\",11.0],[\"Pabell\\u00f3n Gathering Edge\",29.0],[\"\\u963f\\u90d1\\u5c0f\\u7092 AZHENG restaurante\",29.0],[\"sabor cafetero\",14.0],[\"MASAMADRE PIZZA USERA\",249.0],[\"BBTO Sabor Carretillero\",53.0],[\"V\\u00e9rtice\",319.0],[\"Restaurante Boliviano Margarita\",1.0],[\"Museo del Jam\\u00f3n\",5430.0],[\"Bar quillacollo\",84.0],[\"Restaurante Marisco\",6.0],[\"Mes\\u00f3n Madridejos\",139.0],[\"GRAN ASADOR DEL SUR\",80.0],[\"MASTER POLLO\",96.0],[\"Restaurante Chino Da Fa (Usera)\",496.0],[\"Bar La Pe\\u00f1a Soriana\",500.0],[\"Bar cafeter\\u00eda aqu\\u00ed me quedo\",10.0],[\"Cocinas del Mundo\",8.0],[\"Pollo Asado Sudam\\u00e9rica\",204.0],[\"Burger john\",228.0],[\"Asador De Pollos Tokio\",141.0],[\"Rodilla\",785.0],[\"Restaurante La Suite del Lago\",2744.0],[\"Mes\\u00f3n Toledano\",808.0],[\"El Barril\",361.0],[\"Puerto Pirata\",1072.0],[\"Garri's\",173.0],[\"Arrivederci Comida Italiana\",658.0],[\"Restaurante el Almendro Pinto\",148.0],[\"La C\\u00faspide Pinto - Restaurante Peruano\",353.0],[\"Asador Parrilla Rinc\\u00f3n De Castilla\",1383.0],[\"El Buen Yantar de Azucena\",92.0],[\"Las Patatas de Javi\",499.0],[\"Mes\\u00f3n Salazar\",101.0],[\"My'Secret\",660.0],[\"Il Vit Restaurante Cafeter\\u00eda\",108.0],[\"Eneria\",85.0],[\"Restaurante Plaza\",348.0],[\"La Posada\",315.0],[\"Restaurante El Buen Comer\",8.0],[\"Restaurante Nadu\",20.0],[\"La cantina de Frida\",207.0],[\"Restaurante Panpintao\",278.0],[\"Jamon Y Vino\",204.0],[\"Crokante\",322.0],[\"Reverso Restaurante\",295.0],[\"Malauva\",224.0],[\"RESTAURANTE EVELIN\",15.0],[\"Restaurante Buenaventura\",901.0],[\"A Fuego Lento\",168.0],[\"El Asador De Pinto\",206.0],[\"Restaurante Punctum\",144.0],[\"La Barber\\u00eda\",887.0],[\"Restaurante Artium\",10.0],[\"Como la trucha al trucho\",51.0],[\"El Apret\\u00f3n II pinto\",703.0],[\"La Capilla Del Parque\",721.0],[\"El Teatro de Baco\",146.0],[\"El Apeadero de Pinto\",168.0],[\"Los Ratitos de Marotti\",211.0],[\"Quintana Bar - Restaurante\",254.0],[\"EBOLI Gastro\",24.0],[\"Restaurante Chinatown\",434.0],[\"Restaurante Maica\",0.0],[\"Asador de Pollos El Buen Gusto\",429.0],[\"Asador \\u00a1C\\u00f3mo como!\",112.0],[\"Restaurante el Cisne\",3.0],[\"Cafeter\\u00eda Romayka de David Aguilar\",419.0],[\"Foster's Hollywood\",859.0],[\"The Wok House\",581.0],[\"La Esperanza\",157.0],[\"La Nave Burger\",232.0],[\"LUSUVER 2018 S.L.U\",0.0],[\"Ponzano\",114.0],[\"Las Delicias Sushi Bar\",411.0],[\"Restaurante LIPARI.\",345.0],[\"Cafeter\\u00eda Trazos\",492.0],[\"Al Barrio\",0.0],[\"Wanderlux 360\\u00ba\",39.0],[\"New pizza pasta\",591.0],[\"\\ud83c\\udf7d\\ufe0f En Blanko Taberna\",98.0],[\"Gela\",492.0],[\"Anteux Burger\",537.0],[\"Restaurante Casa Antonio\",567.0],[\"La Ostra\",324.0],[\"Salvaje GastroBar\",245.0],[\"OnSushi\",285.0],[\"La Mancha\",201.0],[\"Cafeter\\u00eda Gran V\\u00eda\",1299.0],[\"Nova Galicia 2\",448.0],[\"Restaurante 100 Montaditos\",377.0],[\"Han\",451.0],[\"Muerde la Pasta\",399.0],[\"Cervecer\\u00eda Vinoteca LO NUESTRO\",414.0],[\"La Bahia de Cadiz\",239.0],[\"Bar El Rinc\\u00f3n\",123.0],[\"Cervecer\\u00eda Atila\",2188.0],[\"Bar F\\u00e9lix\",261.0],[\"Oasis Cafeter\\u00eda\",155.0],[\"GASTROCHEF comida para llevar\",60.0],[\"Pizzer\\u00eda Carlos | Pinto\",558.0],[\"POMODORO Pizza Pasta Burritos\",180.0],[\"Burger King\",606.0],[\"Bar los Pitufos\",401.0],[\"Bar La R\\u00e1bida.\",148.0],[\"El Pollo Rico\",115.0],[\"Bar El Refugio de Pinto\",459.0],[\"McDonald's\",3144.0],[\"Cerveceria pub Tennessee\",26.0],[\"Chiringuito De Paco\",8.0],[\"Bar Restaurante La Rinconada\",106.0],[\"Restaurante Chino Nueva Muralla\",137.0],[\"Telepizza Pinto - Comida a Domicilio\",483.0],[\"Arrocer\\u00eda de Pinto\",3.0],[\"\\u00c9mal\\u00fa Coffee Bar\",414.0],[\"Kebab\",113.0],[\"Xing\",175.0],[\"Bar Central Tener\\u00eda\",204.0],[\"Asador De Pollos\",31.0],[\"kebab express & fried chicken\",43.0],[\"Manhattan Lounge\",101.0],[\"Cafeter\\u00eda Restaurante Puerta de Pinto\",382.0],[\"Domino's Pizza\",1475.0],[\"Bar Grana y Oro\",316.0],[\"American Retro Diner\",2.0],[\"Finca, La Nueva\",64.0],[\"Pincho Doner Kebab\",159.0],[\"Voy Volando Pinto\",214.0],[\"Princesa Caf\\u00e9 & Bar\",349.0],[\"Cafeteria Restaurante\",37.0],[\"EL ROBLE\",36.0],[\"Restaurante Casa Ferm\\u00edn\",704.0]],\"hovertemplate\":\"id=%{x}<br>rate=%{y}<br>nombre=%{customdata[0]}<br>resenas=%{customdata[1]}<extra></extra>\",\"legendgroup\":\"\",\"marker\":{\"color\":\"#636efa\",\"symbol\":\"circle\"},\"mode\":\"markers\",\"name\":\"\",\"orientation\":\"v\",\"showlegend\":false,\"x\":[354,355,356,357,358,359,360,361,362,363,364,365,366,367,368,369,370,372,373,374,375,376,377,378,379,380,381,382,383,384,385,386,387,388,389,390,391,392,393,395,396,397,398,399,400,403,404,405,408,409,410,411,415,416,417,418,419,421,427,428,429,430,431,432,433,434,435,436,437,438,439,440,441,442,443,444,445,446,450,451,452,453,454,456,457,458,459,460,461,462,463,464,465,466,467,468,469,470,471,472,473,474,475,476,477,478,479,482,483,484,485,486,487,488,489,490,491,494,495,496,497,498,499,500,501,502,503,505,506,507,508,509,510,511,512,513,514,515,516,517,518,519,520,521,522,523,524,525,526,527,528,529,530,532,533,534,535,536,537,538,539,540,541,542,545,546,547,548,549,550,551,552,553,554,555,556,557,558,559,560,561,562,563,564,565,566,567,568,569,570,571,572,573,574,575,576,577,578,579,580,581,582,583,584,585,586,587,588,589,590,591,592,593,594,595,596,597,598,599,600,601,602,603,604,605,606,607,608,609,610,611,612,613,614,615,616,617,618,619,620,621,622,623,624,625,626,627,628,629,630,631,632,633,634,635,637,638,639,640,641,642,643,644,645,646,647,648,649,651,652,653,654,655,656,657,658,659,660,662,663,664,665,666,667,668,669,670,671,672,673,674,675,676,677,678,679,681,683,684,685,686,687,688,689,690,691,692,696,697,698,699,700,701,702,703,704,705,706,709,713,714,715,716,717,718,719,720,721,722,723,724,725,726,727,728,729,730,731,732,733,734,735,736,737,738,739,740,741,742,743,744,745,746,747,748,749,750,751,752,754,755,757,758],\"xaxis\":\"x\",\"y\":[4.2,4.1,4.5,4.5,4.5,3.9,3.9,4.2,4.1,3.8,4.3,4.3,3.9,4.6,4.3,4.0,4.7,4.3,4.2,4.2,4.1,4.4,4.2,4.2,4.2,4.1,4.0,4.6,4.4,4.5,4.2,4.2,4.3,3.9,3.7,3.8,4.7,4.6,4.4,4.6,4.0,4.2,4.0,4.3,4.6,3.7,4.3,4.0,4.6,4.2,3.9,4.5,4.1,4.5,4.2,2.5,4.2,4.3,4.6,4.4,4.8,4.3,4.5,4.1,4.6,4.2,4.4,4.8,3.8,4.3,4.5,4.4,4.1,4.3,4.4,4.0,4.2,4.1,4.5,4.6,4.6,4.3,4.6,4.3,4.4,3.9,4.7,4.4,3.9,4.2,4.3,4.2,4.4,4.6,4.1,4.6,4.4,4.7,4.9,4.5,4.3,3.9,4.5,4.2,3.7,2.5,4.0,4.1,4.1,4.2,4.3,3.8,4.0,4.5,4.3,4.6,4.4,4.4,4.4,4.5,4.7,4.3,4.3,4.1,4.1,4.5,4.2,4.1,4.0,4.3,4.1,3.9,4.5,4.3,4.4,4.3,4.2,4.2,4.3,4.2,4.2,4.5,4.2,4.5,4.2,4.2,4.0,4.2,4.4,4.1,4.3,4.3,4.7,4.2,3.9,4.5,4.1,4.3,4.7,4.3,4.5,4.6,4.2,4.5,3.7,3.8,4.3,3.9,4.0,4.0,4.1,3.8,3.8,4.3,4.0,4.2,3.8,4.3,4.7,4.3,3.9,3.9,4.3,4.0,4.2,4.3,4.1,4.1,4.3,3.6,3.8,4.6,3.9,4.9,4.1,4.2,4.2,4.2,4.2,3.9,4.1,4.9,5.0,4.2,3.8,4.9,4.0,2.5,4.0,4.4,3.6,4.6,3.7,4.4,4.0,3.0,4.1,3.7,4.2,4.3,2.5,3.9,3.5,4.5,4.4,3.6,3.7,3.8,5.0,2.5,4.4,4.5,4.1,4.9,5.0,3.9,4.0,3.7,5.0,3.9,4.2,4.3,4.0,4.3,4.2,3.9,4.0,4.4,4.0,4.0,4.5,4.3,3.8,4.3,4.4,4.1,4.2,4.7,4.6,4.1,4.6,4.0,4.2,4.3,4.2,3.9,4.3,4.4,4.1,3.8,2.5,5.0,4.0,4.7,3.9,4.3,4.8,4.5,4.6,4.1,4.5,4.1,4.6,4.1,4.6,4.9,4.2,3.6,4.5,4.3,4.4,4.3,4.3,4.3,2.5,4.8,4.4,2.3,4.2,3.3,3.9,4.2,4.7,2.5,4.6,4.4,3.5,4.3,2.5,4.9,4.3,4.6,4.0,4.5,4.0,4.4,4.6,4.3,4.0,3.6,4.2,3.6,4.1,3.4,3.9,3.8,4.3,4.3,4.4,4.0,4.3,3.9,3.5,3.1,4.5,4.4,4.3,4.0,3.5,4.8,3.9,4.5,3.3,3.2,3.0,4.2,3.8,3.9,4.0,4.0,3.3,4.5,4.1,4.0,4.3,1.5,3.9,3.9,4.3,3.9,4.0,4.2,4.3],\"yaxis\":\"y\",\"type\":\"scatter\"}],                        {\"template\":{\"data\":{\"histogram2dcontour\":[{\"type\":\"histogram2dcontour\",\"colorbar\":{\"outlinewidth\":0,\"ticks\":\"\"},\"colorscale\":[[0.0,\"#0d0887\"],[0.1111111111111111,\"#46039f\"],[0.2222222222222222,\"#7201a8\"],[0.3333333333333333,\"#9c179e\"],[0.4444444444444444,\"#bd3786\"],[0.5555555555555556,\"#d8576b\"],[0.6666666666666666,\"#ed7953\"],[0.7777777777777778,\"#fb9f3a\"],[0.8888888888888888,\"#fdca26\"],[1.0,\"#f0f921\"]]}],\"choropleth\":[{\"type\":\"choropleth\",\"colorbar\":{\"outlinewidth\":0,\"ticks\":\"\"}}],\"histogram2d\":[{\"type\":\"histogram2d\",\"colorbar\":{\"outlinewidth\":0,\"ticks\":\"\"},\"colorscale\":[[0.0,\"#0d0887\"],[0.1111111111111111,\"#46039f\"],[0.2222222222222222,\"#7201a8\"],[0.3333333333333333,\"#9c179e\"],[0.4444444444444444,\"#bd3786\"],[0.5555555555555556,\"#d8576b\"],[0.6666666666666666,\"#ed7953\"],[0.7777777777777778,\"#fb9f3a\"],[0.8888888888888888,\"#fdca26\"],[1.0,\"#f0f921\"]]}],\"heatmap\":[{\"type\":\"heatmap\",\"colorbar\":{\"outlinewidth\":0,\"ticks\":\"\"},\"colorscale\":[[0.0,\"#0d0887\"],[0.1111111111111111,\"#46039f\"],[0.2222222222222222,\"#7201a8\"],[0.3333333333333333,\"#9c179e\"],[0.4444444444444444,\"#bd3786\"],[0.5555555555555556,\"#d8576b\"],[0.6666666666666666,\"#ed7953\"],[0.7777777777777778,\"#fb9f3a\"],[0.8888888888888888,\"#fdca26\"],[1.0,\"#f0f921\"]]}],\"heatmapgl\":[{\"type\":\"heatmapgl\",\"colorbar\":{\"outlinewidth\":0,\"ticks\":\"\"},\"colorscale\":[[0.0,\"#0d0887\"],[0.1111111111111111,\"#46039f\"],[0.2222222222222222,\"#7201a8\"],[0.3333333333333333,\"#9c179e\"],[0.4444444444444444,\"#bd3786\"],[0.5555555555555556,\"#d8576b\"],[0.6666666666666666,\"#ed7953\"],[0.7777777777777778,\"#fb9f3a\"],[0.8888888888888888,\"#fdca26\"],[1.0,\"#f0f921\"]]}],\"contourcarpet\":[{\"type\":\"contourcarpet\",\"colorbar\":{\"outlinewidth\":0,\"ticks\":\"\"}}],\"contour\":[{\"type\":\"contour\",\"colorbar\":{\"outlinewidth\":0,\"ticks\":\"\"},\"colorscale\":[[0.0,\"#0d0887\"],[0.1111111111111111,\"#46039f\"],[0.2222222222222222,\"#7201a8\"],[0.3333333333333333,\"#9c179e\"],[0.4444444444444444,\"#bd3786\"],[0.5555555555555556,\"#d8576b\"],[0.6666666666666666,\"#ed7953\"],[0.7777777777777778,\"#fb9f3a\"],[0.8888888888888888,\"#fdca26\"],[1.0,\"#f0f921\"]]}],\"surface\":[{\"type\":\"surface\",\"colorbar\":{\"outlinewidth\":0,\"ticks\":\"\"},\"colorscale\":[[0.0,\"#0d0887\"],[0.1111111111111111,\"#46039f\"],[0.2222222222222222,\"#7201a8\"],[0.3333333333333333,\"#9c179e\"],[0.4444444444444444,\"#bd3786\"],[0.5555555555555556,\"#d8576b\"],[0.6666666666666666,\"#ed7953\"],[0.7777777777777778,\"#fb9f3a\"],[0.8888888888888888,\"#fdca26\"],[1.0,\"#f0f921\"]]}],\"mesh3d\":[{\"type\":\"mesh3d\",\"colorbar\":{\"outlinewidth\":0,\"ticks\":\"\"}}],\"scatter\":[{\"fillpattern\":{\"fillmode\":\"overlay\",\"size\":10,\"solidity\":0.2},\"type\":\"scatter\"}],\"parcoords\":[{\"type\":\"parcoords\",\"line\":{\"colorbar\":{\"outlinewidth\":0,\"ticks\":\"\"}}}],\"scatterpolargl\":[{\"type\":\"scatterpolargl\",\"marker\":{\"colorbar\":{\"outlinewidth\":0,\"ticks\":\"\"}}}],\"bar\":[{\"error_x\":{\"color\":\"#2a3f5f\"},\"error_y\":{\"color\":\"#2a3f5f\"},\"marker\":{\"line\":{\"color\":\"#E5ECF6\",\"width\":0.5},\"pattern\":{\"fillmode\":\"overlay\",\"size\":10,\"solidity\":0.2}},\"type\":\"bar\"}],\"scattergeo\":[{\"type\":\"scattergeo\",\"marker\":{\"colorbar\":{\"outlinewidth\":0,\"ticks\":\"\"}}}],\"scatterpolar\":[{\"type\":\"scatterpolar\",\"marker\":{\"colorbar\":{\"outlinewidth\":0,\"ticks\":\"\"}}}],\"histogram\":[{\"marker\":{\"pattern\":{\"fillmode\":\"overlay\",\"size\":10,\"solidity\":0.2}},\"type\":\"histogram\"}],\"scattergl\":[{\"type\":\"scattergl\",\"marker\":{\"colorbar\":{\"outlinewidth\":0,\"ticks\":\"\"}}}],\"scatter3d\":[{\"type\":\"scatter3d\",\"line\":{\"colorbar\":{\"outlinewidth\":0,\"ticks\":\"\"}},\"marker\":{\"colorbar\":{\"outlinewidth\":0,\"ticks\":\"\"}}}],\"scattermapbox\":[{\"type\":\"scattermapbox\",\"marker\":{\"colorbar\":{\"outlinewidth\":0,\"ticks\":\"\"}}}],\"scatterternary\":[{\"type\":\"scatterternary\",\"marker\":{\"colorbar\":{\"outlinewidth\":0,\"ticks\":\"\"}}}],\"scattercarpet\":[{\"type\":\"scattercarpet\",\"marker\":{\"colorbar\":{\"outlinewidth\":0,\"ticks\":\"\"}}}],\"carpet\":[{\"aaxis\":{\"endlinecolor\":\"#2a3f5f\",\"gridcolor\":\"white\",\"linecolor\":\"white\",\"minorgridcolor\":\"white\",\"startlinecolor\":\"#2a3f5f\"},\"baxis\":{\"endlinecolor\":\"#2a3f5f\",\"gridcolor\":\"white\",\"linecolor\":\"white\",\"minorgridcolor\":\"white\",\"startlinecolor\":\"#2a3f5f\"},\"type\":\"carpet\"}],\"table\":[{\"cells\":{\"fill\":{\"color\":\"#EBF0F8\"},\"line\":{\"color\":\"white\"}},\"header\":{\"fill\":{\"color\":\"#C8D4E3\"},\"line\":{\"color\":\"white\"}},\"type\":\"table\"}],\"barpolar\":[{\"marker\":{\"line\":{\"color\":\"#E5ECF6\",\"width\":0.5},\"pattern\":{\"fillmode\":\"overlay\",\"size\":10,\"solidity\":0.2}},\"type\":\"barpolar\"}],\"pie\":[{\"automargin\":true,\"type\":\"pie\"}]},\"layout\":{\"autotypenumbers\":\"strict\",\"colorway\":[\"#636efa\",\"#EF553B\",\"#00cc96\",\"#ab63fa\",\"#FFA15A\",\"#19d3f3\",\"#FF6692\",\"#B6E880\",\"#FF97FF\",\"#FECB52\"],\"font\":{\"color\":\"#2a3f5f\"},\"hovermode\":\"closest\",\"hoverlabel\":{\"align\":\"left\"},\"paper_bgcolor\":\"white\",\"plot_bgcolor\":\"#E5ECF6\",\"polar\":{\"bgcolor\":\"#E5ECF6\",\"angularaxis\":{\"gridcolor\":\"white\",\"linecolor\":\"white\",\"ticks\":\"\"},\"radialaxis\":{\"gridcolor\":\"white\",\"linecolor\":\"white\",\"ticks\":\"\"}},\"ternary\":{\"bgcolor\":\"#E5ECF6\",\"aaxis\":{\"gridcolor\":\"white\",\"linecolor\":\"white\",\"ticks\":\"\"},\"baxis\":{\"gridcolor\":\"white\",\"linecolor\":\"white\",\"ticks\":\"\"},\"caxis\":{\"gridcolor\":\"white\",\"linecolor\":\"white\",\"ticks\":\"\"}},\"coloraxis\":{\"colorbar\":{\"outlinewidth\":0,\"ticks\":\"\"}},\"colorscale\":{\"sequential\":[[0.0,\"#0d0887\"],[0.1111111111111111,\"#46039f\"],[0.2222222222222222,\"#7201a8\"],[0.3333333333333333,\"#9c179e\"],[0.4444444444444444,\"#bd3786\"],[0.5555555555555556,\"#d8576b\"],[0.6666666666666666,\"#ed7953\"],[0.7777777777777778,\"#fb9f3a\"],[0.8888888888888888,\"#fdca26\"],[1.0,\"#f0f921\"]],\"sequentialminus\":[[0.0,\"#0d0887\"],[0.1111111111111111,\"#46039f\"],[0.2222222222222222,\"#7201a8\"],[0.3333333333333333,\"#9c179e\"],[0.4444444444444444,\"#bd3786\"],[0.5555555555555556,\"#d8576b\"],[0.6666666666666666,\"#ed7953\"],[0.7777777777777778,\"#fb9f3a\"],[0.8888888888888888,\"#fdca26\"],[1.0,\"#f0f921\"]],\"diverging\":[[0,\"#8e0152\"],[0.1,\"#c51b7d\"],[0.2,\"#de77ae\"],[0.3,\"#f1b6da\"],[0.4,\"#fde0ef\"],[0.5,\"#f7f7f7\"],[0.6,\"#e6f5d0\"],[0.7,\"#b8e186\"],[0.8,\"#7fbc41\"],[0.9,\"#4d9221\"],[1,\"#276419\"]]},\"xaxis\":{\"gridcolor\":\"white\",\"linecolor\":\"white\",\"ticks\":\"\",\"title\":{\"standoff\":15},\"zerolinecolor\":\"white\",\"automargin\":true,\"zerolinewidth\":2},\"yaxis\":{\"gridcolor\":\"white\",\"linecolor\":\"white\",\"ticks\":\"\",\"title\":{\"standoff\":15},\"zerolinecolor\":\"white\",\"automargin\":true,\"zerolinewidth\":2},\"scene\":{\"xaxis\":{\"backgroundcolor\":\"#E5ECF6\",\"gridcolor\":\"white\",\"linecolor\":\"white\",\"showbackground\":true,\"ticks\":\"\",\"zerolinecolor\":\"white\",\"gridwidth\":2},\"yaxis\":{\"backgroundcolor\":\"#E5ECF6\",\"gridcolor\":\"white\",\"linecolor\":\"white\",\"showbackground\":true,\"ticks\":\"\",\"zerolinecolor\":\"white\",\"gridwidth\":2},\"zaxis\":{\"backgroundcolor\":\"#E5ECF6\",\"gridcolor\":\"white\",\"linecolor\":\"white\",\"showbackground\":true,\"ticks\":\"\",\"zerolinecolor\":\"white\",\"gridwidth\":2}},\"shapedefaults\":{\"line\":{\"color\":\"#2a3f5f\"}},\"annotationdefaults\":{\"arrowcolor\":\"#2a3f5f\",\"arrowhead\":0,\"arrowwidth\":1},\"geo\":{\"bgcolor\":\"white\",\"landcolor\":\"#E5ECF6\",\"subunitcolor\":\"white\",\"showland\":true,\"showlakes\":true,\"lakecolor\":\"white\"},\"title\":{\"x\":0.05},\"mapbox\":{\"style\":\"light\"}}},\"xaxis\":{\"anchor\":\"y\",\"domain\":[0.0,1.0],\"title\":{\"text\":\"id\"}},\"yaxis\":{\"anchor\":\"x\",\"domain\":[0.0,1.0],\"title\":{\"text\":\"rate\"}},\"legend\":{\"tracegroupgap\":0},\"margin\":{\"t\":60}},                        {\"responsive\": true}                    ).then(function(){\n",
       "                            \n",
       "var gd = document.getElementById('7ced4245-77b8-482f-8bc5-e7ba278585df');\n",
       "var x = new MutationObserver(function (mutations, observer) {{\n",
       "        var display = window.getComputedStyle(gd).display;\n",
       "        if (!display || display === 'none') {{\n",
       "            console.log([gd, 'removed!']);\n",
       "            Plotly.purge(gd);\n",
       "            observer.disconnect();\n",
       "        }}\n",
       "}});\n",
       "\n",
       "// Listen for the removal of the full notebook cells\n",
       "var notebookContainer = gd.closest('#notebook-container');\n",
       "if (notebookContainer) {{\n",
       "    x.observe(notebookContainer, {childList: true});\n",
       "}}\n",
       "\n",
       "// Listen for the clearing of the current output cell\n",
       "var outputEl = gd.closest('.output');\n",
       "if (outputEl) {{\n",
       "    x.observe(outputEl, {childList: true});\n",
       "}}\n",
       "\n",
       "                        })                };                });            </script>        </div>"
      ]
     },
     "metadata": {},
     "output_type": "display_data"
    }
   ],
   "source": [
    "import plotly.express as px\n",
    "px.scatter(restaurantes, y = 'rate', x= 'id', hover_data=['nombre', 'rate', 'resenas'])\n"
   ]
  },
  {
   "cell_type": "code",
   "execution_count": 19,
   "id": "30bf2e65",
   "metadata": {},
   "outputs": [
    {
     "data": {
      "application/vnd.plotly.v1+json": {
       "config": {
        "plotlyServerURL": "https://plot.ly"
       },
       "data": [
        {
         "alignmentgroup": "True",
         "customdata": [
          [
           "Restaurante El Rincón Asturiano",
           4.2
          ],
          [
           "Restaurante Fortunata",
           4.1
          ],
          [
           "LA TAGUARA By Guayana Mia S.L",
           4.5
          ],
          [
           "Bar \"Divino Tinto\"",
           4.5
          ],
          [
           "Kia Ora",
           4.5
          ],
          [
           "La Flor de Asturias",
           3.9
          ],
          [
           "Mesón La Casina",
           3.9
          ],
          [
           "Macarena Madrid",
           4.2
          ],
          [
           "La Madreña",
           4.1
          ],
          [
           "Puerto Maior",
           3.8
          ],
          [
           "Restaurante Asturias",
           4.3
          ],
          [
           "Dominguez",
           4.3
          ],
          [
           "Doña Lambra",
           3.9
          ],
          [
           "Restaurante - La Confusa",
           4.6
          ],
          [
           "Mesón Las Regiones",
           4.3
          ],
          [
           "Restaurante Cafetería Trasmontana",
           4
          ],
          [
           "Los Metales Bar&Kitchen",
           4.7
          ],
          [
           "Los Castaños",
           4.3
          ],
          [
           "Casa Maxi",
           4.2
          ],
          [
           "Restaurante Arturo's Méndez Álvaro Buenos cócteles pollo asado cerveza Atocha",
           4.2
          ],
          [
           "Muxia",
           4.1
          ],
          [
           "Restaurante Horóscopo",
           4.4
          ],
          [
           "Bistro Bar Restaurante",
           4.2
          ],
          [
           "Restaurante Buen Gusto",
           4.2
          ],
          [
           "A Ñora",
           4.2
          ],
          [
           "Casa Pedro",
           4.1
          ],
          [
           "Restaurante Nico",
           4
          ],
          [
           "Restaurante Arequepay",
           4.6
          ],
          [
           "ALMA CHELI MATADERO",
           4.4
          ],
          [
           "Restaurante Casa Lucía",
           4.5
          ],
          [
           "Restaurante Os'Peregrinos",
           4.2
          ],
          [
           "Restaurante Mitad del Mundo",
           4.2
          ],
          [
           "Parisien",
           4.3
          ],
          [
           "Sidrería Restaurante La Casona",
           3.9
          ],
          [
           "La Cantina del Matadero",
           3.7
          ],
          [
           "El Tizón",
           3.8
          ],
          [
           "Bar Menéndez",
           4.7
          ],
          [
           "Chipa Ferrocarril",
           4.6
          ],
          [
           "Arrocería Imperial",
           4.4
          ],
          [
           "COCINA 34",
           4.6
          ],
          [
           "Restaurante Cantalejo",
           4
          ],
          [
           "Restaurante Mis Tradiciones",
           4.2
          ],
          [
           "El Rincón de Asturias",
           4
          ],
          [
           "Lola Puñales",
           4.3
          ],
          [
           "El Rincón A-Gusto",
           4.6
          ],
          [
           "Restaurante O’Ribeiriño",
           3.7
          ],
          [
           "Cangas Restaurante",
           4.3
          ],
          [
           "Restaurante Cantespino",
           4
          ],
          [
           "El Ratón De Getaria",
           4.6
          ],
          [
           "Restaurante Oviedo",
           4.2
          ],
          [
           "Restaurante Atrapallada",
           3.9
          ],
          [
           "Pintxoteca",
           4.5
          ],
          [
           "El Ideal",
           4.1
          ],
          [
           "Juana la Loca",
           4.5
          ],
          [
           "Restaurante el Madroño",
           4.2
          ],
          [
           "Restaurants La Chata",
           2.5
          ],
          [
           "Restaurante Mis Tradiciones",
           4.2
          ],
          [
           "Cafetería Favorite Restaurante",
           4.3
          ],
          [
           "Restaurante Esteban",
           4.6
          ],
          [
           "Guang Dong City (GD Cuisine)",
           4.4
          ],
          [
           "El sueño de Carmen",
           4.8
          ],
          [
           "Sahuaro Madrid",
           4.3
          ],
          [
           "La Perejila",
           4.5
          ],
          [
           "Sidrería Asgaya",
           4.1
          ],
          [
           "Arrocería D'stapa Madrid",
           4.6
          ],
          [
           "Restaurante Italiano Emma y Julia",
           4.2
          ],
          [
           "La Paloma",
           4.4
          ],
          [
           "Burmet",
           4.8
          ],
          [
           "Cantalejo",
           3.8
          ],
          [
           "Taberna Alba's",
           4.3
          ],
          [
           "Posada de la Villa",
           4.5
          ],
          [
           "Bar Restaurante La esquina del Calderón",
           4.4
          ],
          [
           "La Taberna De Mi Abuelo",
           4.1
          ],
          [
           "El Novo Escalón",
           4.3
          ],
          [
           "MEGU",
           4.4
          ],
          [
           "Cervecería Restaurante El Alcázar",
           4
          ],
          [
           "Bar Restaurante La Herradura",
           4.2
          ],
          [
           "Restaurante O'Boi",
           4.1
          ],
          [
           "Somolinos",
           4.5
          ],
          [
           "Mafrens",
           4.6
          ],
          [
           "Restaurante Gibraltar",
           4.6
          ],
          [
           "Restaurante Seoul",
           4.3
          ],
          [
           "Restaurante Japonés - RAKU SUSHI",
           4.6
          ],
          [
           "Casa Lucio",
           4.3
          ],
          [
           "Taberna del Capitán Alatriste",
           4.4
          ],
          [
           "Restaurante O Breogán",
           3.9
          ],
          [
           "Taberna Piedra Pinta",
           4.7
          ],
          [
           "Asador Málaga",
           4.4
          ],
          [
           "Terraza La Playa Madrid Río",
           3.9
          ],
          [
           "Asador \"LOS TRONQUITOS\"",
           4.2
          ],
          [
           "Restaurante Amicis",
           4.3
          ],
          [
           "La Antoñita",
           4.2
          ],
          [
           "Casa Victor",
           4.4
          ],
          [
           "El Landó",
           4.6
          ],
          [
           "Restaurante Paraíso",
           4.1
          ],
          [
           "Cervecería El Caño",
           4.6
          ],
          [
           "CHIFA Maca",
           4.4
          ],
          [
           "Toga Restaurante",
           4.7
          ],
          [
           "Don Asador Madrid. Parrilla restaurante argentino.",
           4.9
          ],
          [
           "Ronda",
           4.5
          ],
          [
           "Casa Armán",
           4.3
          ],
          [
           "La Barca del Patio",
           3.9
          ],
          [
           "Taberna La Concha",
           4.5
          ],
          [
           "Restaurante La Malaje",
           4.2
          ],
          [
           "La Muralla",
           3.7
          ],
          [
           "GastroBar de la Tierra",
           2.5
          ],
          [
           "Naia",
           4
          ],
          [
           "de Madrid",
           4.1
          ],
          [
           "Restaurante Basarri Terraza",
           4.1
          ],
          [
           "Bar Restaurante Donde José",
           4.2
          ],
          [
           "La Esquina Peruana",
           4.3
          ],
          [
           "La Casa de Zhou",
           3.8
          ],
          [
           "Ginos",
           4
          ],
          [
           "Casa Lucas",
           4.5
          ],
          [
           "Bar Sidrería Aviseo",
           4.3
          ],
          [
           "Pizzería Arezzo",
           4.6
          ],
          [
           "Uskar",
           4.4
          ],
          [
           "Malacatín",
           4.4
          ],
          [
           "El Capricho Extremeño",
           4.4
          ],
          [
           "La Posada del Nuncio",
           4.5
          ],
          [
           "SUSHI MOLA The Crab House.Restaurante Japonés Madrid.",
           4.7
          ],
          [
           "Casa Julián de Tolosa",
           4.3
          ],
          [
           "La Nueva Martina",
           4.3
          ],
          [
           "Los Huevos de Lucio",
           4.1
          ],
          [
           "Cafetería Restaurante Imperial IV",
           4.1
          ],
          [
           "Restaurante Argentino El Camoatí",
           4.5
          ],
          [
           "Restaurante Los Ángeles",
           4.2
          ],
          [
           "Restaurante LUSI",
           4.1
          ],
          [
           "Bar Ronda",
           4
          ],
          [
           "Cafetería Pontones",
           4.3
          ],
          [
           "Restaurante Fan Hua",
           4.1
          ],
          [
           "Rodilla",
           3.9
          ],
          [
           "Bipolar casa de comidas 2.0",
           4.5
          ],
          [
           "Cocinante",
           4.3
          ],
          [
           "El Fogón de Usera",
           4.4
          ],
          [
           "La Taberna de Usera",
           4.3
          ],
          [
           "La Parrilla de Usera",
           4.2
          ],
          [
           "La Cuchara Restaurante Asador",
           4.2
          ],
          [
           "Restaurante La Parrilla De Usera",
           4.3
          ],
          [
           "La Casa del Pulpo",
           4.2
          ],
          [
           "Restaurante FEITO USERA",
           4.2
          ],
          [
           "Restaurante Pasamar",
           4.5
          ],
          [
           "Restaurante Lao Tou",
           4.2
          ],
          [
           "Bodega Amistad",
           4.5
          ],
          [
           "El Rincón de Alina - Bar Restaurante",
           4.2
          ],
          [
           "Mr. Doulao (Madrid)",
           4.2
          ],
          [
           "Restaurante La Braña",
           4
          ],
          [
           "La Terracita. Campo De Rugby",
           4.2
          ],
          [
           "Igopasta",
           4.4
          ],
          [
           "Restaurante Marisco Guo Rong",
           4.1
          ],
          [
           "La Marieta",
           4.3
          ],
          [
           "La Estancia Parrilla Usera",
           4.3
          ],
          [
           "El Carbón De Granada",
           4.7
          ],
          [
           "A'barca Muxia",
           4.2
          ],
          [
           "Restaurante La Barca",
           3.9
          ],
          [
           "Usera 面香缘",
           4.5
          ],
          [
           "Feito Río",
           4.1
          ],
          [
           "Restaurante la Fonda de Colombia ~ Comida Típica Colombiana",
           4.3
          ],
          [
           "Taberna Andaluza Sacromonte",
           4.7
          ],
          [
           "LA AUTENTICA",
           4.3
          ],
          [
           "Al Carbón restaurante",
           4.5
          ],
          [
           "Asador de Pollos Usera",
           4.6
          ],
          [
           "La Posada de Coti",
           4.2
          ],
          [
           "Cervecería LA CURIOSA",
           4.5
          ],
          [
           "La abuela Aleja sabor peruano",
           3.7
          ],
          [
           "La Alegría De Enrique",
           3.8
          ],
          [
           "Royal Cantonés",
           4.3
          ],
          [
           "Bar Restaurante Las Palmeras",
           3.9
          ],
          [
           "Casa Mariano",
           4
          ],
          [
           "Perla del Pacifico",
           4
          ],
          [
           "Restaurante Monteferro",
           4.1
          ],
          [
           "O Freixo",
           3.8
          ],
          [
           "Restaurante Brasayleña CC Plaza Río 2",
           3.8
          ],
          [
           "El Sabroso",
           4.3
          ],
          [
           "Los Cantaritos",
           4
          ],
          [
           "Wanlixiang",
           4.2
          ],
          [
           "El Obrero",
           3.8
          ],
          [
           "Helaotai (Madrid)",
           4.3
          ],
          [
           "Chic & Trick Bar-Restaurante",
           4.7
          ],
          [
           "La Nueva Terraza Verde",
           4.3
          ],
          [
           "Gilan Restaurante",
           3.9
          ],
          [
           "Real turkito",
           3.9
          ],
          [
           "Casa Ciri",
           4.3
          ],
          [
           "RESTAURANTE CASA BLANCA",
           4
          ],
          [
           "Restaurante Boliviano Madrid - VIPBAR",
           4.2
          ],
          [
           "川辣香都 Restaurante Sichuan",
           4.3
          ],
          [
           "Jaleos",
           4.1
          ],
          [
           "Jordan Gala Restaurante Cafe Bar",
           4.1
          ],
          [
           "Restaurante Asador Veliz",
           4.3
          ],
          [
           "Barbacoa",
           3.6
          ],
          [
           "Restaurante ~ La Perla Boliviana 2",
           3.8
          ],
          [
           "Restaurante Ecu-tropical",
           4.6
          ],
          [
           "Restaurante Sabor Chiclayano",
           3.9
          ],
          [
           "Restaurante BAMMBAO 打包！(TIBU)",
           4.9
          ],
          [
           "Pasta Wok",
           4.1
          ],
          [
           "Cordero",
           4.2
          ],
          [
           "Jin Yun Shao Bing",
           4.2
          ],
          [
           "Restaurante Jin Gu",
           4.2
          ],
          [
           "La Sazon Boliviana",
           4.2
          ],
          [
           "Terraza Moscardó",
           3.9
          ],
          [
           "El Cruceño Bar Restaurante",
           4.1
          ],
          [
           "QUE BO",
           4.9
          ],
          [
           "La Estacion usera",
           5
          ],
          [
           "Restaurante Rincón de Andalucia",
           4.2
          ],
          [
           "Bar restaurante Los Kali 2",
           3.8
          ],
          [
           "MESON VALENCIA",
           4.9
          ],
          [
           "Mesón Ocandil",
           4
          ],
          [
           "Restaurante Parilla Punata",
           2.5
          ],
          [
           "Bar Restaurante Nicol",
           4
          ],
          [
           "Restaurante Zagros",
           4.4
          ],
          [
           "Restaurante KFC",
           3.6
          ],
          [
           "VOHEMY RESTAURANTE",
           4.6
          ],
          [
           "AREPA OLE \"USERA\"",
           3.7
          ],
          [
           "Alice Pizza",
           4.4
          ],
          [
           "Cocina Fresca",
           4
          ],
          [
           "Restaurante Margarita",
           3
          ],
          [
           "Chuan Shui Yao Restaurante",
           4.1
          ],
          [
           "el fogon ecuatoriano",
           3.7
          ],
          [
           "El Trébol",
           4.2
          ],
          [
           "Carnívoros BBQ bar parrilla",
           4.3
          ],
          [
           "Restaurante Vickar",
           2.5
          ],
          [
           "Chernobil",
           3.9
          ],
          [
           "Deewey",
           3.5
          ],
          [
           "Entre Fuego y Carbón - Restaurante Peruano, Menús, Hamburguesas y Carnes al Carbón en Madrid",
           4.5
          ],
          [
           "Bar El Aventurero",
           4.4
          ],
          [
           "Bar La Alegria",
           3.6
          ],
          [
           "Pizza Mirasierra",
           3.7
          ],
          [
           "Bodega La Andaluza",
           3.8
          ],
          [
           "Del Santos Restaurante",
           5
          ],
          [
           "Rocío al",
           2.5
          ],
          [
           "Mesón La Peña Soriana",
           4.4
          ],
          [
           "Bar Want Kee",
           4.5
          ],
          [
           "Pabellón Gathering Edge",
           4.1
          ],
          [
           "阿郑小炒 AZHENG restaurante",
           4.9
          ],
          [
           "sabor cafetero",
           5
          ],
          [
           "MASAMADRE PIZZA USERA",
           3.9
          ],
          [
           "BBTO Sabor Carretillero",
           4
          ],
          [
           "Vértice",
           3.7
          ],
          [
           "Restaurante Boliviano Margarita",
           5
          ],
          [
           "Museo del Jamón",
           3.9
          ],
          [
           "Bar quillacollo",
           4.2
          ],
          [
           "Restaurante Marisco",
           4.3
          ],
          [
           "Mesón Madridejos",
           4
          ],
          [
           "GRAN ASADOR DEL SUR",
           4.3
          ],
          [
           "MASTER POLLO",
           4.2
          ],
          [
           "Restaurante Chino Da Fa (Usera)",
           3.9
          ],
          [
           "Bar La Peña Soriana",
           4
          ],
          [
           "Bar cafetería aquí me quedo",
           4.4
          ],
          [
           "Cocinas del Mundo",
           4
          ],
          [
           "Pollo Asado Sudamérica",
           4
          ],
          [
           "Burger john",
           4.5
          ],
          [
           "Asador De Pollos Tokio",
           4.3
          ],
          [
           "Rodilla",
           3.8
          ],
          [
           "Restaurante La Suite del Lago",
           4.3
          ],
          [
           "Mesón Toledano",
           4.4
          ],
          [
           "El Barril",
           4.1
          ],
          [
           "Puerto Pirata",
           4.2
          ],
          [
           "Garri's",
           4.7
          ],
          [
           "Arrivederci Comida Italiana",
           4.6
          ],
          [
           "Restaurante el Almendro Pinto",
           4.1
          ],
          [
           "La Cúspide Pinto - Restaurante Peruano",
           4.6
          ],
          [
           "Asador Parrilla Rincón De Castilla",
           4
          ],
          [
           "El Buen Yantar de Azucena",
           4.2
          ],
          [
           "Las Patatas de Javi",
           4.3
          ],
          [
           "Mesón Salazar",
           4.2
          ],
          [
           "My'Secret",
           3.9
          ],
          [
           "Il Vit Restaurante Cafetería",
           4.3
          ],
          [
           "Eneria",
           4.4
          ],
          [
           "Restaurante Plaza",
           4.1
          ],
          [
           "La Posada",
           3.8
          ],
          [
           "Restaurante El Buen Comer",
           2.5
          ],
          [
           "Restaurante Nadu",
           5
          ],
          [
           "La cantina de Frida",
           4
          ],
          [
           "Restaurante Panpintao",
           4.7
          ],
          [
           "Jamon Y Vino",
           3.9
          ],
          [
           "Crokante",
           4.3
          ],
          [
           "Reverso Restaurante",
           4.8
          ],
          [
           "Malauva",
           4.5
          ],
          [
           "RESTAURANTE EVELIN",
           4.6
          ],
          [
           "Restaurante Buenaventura",
           4.1
          ],
          [
           "A Fuego Lento",
           4.5
          ],
          [
           "El Asador De Pinto",
           4.1
          ],
          [
           "Restaurante Punctum",
           4.6
          ],
          [
           "La Barbería",
           4.1
          ],
          [
           "Restaurante Artium",
           4.6
          ],
          [
           "Como la trucha al trucho",
           4.9
          ],
          [
           "El Apretón II pinto",
           4.2
          ],
          [
           "La Capilla Del Parque",
           3.6
          ],
          [
           "El Teatro de Baco",
           4.5
          ],
          [
           "El Apeadero de Pinto",
           4.3
          ],
          [
           "Los Ratitos de Marotti",
           4.4
          ],
          [
           "Quintana Bar - Restaurante",
           4.3
          ],
          [
           "EBOLI Gastro",
           4.3
          ],
          [
           "Restaurante Chinatown",
           4.3
          ],
          [
           "Restaurante Maica",
           2.5
          ],
          [
           "Asador de Pollos El Buen Gusto",
           4.8
          ],
          [
           "Asador ¡Cómo como!",
           4.4
          ],
          [
           "Restaurante el Cisne",
           2.3
          ],
          [
           "Cafetería Romayka de David Aguilar",
           4.2
          ],
          [
           "Foster's Hollywood",
           3.3
          ],
          [
           "The Wok House",
           3.9
          ],
          [
           "La Esperanza",
           4.2
          ],
          [
           "La Nave Burger",
           4.7
          ],
          [
           "LUSUVER 2018 S.L.U",
           2.5
          ],
          [
           "Ponzano",
           4.6
          ],
          [
           "Las Delicias Sushi Bar",
           4.4
          ],
          [
           "Restaurante LIPARI.",
           3.5
          ],
          [
           "Cafetería Trazos",
           4.3
          ],
          [
           "Al Barrio",
           2.5
          ],
          [
           "Wanderlux 360º",
           4.9
          ],
          [
           "New pizza pasta",
           4.3
          ],
          [
           "🍽️ En Blanko Taberna",
           4.6
          ],
          [
           "Gela",
           4
          ],
          [
           "Anteux Burger",
           4.5
          ],
          [
           "Restaurante Casa Antonio",
           4
          ],
          [
           "La Ostra",
           4.4
          ],
          [
           "Salvaje GastroBar",
           4.6
          ],
          [
           "OnSushi",
           4.3
          ],
          [
           "La Mancha",
           4
          ],
          [
           "Cafetería Gran Vía",
           3.6
          ],
          [
           "Nova Galicia 2",
           4.2
          ],
          [
           "Restaurante 100 Montaditos",
           3.6
          ],
          [
           "Han",
           4.1
          ],
          [
           "Muerde la Pasta",
           3.4
          ],
          [
           "Cervecería Vinoteca LO NUESTRO",
           3.9
          ],
          [
           "La Bahia de Cadiz",
           3.8
          ],
          [
           "Bar El Rincón",
           4.3
          ],
          [
           "Cervecería Atila",
           4.3
          ],
          [
           "Bar Félix",
           4.4
          ],
          [
           "Oasis Cafetería",
           4
          ],
          [
           "GASTROCHEF comida para llevar",
           4.3
          ],
          [
           "Pizzería Carlos | Pinto",
           3.9
          ],
          [
           "POMODORO Pizza Pasta Burritos",
           3.5
          ],
          [
           "Burger King",
           3.1
          ],
          [
           "Bar los Pitufos",
           4.5
          ],
          [
           "Bar La Rábida.",
           4.4
          ],
          [
           "El Pollo Rico",
           4.3
          ],
          [
           "Bar El Refugio de Pinto",
           4
          ],
          [
           "McDonald's",
           3.5
          ],
          [
           "Cerveceria pub Tennessee",
           4.8
          ],
          [
           "Chiringuito De Paco",
           3.9
          ],
          [
           "Bar Restaurante La Rinconada",
           4.5
          ],
          [
           "Restaurante Chino Nueva Muralla",
           3.3
          ],
          [
           "Telepizza Pinto - Comida a Domicilio",
           3.2
          ],
          [
           "Arrocería de Pinto",
           3
          ],
          [
           "Émalú Coffee Bar",
           4.2
          ],
          [
           "Kebab",
           3.8
          ],
          [
           "Xing",
           3.9
          ],
          [
           "Bar Central Tenería",
           4
          ],
          [
           "Asador De Pollos",
           4
          ],
          [
           "kebab express & fried chicken",
           3.3
          ],
          [
           "Manhattan Lounge",
           4.5
          ],
          [
           "Cafetería Restaurante Puerta de Pinto",
           4.1
          ],
          [
           "Domino's Pizza",
           4
          ],
          [
           "Bar Grana y Oro",
           4.3
          ],
          [
           "American Retro Diner",
           1.5
          ],
          [
           "Finca, La Nueva",
           3.9
          ],
          [
           "Pincho Doner Kebab",
           3.9
          ],
          [
           "Voy Volando Pinto",
           4.3
          ],
          [
           "Princesa Café & Bar",
           3.9
          ],
          [
           "Cafeteria Restaurante",
           4
          ],
          [
           "EL ROBLE",
           4.2
          ],
          [
           "Restaurante Casa Fermín",
           4.3
          ]
         ],
         "hovertemplate": "precio=%{x}<br>count=%{y}<br>nombre=%{customdata[0]}<br>rate=%{customdata[1]}<extra></extra>",
         "legendgroup": "",
         "marker": {
          "color": "#636efa",
          "pattern": {
           "shape": ""
          }
         },
         "name": "",
         "offsetgroup": "",
         "orientation": "v",
         "showlegend": false,
         "textposition": "auto",
         "type": "bar",
         "x": [
          "€€",
          "€",
          "",
          "€€",
          "",
          "€",
          "€",
          "",
          "€€",
          "",
          "€",
          "€",
          "€",
          "€",
          "€",
          "€€",
          "€€",
          "€",
          "€€",
          "€€",
          "€",
          "€",
          "€",
          "€",
          "",
          "€",
          "",
          "€",
          "€€",
          "€",
          "€",
          "€",
          "",
          "€",
          "€€",
          "€€",
          "",
          "",
          "€€",
          "€",
          "€",
          "€€",
          "",
          "€€",
          "€",
          "€€",
          "€€",
          "€",
          "€€",
          "€€",
          "€€",
          "",
          "€",
          "€€",
          "€",
          "",
          "€€",
          "€",
          "€€€",
          "€",
          "",
          "€€",
          "€",
          "€",
          "€€",
          "€€",
          "€€",
          "",
          "€",
          "€€",
          "€€€",
          "€",
          "€",
          "€",
          "€",
          "",
          "€",
          "€",
          "€",
          "€€",
          "",
          "€",
          "€€",
          "€€",
          "€€€",
          "€",
          "",
          "€",
          "€€",
          "€",
          "€€",
          "",
          "€",
          "€€€",
          "€",
          "",
          "€",
          "€€",
          "",
          "€",
          "€",
          "€€",
          "€€",
          "€€",
          "€",
          "",
          "€€",
          "€",
          "€€",
          "€",
          "€",
          "€",
          "€€",
          "€€",
          "€",
          "€",
          "€€",
          "€€",
          "€",
          "€€",
          "",
          "€€€",
          "€€",
          "€€",
          "€",
          "€€",
          "€",
          "€",
          "€",
          "€",
          "€",
          "€",
          "€€",
          "€",
          "€",
          "€",
          "€",
          "€",
          "€",
          "€",
          "€€",
          "€",
          "€",
          "€",
          "",
          "€",
          "€",
          "",
          "",
          "€",
          "€",
          "€",
          "€€",
          "",
          "€",
          "",
          "€€",
          "€",
          "€",
          "",
          "",
          "€",
          "€",
          "€€",
          "",
          "",
          "€",
          "",
          "€",
          "€",
          "€€",
          "€",
          "€€",
          "",
          "€",
          "",
          "",
          "€",
          "€",
          "€",
          "€€",
          "€",
          "€",
          "€",
          "€",
          "€",
          "€",
          "€",
          "",
          "",
          "€",
          "",
          "€",
          "",
          "",
          "€",
          "€",
          "",
          "€",
          "€",
          "€",
          "",
          "",
          "€",
          "€",
          "",
          "",
          "",
          "",
          "€",
          "€",
          "",
          "€",
          "€",
          "",
          "",
          "",
          "€€",
          "",
          "€",
          "",
          "",
          "",
          "",
          "€",
          "",
          "",
          "€",
          "",
          "",
          "€",
          "",
          "",
          "",
          "",
          "€",
          "",
          "€",
          "",
          "€",
          "€",
          "",
          "€",
          "€€",
          "€",
          "€",
          "€",
          "",
          "",
          "",
          "€",
          "€",
          "€",
          "€€",
          "€€",
          "",
          "€",
          "",
          "€",
          "€",
          "",
          "€",
          "€",
          "€",
          "€",
          "€",
          "€",
          "",
          "€",
          "€",
          "€",
          "",
          "",
          "",
          "€",
          "",
          "",
          "",
          "",
          "€",
          "€",
          "€€",
          "",
          "€",
          "",
          "",
          "€",
          "€",
          "",
          "",
          "€",
          "€",
          "",
          "€",
          "",
          "€",
          "€",
          "",
          "€",
          "€€",
          "€",
          "",
          "",
          "",
          "",
          "",
          "€",
          "€",
          "",
          "",
          "€",
          "",
          "€",
          "€",
          "€",
          "€",
          "",
          "€€",
          "€",
          "€",
          "€€",
          "€",
          "€",
          "€",
          "",
          "€",
          "€",
          "€",
          "€",
          "",
          "",
          "€",
          "€",
          "€",
          "€",
          "€",
          "€",
          "€",
          "€",
          "",
          "",
          "€",
          "€",
          "€",
          "",
          "€",
          "€",
          "€",
          "",
          "",
          "",
          "",
          "€€",
          "€",
          "",
          "",
          "€",
          "",
          "",
          "€",
          "",
          "€",
          ""
         ],
         "xaxis": "x",
         "y": [
          1,
          1,
          1,
          1,
          1,
          1,
          1,
          1,
          1,
          1,
          1,
          1,
          1,
          1,
          1,
          1,
          1,
          1,
          1,
          1,
          1,
          1,
          1,
          1,
          1,
          1,
          1,
          1,
          1,
          1,
          1,
          1,
          1,
          1,
          1,
          1,
          1,
          1,
          1,
          1,
          1,
          1,
          1,
          1,
          1,
          1,
          1,
          1,
          1,
          1,
          1,
          1,
          1,
          1,
          1,
          1,
          1,
          1,
          1,
          1,
          1,
          1,
          1,
          1,
          1,
          1,
          1,
          1,
          1,
          1,
          1,
          1,
          1,
          1,
          1,
          1,
          1,
          1,
          1,
          1,
          1,
          1,
          1,
          1,
          1,
          1,
          1,
          1,
          1,
          1,
          1,
          1,
          1,
          1,
          1,
          1,
          1,
          1,
          1,
          1,
          1,
          1,
          1,
          1,
          1,
          1,
          1,
          1,
          1,
          1,
          1,
          1,
          1,
          1,
          1,
          1,
          1,
          1,
          1,
          1,
          1,
          1,
          1,
          1,
          1,
          1,
          1,
          1,
          1,
          1,
          1,
          1,
          1,
          1,
          1,
          1,
          1,
          1,
          1,
          1,
          1,
          1,
          1,
          1,
          1,
          1,
          1,
          1,
          1,
          1,
          1,
          1,
          1,
          1,
          1,
          1,
          1,
          1,
          1,
          1,
          1,
          1,
          1,
          1,
          1,
          1,
          1,
          1,
          1,
          1,
          1,
          1,
          1,
          1,
          1,
          1,
          1,
          1,
          1,
          1,
          1,
          1,
          1,
          1,
          1,
          1,
          1,
          1,
          1,
          1,
          1,
          1,
          1,
          1,
          1,
          1,
          1,
          1,
          1,
          1,
          1,
          1,
          1,
          1,
          1,
          1,
          1,
          1,
          1,
          1,
          1,
          1,
          1,
          1,
          1,
          1,
          1,
          1,
          1,
          1,
          1,
          1,
          1,
          1,
          1,
          1,
          1,
          1,
          1,
          1,
          1,
          1,
          1,
          1,
          1,
          1,
          1,
          1,
          1,
          1,
          1,
          1,
          1,
          1,
          1,
          1,
          1,
          1,
          1,
          1,
          1,
          1,
          1,
          1,
          1,
          1,
          1,
          1,
          1,
          1,
          1,
          1,
          1,
          1,
          1,
          1,
          1,
          1,
          1,
          1,
          1,
          1,
          1,
          1,
          1,
          1,
          1,
          1,
          1,
          1,
          1,
          1,
          1,
          1,
          1,
          1,
          1,
          1,
          1,
          1,
          1,
          1,
          1,
          1,
          1,
          1,
          1,
          1,
          1,
          1,
          1,
          1,
          1,
          1,
          1,
          1,
          1,
          1,
          1,
          1,
          1,
          1,
          1,
          1,
          1,
          1,
          1,
          1,
          1,
          1,
          1,
          1,
          1,
          1,
          1,
          1,
          1,
          1,
          1,
          1,
          1,
          1,
          1,
          1,
          1,
          1,
          1,
          1,
          1,
          1,
          1,
          1,
          1,
          1,
          1,
          1,
          1,
          1,
          1,
          1,
          1,
          1,
          1,
          1,
          1,
          1,
          1,
          1,
          1,
          1,
          1,
          1,
          1
         ],
         "yaxis": "y"
        }
       ],
       "layout": {
        "barmode": "relative",
        "legend": {
         "tracegroupgap": 0
        },
        "margin": {
         "t": 60
        },
        "template": {
         "data": {
          "bar": [
           {
            "error_x": {
             "color": "#2a3f5f"
            },
            "error_y": {
             "color": "#2a3f5f"
            },
            "marker": {
             "line": {
              "color": "#E5ECF6",
              "width": 0.5
             },
             "pattern": {
              "fillmode": "overlay",
              "size": 10,
              "solidity": 0.2
             }
            },
            "type": "bar"
           }
          ],
          "barpolar": [
           {
            "marker": {
             "line": {
              "color": "#E5ECF6",
              "width": 0.5
             },
             "pattern": {
              "fillmode": "overlay",
              "size": 10,
              "solidity": 0.2
             }
            },
            "type": "barpolar"
           }
          ],
          "carpet": [
           {
            "aaxis": {
             "endlinecolor": "#2a3f5f",
             "gridcolor": "white",
             "linecolor": "white",
             "minorgridcolor": "white",
             "startlinecolor": "#2a3f5f"
            },
            "baxis": {
             "endlinecolor": "#2a3f5f",
             "gridcolor": "white",
             "linecolor": "white",
             "minorgridcolor": "white",
             "startlinecolor": "#2a3f5f"
            },
            "type": "carpet"
           }
          ],
          "choropleth": [
           {
            "colorbar": {
             "outlinewidth": 0,
             "ticks": ""
            },
            "type": "choropleth"
           }
          ],
          "contour": [
           {
            "colorbar": {
             "outlinewidth": 0,
             "ticks": ""
            },
            "colorscale": [
             [
              0,
              "#0d0887"
             ],
             [
              0.1111111111111111,
              "#46039f"
             ],
             [
              0.2222222222222222,
              "#7201a8"
             ],
             [
              0.3333333333333333,
              "#9c179e"
             ],
             [
              0.4444444444444444,
              "#bd3786"
             ],
             [
              0.5555555555555556,
              "#d8576b"
             ],
             [
              0.6666666666666666,
              "#ed7953"
             ],
             [
              0.7777777777777778,
              "#fb9f3a"
             ],
             [
              0.8888888888888888,
              "#fdca26"
             ],
             [
              1,
              "#f0f921"
             ]
            ],
            "type": "contour"
           }
          ],
          "contourcarpet": [
           {
            "colorbar": {
             "outlinewidth": 0,
             "ticks": ""
            },
            "type": "contourcarpet"
           }
          ],
          "heatmap": [
           {
            "colorbar": {
             "outlinewidth": 0,
             "ticks": ""
            },
            "colorscale": [
             [
              0,
              "#0d0887"
             ],
             [
              0.1111111111111111,
              "#46039f"
             ],
             [
              0.2222222222222222,
              "#7201a8"
             ],
             [
              0.3333333333333333,
              "#9c179e"
             ],
             [
              0.4444444444444444,
              "#bd3786"
             ],
             [
              0.5555555555555556,
              "#d8576b"
             ],
             [
              0.6666666666666666,
              "#ed7953"
             ],
             [
              0.7777777777777778,
              "#fb9f3a"
             ],
             [
              0.8888888888888888,
              "#fdca26"
             ],
             [
              1,
              "#f0f921"
             ]
            ],
            "type": "heatmap"
           }
          ],
          "heatmapgl": [
           {
            "colorbar": {
             "outlinewidth": 0,
             "ticks": ""
            },
            "colorscale": [
             [
              0,
              "#0d0887"
             ],
             [
              0.1111111111111111,
              "#46039f"
             ],
             [
              0.2222222222222222,
              "#7201a8"
             ],
             [
              0.3333333333333333,
              "#9c179e"
             ],
             [
              0.4444444444444444,
              "#bd3786"
             ],
             [
              0.5555555555555556,
              "#d8576b"
             ],
             [
              0.6666666666666666,
              "#ed7953"
             ],
             [
              0.7777777777777778,
              "#fb9f3a"
             ],
             [
              0.8888888888888888,
              "#fdca26"
             ],
             [
              1,
              "#f0f921"
             ]
            ],
            "type": "heatmapgl"
           }
          ],
          "histogram": [
           {
            "marker": {
             "pattern": {
              "fillmode": "overlay",
              "size": 10,
              "solidity": 0.2
             }
            },
            "type": "histogram"
           }
          ],
          "histogram2d": [
           {
            "colorbar": {
             "outlinewidth": 0,
             "ticks": ""
            },
            "colorscale": [
             [
              0,
              "#0d0887"
             ],
             [
              0.1111111111111111,
              "#46039f"
             ],
             [
              0.2222222222222222,
              "#7201a8"
             ],
             [
              0.3333333333333333,
              "#9c179e"
             ],
             [
              0.4444444444444444,
              "#bd3786"
             ],
             [
              0.5555555555555556,
              "#d8576b"
             ],
             [
              0.6666666666666666,
              "#ed7953"
             ],
             [
              0.7777777777777778,
              "#fb9f3a"
             ],
             [
              0.8888888888888888,
              "#fdca26"
             ],
             [
              1,
              "#f0f921"
             ]
            ],
            "type": "histogram2d"
           }
          ],
          "histogram2dcontour": [
           {
            "colorbar": {
             "outlinewidth": 0,
             "ticks": ""
            },
            "colorscale": [
             [
              0,
              "#0d0887"
             ],
             [
              0.1111111111111111,
              "#46039f"
             ],
             [
              0.2222222222222222,
              "#7201a8"
             ],
             [
              0.3333333333333333,
              "#9c179e"
             ],
             [
              0.4444444444444444,
              "#bd3786"
             ],
             [
              0.5555555555555556,
              "#d8576b"
             ],
             [
              0.6666666666666666,
              "#ed7953"
             ],
             [
              0.7777777777777778,
              "#fb9f3a"
             ],
             [
              0.8888888888888888,
              "#fdca26"
             ],
             [
              1,
              "#f0f921"
             ]
            ],
            "type": "histogram2dcontour"
           }
          ],
          "mesh3d": [
           {
            "colorbar": {
             "outlinewidth": 0,
             "ticks": ""
            },
            "type": "mesh3d"
           }
          ],
          "parcoords": [
           {
            "line": {
             "colorbar": {
              "outlinewidth": 0,
              "ticks": ""
             }
            },
            "type": "parcoords"
           }
          ],
          "pie": [
           {
            "automargin": true,
            "type": "pie"
           }
          ],
          "scatter": [
           {
            "fillpattern": {
             "fillmode": "overlay",
             "size": 10,
             "solidity": 0.2
            },
            "type": "scatter"
           }
          ],
          "scatter3d": [
           {
            "line": {
             "colorbar": {
              "outlinewidth": 0,
              "ticks": ""
             }
            },
            "marker": {
             "colorbar": {
              "outlinewidth": 0,
              "ticks": ""
             }
            },
            "type": "scatter3d"
           }
          ],
          "scattercarpet": [
           {
            "marker": {
             "colorbar": {
              "outlinewidth": 0,
              "ticks": ""
             }
            },
            "type": "scattercarpet"
           }
          ],
          "scattergeo": [
           {
            "marker": {
             "colorbar": {
              "outlinewidth": 0,
              "ticks": ""
             }
            },
            "type": "scattergeo"
           }
          ],
          "scattergl": [
           {
            "marker": {
             "colorbar": {
              "outlinewidth": 0,
              "ticks": ""
             }
            },
            "type": "scattergl"
           }
          ],
          "scattermapbox": [
           {
            "marker": {
             "colorbar": {
              "outlinewidth": 0,
              "ticks": ""
             }
            },
            "type": "scattermapbox"
           }
          ],
          "scatterpolar": [
           {
            "marker": {
             "colorbar": {
              "outlinewidth": 0,
              "ticks": ""
             }
            },
            "type": "scatterpolar"
           }
          ],
          "scatterpolargl": [
           {
            "marker": {
             "colorbar": {
              "outlinewidth": 0,
              "ticks": ""
             }
            },
            "type": "scatterpolargl"
           }
          ],
          "scatterternary": [
           {
            "marker": {
             "colorbar": {
              "outlinewidth": 0,
              "ticks": ""
             }
            },
            "type": "scatterternary"
           }
          ],
          "surface": [
           {
            "colorbar": {
             "outlinewidth": 0,
             "ticks": ""
            },
            "colorscale": [
             [
              0,
              "#0d0887"
             ],
             [
              0.1111111111111111,
              "#46039f"
             ],
             [
              0.2222222222222222,
              "#7201a8"
             ],
             [
              0.3333333333333333,
              "#9c179e"
             ],
             [
              0.4444444444444444,
              "#bd3786"
             ],
             [
              0.5555555555555556,
              "#d8576b"
             ],
             [
              0.6666666666666666,
              "#ed7953"
             ],
             [
              0.7777777777777778,
              "#fb9f3a"
             ],
             [
              0.8888888888888888,
              "#fdca26"
             ],
             [
              1,
              "#f0f921"
             ]
            ],
            "type": "surface"
           }
          ],
          "table": [
           {
            "cells": {
             "fill": {
              "color": "#EBF0F8"
             },
             "line": {
              "color": "white"
             }
            },
            "header": {
             "fill": {
              "color": "#C8D4E3"
             },
             "line": {
              "color": "white"
             }
            },
            "type": "table"
           }
          ]
         },
         "layout": {
          "annotationdefaults": {
           "arrowcolor": "#2a3f5f",
           "arrowhead": 0,
           "arrowwidth": 1
          },
          "autotypenumbers": "strict",
          "coloraxis": {
           "colorbar": {
            "outlinewidth": 0,
            "ticks": ""
           }
          },
          "colorscale": {
           "diverging": [
            [
             0,
             "#8e0152"
            ],
            [
             0.1,
             "#c51b7d"
            ],
            [
             0.2,
             "#de77ae"
            ],
            [
             0.3,
             "#f1b6da"
            ],
            [
             0.4,
             "#fde0ef"
            ],
            [
             0.5,
             "#f7f7f7"
            ],
            [
             0.6,
             "#e6f5d0"
            ],
            [
             0.7,
             "#b8e186"
            ],
            [
             0.8,
             "#7fbc41"
            ],
            [
             0.9,
             "#4d9221"
            ],
            [
             1,
             "#276419"
            ]
           ],
           "sequential": [
            [
             0,
             "#0d0887"
            ],
            [
             0.1111111111111111,
             "#46039f"
            ],
            [
             0.2222222222222222,
             "#7201a8"
            ],
            [
             0.3333333333333333,
             "#9c179e"
            ],
            [
             0.4444444444444444,
             "#bd3786"
            ],
            [
             0.5555555555555556,
             "#d8576b"
            ],
            [
             0.6666666666666666,
             "#ed7953"
            ],
            [
             0.7777777777777778,
             "#fb9f3a"
            ],
            [
             0.8888888888888888,
             "#fdca26"
            ],
            [
             1,
             "#f0f921"
            ]
           ],
           "sequentialminus": [
            [
             0,
             "#0d0887"
            ],
            [
             0.1111111111111111,
             "#46039f"
            ],
            [
             0.2222222222222222,
             "#7201a8"
            ],
            [
             0.3333333333333333,
             "#9c179e"
            ],
            [
             0.4444444444444444,
             "#bd3786"
            ],
            [
             0.5555555555555556,
             "#d8576b"
            ],
            [
             0.6666666666666666,
             "#ed7953"
            ],
            [
             0.7777777777777778,
             "#fb9f3a"
            ],
            [
             0.8888888888888888,
             "#fdca26"
            ],
            [
             1,
             "#f0f921"
            ]
           ]
          },
          "colorway": [
           "#636efa",
           "#EF553B",
           "#00cc96",
           "#ab63fa",
           "#FFA15A",
           "#19d3f3",
           "#FF6692",
           "#B6E880",
           "#FF97FF",
           "#FECB52"
          ],
          "font": {
           "color": "#2a3f5f"
          },
          "geo": {
           "bgcolor": "white",
           "lakecolor": "white",
           "landcolor": "#E5ECF6",
           "showlakes": true,
           "showland": true,
           "subunitcolor": "white"
          },
          "hoverlabel": {
           "align": "left"
          },
          "hovermode": "closest",
          "mapbox": {
           "style": "light"
          },
          "paper_bgcolor": "white",
          "plot_bgcolor": "#E5ECF6",
          "polar": {
           "angularaxis": {
            "gridcolor": "white",
            "linecolor": "white",
            "ticks": ""
           },
           "bgcolor": "#E5ECF6",
           "radialaxis": {
            "gridcolor": "white",
            "linecolor": "white",
            "ticks": ""
           }
          },
          "scene": {
           "xaxis": {
            "backgroundcolor": "#E5ECF6",
            "gridcolor": "white",
            "gridwidth": 2,
            "linecolor": "white",
            "showbackground": true,
            "ticks": "",
            "zerolinecolor": "white"
           },
           "yaxis": {
            "backgroundcolor": "#E5ECF6",
            "gridcolor": "white",
            "gridwidth": 2,
            "linecolor": "white",
            "showbackground": true,
            "ticks": "",
            "zerolinecolor": "white"
           },
           "zaxis": {
            "backgroundcolor": "#E5ECF6",
            "gridcolor": "white",
            "gridwidth": 2,
            "linecolor": "white",
            "showbackground": true,
            "ticks": "",
            "zerolinecolor": "white"
           }
          },
          "shapedefaults": {
           "line": {
            "color": "#2a3f5f"
           }
          },
          "ternary": {
           "aaxis": {
            "gridcolor": "white",
            "linecolor": "white",
            "ticks": ""
           },
           "baxis": {
            "gridcolor": "white",
            "linecolor": "white",
            "ticks": ""
           },
           "bgcolor": "#E5ECF6",
           "caxis": {
            "gridcolor": "white",
            "linecolor": "white",
            "ticks": ""
           }
          },
          "title": {
           "x": 0.05
          },
          "xaxis": {
           "automargin": true,
           "gridcolor": "white",
           "linecolor": "white",
           "ticks": "",
           "title": {
            "standoff": 15
           },
           "zerolinecolor": "white",
           "zerolinewidth": 2
          },
          "yaxis": {
           "automargin": true,
           "gridcolor": "white",
           "linecolor": "white",
           "ticks": "",
           "title": {
            "standoff": 15
           },
           "zerolinecolor": "white",
           "zerolinewidth": 2
          }
         }
        },
        "xaxis": {
         "anchor": "y",
         "domain": [
          0,
          1
         ],
         "title": {
          "text": "precio"
         }
        },
        "yaxis": {
         "anchor": "x",
         "domain": [
          0,
          1
         ],
         "title": {
          "text": "count"
         }
        }
       }
      },
      "text/html": [
       "<div>                            <div id=\"622860f9-3f9f-41ed-a77c-bd51df0bc794\" class=\"plotly-graph-div\" style=\"height:525px; width:100%;\"></div>            <script type=\"text/javascript\">                require([\"plotly\"], function(Plotly) {                    window.PLOTLYENV=window.PLOTLYENV || {};                                    if (document.getElementById(\"622860f9-3f9f-41ed-a77c-bd51df0bc794\")) {                    Plotly.newPlot(                        \"622860f9-3f9f-41ed-a77c-bd51df0bc794\",                        [{\"alignmentgroup\":\"True\",\"customdata\":[[\"Restaurante El Rinc\\u00f3n Asturiano\",4.2],[\"Restaurante Fortunata\",4.1],[\"LA TAGUARA By Guayana Mia S.L\",4.5],[\"Bar \\\"Divino Tinto\\\"\",4.5],[\"Kia Ora\",4.5],[\"La Flor de Asturias\",3.9],[\"Mes\\u00f3n La Casina\",3.9],[\"Macarena Madrid\",4.2],[\"La Madre\\u00f1a\",4.1],[\"Puerto Maior\",3.8],[\"Restaurante Asturias\",4.3],[\"Dominguez\",4.3],[\"Do\\u00f1a Lambra\",3.9],[\"Restaurante - La Confusa\",4.6],[\"Mes\\u00f3n Las Regiones\",4.3],[\"Restaurante Cafeter\\u00eda Trasmontana\",4.0],[\"Los Metales Bar&Kitchen\",4.7],[\"Los Casta\\u00f1os\",4.3],[\"Casa Maxi\",4.2],[\"Restaurante Arturo's M\\u00e9ndez \\u00c1lvaro Buenos c\\u00f3cteles pollo asado cerveza Atocha\",4.2],[\"Muxia\",4.1],[\"Restaurante Hor\\u00f3scopo\",4.4],[\"Bistro Bar Restaurante\",4.2],[\"Restaurante Buen Gusto\",4.2],[\"A \\u00d1ora\",4.2],[\"Casa Pedro\",4.1],[\"Restaurante Nico\",4.0],[\"Restaurante Arequepay\",4.6],[\"ALMA CHELI MATADERO\",4.4],[\"Restaurante Casa Luc\\u00eda\",4.5],[\"Restaurante Os'Peregrinos\",4.2],[\"Restaurante Mitad del Mundo\",4.2],[\"Parisien\",4.3],[\"Sidrer\\u00eda Restaurante La Casona\",3.9],[\"La Cantina del Matadero\",3.7],[\"El Tiz\\u00f3n\",3.8],[\"Bar Men\\u00e9ndez\",4.7],[\"Chipa Ferrocarril\",4.6],[\"Arrocer\\u00eda Imperial\",4.4],[\"COCINA 34\",4.6],[\"Restaurante Cantalejo\",4.0],[\"Restaurante Mis Tradiciones\",4.2],[\"El Rinc\\u00f3n de Asturias\",4.0],[\"Lola Pu\\u00f1ales\",4.3],[\"El Rinc\\u00f3n A-Gusto\",4.6],[\"Restaurante O\\u2019Ribeiri\\u00f1o\",3.7],[\"Cangas Restaurante\",4.3],[\"Restaurante Cantespino\",4.0],[\"El Rat\\u00f3n De Getaria\",4.6],[\"Restaurante Oviedo\",4.2],[\"Restaurante Atrapallada\",3.9],[\"Pintxoteca\",4.5],[\"El Ideal\",4.1],[\"Juana la Loca\",4.5],[\"Restaurante el Madro\\u00f1o\",4.2],[\"Restaurants La Chata\",2.5],[\"Restaurante Mis Tradiciones\",4.2],[\"Cafeter\\u00eda Favorite Restaurante\",4.3],[\"Restaurante Esteban\",4.6],[\"Guang Dong City (GD Cuisine)\",4.4],[\"El sue\\u00f1o de Carmen\",4.8],[\"Sahuaro Madrid\",4.3],[\"La Perejila\",4.5],[\"Sidrer\\u00eda Asgaya\",4.1],[\"Arrocer\\u00eda D'stapa Madrid\",4.6],[\"Restaurante Italiano Emma y Julia\",4.2],[\"La Paloma\",4.4],[\"Burmet\",4.8],[\"Cantalejo\",3.8],[\"Taberna Alba's\",4.3],[\"Posada de la Villa\",4.5],[\"Bar Restaurante La esquina del Calder\\u00f3n\",4.4],[\"La Taberna De Mi Abuelo\",4.1],[\"El Novo Escal\\u00f3n\",4.3],[\"MEGU\",4.4],[\"Cervecer\\u00eda Restaurante El Alc\\u00e1zar\",4.0],[\"Bar Restaurante La Herradura\",4.2],[\"Restaurante O'Boi\",4.1],[\"Somolinos\",4.5],[\"Mafrens\",4.6],[\"Restaurante Gibraltar\",4.6],[\"Restaurante Seoul\",4.3],[\"Restaurante Japon\\u00e9s - RAKU SUSHI\",4.6],[\"Casa Lucio\",4.3],[\"Taberna del Capit\\u00e1n Alatriste\",4.4],[\"Restaurante O Breog\\u00e1n\",3.9],[\"Taberna Piedra Pinta\",4.7],[\"Asador M\\u00e1laga\",4.4],[\"Terraza La Playa Madrid R\\u00edo\",3.9],[\"Asador \\\"LOS TRONQUITOS\\\"\",4.2],[\"Restaurante Amicis\",4.3],[\"La Anto\\u00f1ita\",4.2],[\"Casa Victor\",4.4],[\"El Land\\u00f3\",4.6],[\"Restaurante Para\\u00edso\",4.1],[\"Cervecer\\u00eda El Ca\\u00f1o\",4.6],[\"CHIFA Maca\",4.4],[\"Toga Restaurante\",4.7],[\"Don Asador Madrid. Parrilla restaurante argentino.\",4.9],[\"Ronda\",4.5],[\"Casa Arm\\u00e1n\",4.3],[\"La Barca del Patio\",3.9],[\"Taberna La Concha\",4.5],[\"Restaurante La Malaje\",4.2],[\"La Muralla\",3.7],[\"GastroBar de la Tierra\",2.5],[\"Naia\",4.0],[\"de Madrid\",4.1],[\"Restaurante Basarri Terraza\",4.1],[\"Bar Restaurante Donde Jos\\u00e9\",4.2],[\"La Esquina Peruana\",4.3],[\"La Casa de Zhou\",3.8],[\"Ginos\",4.0],[\"Casa Lucas\",4.5],[\"Bar Sidrer\\u00eda Aviseo\",4.3],[\"Pizzer\\u00eda Arezzo\",4.6],[\"Uskar\",4.4],[\"Malacat\\u00edn\",4.4],[\"El Capricho Extreme\\u00f1o\",4.4],[\"La Posada del Nuncio\",4.5],[\"SUSHI MOLA The Crab House.Restaurante Japon\\u00e9s Madrid.\",4.7],[\"Casa Juli\\u00e1n de Tolosa\",4.3],[\"La Nueva Martina\",4.3],[\"Los Huevos de Lucio\",4.1],[\"Cafeter\\u00eda Restaurante Imperial IV\",4.1],[\"Restaurante Argentino El Camoat\\u00ed\",4.5],[\"Restaurante Los \\u00c1ngeles\",4.2],[\"Restaurante LUSI\",4.1],[\"Bar Ronda\",4.0],[\"Cafeter\\u00eda Pontones\",4.3],[\"Restaurante Fan Hua\",4.1],[\"Rodilla\",3.9],[\"Bipolar casa de comidas 2.0\",4.5],[\"Cocinante\",4.3],[\"El Fog\\u00f3n de Usera\",4.4],[\"La Taberna de Usera\",4.3],[\"La Parrilla de Usera\",4.2],[\"La Cuchara Restaurante Asador\",4.2],[\"Restaurante La Parrilla De Usera\",4.3],[\"La Casa del Pulpo\",4.2],[\"Restaurante FEITO USERA\",4.2],[\"Restaurante Pasamar\",4.5],[\"Restaurante Lao Tou\",4.2],[\"Bodega Amistad\",4.5],[\"El Rinc\\u00f3n de Alina - Bar Restaurante\",4.2],[\"Mr. Doulao (Madrid)\",4.2],[\"Restaurante La Bra\\u00f1a\",4.0],[\"La Terracita. Campo De Rugby\",4.2],[\"Igopasta\",4.4],[\"Restaurante Marisco Guo Rong\",4.1],[\"La Marieta\",4.3],[\"La Estancia Parrilla Usera\",4.3],[\"El Carb\\u00f3n De Granada\",4.7],[\"A'barca Muxia\",4.2],[\"Restaurante La Barca\",3.9],[\"Usera \\u9762\\u9999\\u7f18\",4.5],[\"Feito R\\u00edo\",4.1],[\"Restaurante la Fonda de Colombia ~ Comida T\\u00edpica Colombiana\",4.3],[\"Taberna Andaluza Sacromonte\",4.7],[\"LA AUTENTICA\",4.3],[\"Al Carb\\u00f3n restaurante\",4.5],[\"Asador de Pollos Usera\",4.6],[\"La Posada de Coti\",4.2],[\"Cervecer\\u00eda LA CURIOSA\",4.5],[\"La abuela Aleja sabor peruano\",3.7],[\"La Alegr\\u00eda De Enrique\",3.8],[\"Royal Canton\\u00e9s\",4.3],[\"Bar Restaurante Las Palmeras\",3.9],[\"Casa Mariano\",4.0],[\"Perla del Pacifico\",4.0],[\"Restaurante Monteferro\",4.1],[\"O Freixo\",3.8],[\"Restaurante Brasayle\\u00f1a CC Plaza R\\u00edo 2\",3.8],[\"El Sabroso\",4.3],[\"Los Cantaritos\",4.0],[\"Wanlixiang\",4.2],[\"El Obrero\",3.8],[\"Helaotai (Madrid)\",4.3],[\"Chic & Trick Bar-Restaurante\",4.7],[\"La Nueva Terraza Verde\",4.3],[\"Gilan Restaurante\",3.9],[\"Real turkito\",3.9],[\"Casa Ciri\",4.3],[\"RESTAURANTE CASA BLANCA\",4.0],[\"Restaurante Boliviano Madrid - VIPBAR\",4.2],[\"\\u5ddd\\u8fa3\\u9999\\u90fd Restaurante Sichuan\",4.3],[\"Jaleos\",4.1],[\"Jordan Gala Restaurante Cafe Bar\",4.1],[\"Restaurante Asador Veliz\",4.3],[\"Barbacoa\",3.6],[\"Restaurante ~ La Perla Boliviana 2\",3.8],[\"Restaurante Ecu-tropical\",4.6],[\"Restaurante Sabor Chiclayano\",3.9],[\"Restaurante BAMMBAO \\u6253\\u5305\\uff01(TIBU)\",4.9],[\"Pasta Wok\",4.1],[\"Cordero\",4.2],[\"Jin Yun Shao Bing\",4.2],[\"Restaurante Jin Gu\",4.2],[\"La Sazon Boliviana\",4.2],[\"Terraza Moscard\\u00f3\",3.9],[\"El Cruce\\u00f1o Bar Restaurante\",4.1],[\"QUE BO\",4.9],[\"La Estacion usera\",5.0],[\"Restaurante Rinc\\u00f3n de Andalucia\",4.2],[\"Bar restaurante Los Kali 2\",3.8],[\"MESON VALENCIA\",4.9],[\"Mes\\u00f3n Ocandil\",4.0],[\"Restaurante Parilla Punata\",2.5],[\"Bar Restaurante Nicol\",4.0],[\"Restaurante Zagros\",4.4],[\"Restaurante KFC\",3.6],[\"VOHEMY RESTAURANTE\",4.6],[\"AREPA OLE \\\"USERA\\\"\",3.7],[\"Alice Pizza\",4.4],[\"Cocina Fresca\",4.0],[\"Restaurante Margarita\",3.0],[\"Chuan Shui Yao Restaurante\",4.1],[\"el fogon ecuatoriano\",3.7],[\"El Tr\\u00e9bol\",4.2],[\"Carn\\u00edvoros BBQ bar parrilla\",4.3],[\"Restaurante Vickar\",2.5],[\"Chernobil\",3.9],[\"Deewey\",3.5],[\"Entre Fuego y Carb\\u00f3n - Restaurante Peruano, Men\\u00fas, Hamburguesas y Carnes al Carb\\u00f3n en Madrid\",4.5],[\"Bar El Aventurero\",4.4],[\"Bar La Alegria\",3.6],[\"Pizza Mirasierra\",3.7],[\"Bodega La Andaluza\",3.8],[\"Del Santos Restaurante\",5.0],[\"Roc\\u00edo al\",2.5],[\"Mes\\u00f3n La Pe\\u00f1a Soriana\",4.4],[\"Bar Want Kee\",4.5],[\"Pabell\\u00f3n Gathering Edge\",4.1],[\"\\u963f\\u90d1\\u5c0f\\u7092 AZHENG restaurante\",4.9],[\"sabor cafetero\",5.0],[\"MASAMADRE PIZZA USERA\",3.9],[\"BBTO Sabor Carretillero\",4.0],[\"V\\u00e9rtice\",3.7],[\"Restaurante Boliviano Margarita\",5.0],[\"Museo del Jam\\u00f3n\",3.9],[\"Bar quillacollo\",4.2],[\"Restaurante Marisco\",4.3],[\"Mes\\u00f3n Madridejos\",4.0],[\"GRAN ASADOR DEL SUR\",4.3],[\"MASTER POLLO\",4.2],[\"Restaurante Chino Da Fa (Usera)\",3.9],[\"Bar La Pe\\u00f1a Soriana\",4.0],[\"Bar cafeter\\u00eda aqu\\u00ed me quedo\",4.4],[\"Cocinas del Mundo\",4.0],[\"Pollo Asado Sudam\\u00e9rica\",4.0],[\"Burger john\",4.5],[\"Asador De Pollos Tokio\",4.3],[\"Rodilla\",3.8],[\"Restaurante La Suite del Lago\",4.3],[\"Mes\\u00f3n Toledano\",4.4],[\"El Barril\",4.1],[\"Puerto Pirata\",4.2],[\"Garri's\",4.7],[\"Arrivederci Comida Italiana\",4.6],[\"Restaurante el Almendro Pinto\",4.1],[\"La C\\u00faspide Pinto - Restaurante Peruano\",4.6],[\"Asador Parrilla Rinc\\u00f3n De Castilla\",4.0],[\"El Buen Yantar de Azucena\",4.2],[\"Las Patatas de Javi\",4.3],[\"Mes\\u00f3n Salazar\",4.2],[\"My'Secret\",3.9],[\"Il Vit Restaurante Cafeter\\u00eda\",4.3],[\"Eneria\",4.4],[\"Restaurante Plaza\",4.1],[\"La Posada\",3.8],[\"Restaurante El Buen Comer\",2.5],[\"Restaurante Nadu\",5.0],[\"La cantina de Frida\",4.0],[\"Restaurante Panpintao\",4.7],[\"Jamon Y Vino\",3.9],[\"Crokante\",4.3],[\"Reverso Restaurante\",4.8],[\"Malauva\",4.5],[\"RESTAURANTE EVELIN\",4.6],[\"Restaurante Buenaventura\",4.1],[\"A Fuego Lento\",4.5],[\"El Asador De Pinto\",4.1],[\"Restaurante Punctum\",4.6],[\"La Barber\\u00eda\",4.1],[\"Restaurante Artium\",4.6],[\"Como la trucha al trucho\",4.9],[\"El Apret\\u00f3n II pinto\",4.2],[\"La Capilla Del Parque\",3.6],[\"El Teatro de Baco\",4.5],[\"El Apeadero de Pinto\",4.3],[\"Los Ratitos de Marotti\",4.4],[\"Quintana Bar - Restaurante\",4.3],[\"EBOLI Gastro\",4.3],[\"Restaurante Chinatown\",4.3],[\"Restaurante Maica\",2.5],[\"Asador de Pollos El Buen Gusto\",4.8],[\"Asador \\u00a1C\\u00f3mo como!\",4.4],[\"Restaurante el Cisne\",2.3],[\"Cafeter\\u00eda Romayka de David Aguilar\",4.2],[\"Foster's Hollywood\",3.3],[\"The Wok House\",3.9],[\"La Esperanza\",4.2],[\"La Nave Burger\",4.7],[\"LUSUVER 2018 S.L.U\",2.5],[\"Ponzano\",4.6],[\"Las Delicias Sushi Bar\",4.4],[\"Restaurante LIPARI.\",3.5],[\"Cafeter\\u00eda Trazos\",4.3],[\"Al Barrio\",2.5],[\"Wanderlux 360\\u00ba\",4.9],[\"New pizza pasta\",4.3],[\"\\ud83c\\udf7d\\ufe0f En Blanko Taberna\",4.6],[\"Gela\",4.0],[\"Anteux Burger\",4.5],[\"Restaurante Casa Antonio\",4.0],[\"La Ostra\",4.4],[\"Salvaje GastroBar\",4.6],[\"OnSushi\",4.3],[\"La Mancha\",4.0],[\"Cafeter\\u00eda Gran V\\u00eda\",3.6],[\"Nova Galicia 2\",4.2],[\"Restaurante 100 Montaditos\",3.6],[\"Han\",4.1],[\"Muerde la Pasta\",3.4],[\"Cervecer\\u00eda Vinoteca LO NUESTRO\",3.9],[\"La Bahia de Cadiz\",3.8],[\"Bar El Rinc\\u00f3n\",4.3],[\"Cervecer\\u00eda Atila\",4.3],[\"Bar F\\u00e9lix\",4.4],[\"Oasis Cafeter\\u00eda\",4.0],[\"GASTROCHEF comida para llevar\",4.3],[\"Pizzer\\u00eda Carlos | Pinto\",3.9],[\"POMODORO Pizza Pasta Burritos\",3.5],[\"Burger King\",3.1],[\"Bar los Pitufos\",4.5],[\"Bar La R\\u00e1bida.\",4.4],[\"El Pollo Rico\",4.3],[\"Bar El Refugio de Pinto\",4.0],[\"McDonald's\",3.5],[\"Cerveceria pub Tennessee\",4.8],[\"Chiringuito De Paco\",3.9],[\"Bar Restaurante La Rinconada\",4.5],[\"Restaurante Chino Nueva Muralla\",3.3],[\"Telepizza Pinto - Comida a Domicilio\",3.2],[\"Arrocer\\u00eda de Pinto\",3.0],[\"\\u00c9mal\\u00fa Coffee Bar\",4.2],[\"Kebab\",3.8],[\"Xing\",3.9],[\"Bar Central Tener\\u00eda\",4.0],[\"Asador De Pollos\",4.0],[\"kebab express & fried chicken\",3.3],[\"Manhattan Lounge\",4.5],[\"Cafeter\\u00eda Restaurante Puerta de Pinto\",4.1],[\"Domino's Pizza\",4.0],[\"Bar Grana y Oro\",4.3],[\"American Retro Diner\",1.5],[\"Finca, La Nueva\",3.9],[\"Pincho Doner Kebab\",3.9],[\"Voy Volando Pinto\",4.3],[\"Princesa Caf\\u00e9 & Bar\",3.9],[\"Cafeteria Restaurante\",4.0],[\"EL ROBLE\",4.2],[\"Restaurante Casa Ferm\\u00edn\",4.3]],\"hovertemplate\":\"precio=%{x}<br>count=%{y}<br>nombre=%{customdata[0]}<br>rate=%{customdata[1]}<extra></extra>\",\"legendgroup\":\"\",\"marker\":{\"color\":\"#636efa\",\"pattern\":{\"shape\":\"\"}},\"name\":\"\",\"offsetgroup\":\"\",\"orientation\":\"v\",\"showlegend\":false,\"textposition\":\"auto\",\"x\":[\"\\u20ac\\u20ac\",\"\\u20ac\",\"\",\"\\u20ac\\u20ac\",\"\",\"\\u20ac\",\"\\u20ac\",\"\",\"\\u20ac\\u20ac\",\"\",\"\\u20ac\",\"\\u20ac\",\"\\u20ac\",\"\\u20ac\",\"\\u20ac\",\"\\u20ac\\u20ac\",\"\\u20ac\\u20ac\",\"\\u20ac\",\"\\u20ac\\u20ac\",\"\\u20ac\\u20ac\",\"\\u20ac\",\"\\u20ac\",\"\\u20ac\",\"\\u20ac\",\"\",\"\\u20ac\",\"\",\"\\u20ac\",\"\\u20ac\\u20ac\",\"\\u20ac\",\"\\u20ac\",\"\\u20ac\",\"\",\"\\u20ac\",\"\\u20ac\\u20ac\",\"\\u20ac\\u20ac\",\"\",\"\",\"\\u20ac\\u20ac\",\"\\u20ac\",\"\\u20ac\",\"\\u20ac\\u20ac\",\"\",\"\\u20ac\\u20ac\",\"\\u20ac\",\"\\u20ac\\u20ac\",\"\\u20ac\\u20ac\",\"\\u20ac\",\"\\u20ac\\u20ac\",\"\\u20ac\\u20ac\",\"\\u20ac\\u20ac\",\"\",\"\\u20ac\",\"\\u20ac\\u20ac\",\"\\u20ac\",\"\",\"\\u20ac\\u20ac\",\"\\u20ac\",\"\\u20ac\\u20ac\\u20ac\",\"\\u20ac\",\"\",\"\\u20ac\\u20ac\",\"\\u20ac\",\"\\u20ac\",\"\\u20ac\\u20ac\",\"\\u20ac\\u20ac\",\"\\u20ac\\u20ac\",\"\",\"\\u20ac\",\"\\u20ac\\u20ac\",\"\\u20ac\\u20ac\\u20ac\",\"\\u20ac\",\"\\u20ac\",\"\\u20ac\",\"\\u20ac\",\"\",\"\\u20ac\",\"\\u20ac\",\"\\u20ac\",\"\\u20ac\\u20ac\",\"\",\"\\u20ac\",\"\\u20ac\\u20ac\",\"\\u20ac\\u20ac\",\"\\u20ac\\u20ac\\u20ac\",\"\\u20ac\",\"\",\"\\u20ac\",\"\\u20ac\\u20ac\",\"\\u20ac\",\"\\u20ac\\u20ac\",\"\",\"\\u20ac\",\"\\u20ac\\u20ac\\u20ac\",\"\\u20ac\",\"\",\"\\u20ac\",\"\\u20ac\\u20ac\",\"\",\"\\u20ac\",\"\\u20ac\",\"\\u20ac\\u20ac\",\"\\u20ac\\u20ac\",\"\\u20ac\\u20ac\",\"\\u20ac\",\"\",\"\\u20ac\\u20ac\",\"\\u20ac\",\"\\u20ac\\u20ac\",\"\\u20ac\",\"\\u20ac\",\"\\u20ac\",\"\\u20ac\\u20ac\",\"\\u20ac\\u20ac\",\"\\u20ac\",\"\\u20ac\",\"\\u20ac\\u20ac\",\"\\u20ac\\u20ac\",\"\\u20ac\",\"\\u20ac\\u20ac\",\"\",\"\\u20ac\\u20ac\\u20ac\",\"\\u20ac\\u20ac\",\"\\u20ac\\u20ac\",\"\\u20ac\",\"\\u20ac\\u20ac\",\"\\u20ac\",\"\\u20ac\",\"\\u20ac\",\"\\u20ac\",\"\\u20ac\",\"\\u20ac\",\"\\u20ac\\u20ac\",\"\\u20ac\",\"\\u20ac\",\"\\u20ac\",\"\\u20ac\",\"\\u20ac\",\"\\u20ac\",\"\\u20ac\",\"\\u20ac\\u20ac\",\"\\u20ac\",\"\\u20ac\",\"\\u20ac\",\"\",\"\\u20ac\",\"\\u20ac\",\"\",\"\",\"\\u20ac\",\"\\u20ac\",\"\\u20ac\",\"\\u20ac\\u20ac\",\"\",\"\\u20ac\",\"\",\"\\u20ac\\u20ac\",\"\\u20ac\",\"\\u20ac\",\"\",\"\",\"\\u20ac\",\"\\u20ac\",\"\\u20ac\\u20ac\",\"\",\"\",\"\\u20ac\",\"\",\"\\u20ac\",\"\\u20ac\",\"\\u20ac\\u20ac\",\"\\u20ac\",\"\\u20ac\\u20ac\",\"\",\"\\u20ac\",\"\",\"\",\"\\u20ac\",\"\\u20ac\",\"\\u20ac\",\"\\u20ac\\u20ac\",\"\\u20ac\",\"\\u20ac\",\"\\u20ac\",\"\\u20ac\",\"\\u20ac\",\"\\u20ac\",\"\\u20ac\",\"\",\"\",\"\\u20ac\",\"\",\"\\u20ac\",\"\",\"\",\"\\u20ac\",\"\\u20ac\",\"\",\"\\u20ac\",\"\\u20ac\",\"\\u20ac\",\"\",\"\",\"\\u20ac\",\"\\u20ac\",\"\",\"\",\"\",\"\",\"\\u20ac\",\"\\u20ac\",\"\",\"\\u20ac\",\"\\u20ac\",\"\",\"\",\"\",\"\\u20ac\\u20ac\",\"\",\"\\u20ac\",\"\",\"\",\"\",\"\",\"\\u20ac\",\"\",\"\",\"\\u20ac\",\"\",\"\",\"\\u20ac\",\"\",\"\",\"\",\"\",\"\\u20ac\",\"\",\"\\u20ac\",\"\",\"\\u20ac\",\"\\u20ac\",\"\",\"\\u20ac\",\"\\u20ac\\u20ac\",\"\\u20ac\",\"\\u20ac\",\"\\u20ac\",\"\",\"\",\"\",\"\\u20ac\",\"\\u20ac\",\"\\u20ac\",\"\\u20ac\\u20ac\",\"\\u20ac\\u20ac\",\"\",\"\\u20ac\",\"\",\"\\u20ac\",\"\\u20ac\",\"\",\"\\u20ac\",\"\\u20ac\",\"\\u20ac\",\"\\u20ac\",\"\\u20ac\",\"\\u20ac\",\"\",\"\\u20ac\",\"\\u20ac\",\"\\u20ac\",\"\",\"\",\"\",\"\\u20ac\",\"\",\"\",\"\",\"\",\"\\u20ac\",\"\\u20ac\",\"\\u20ac\\u20ac\",\"\",\"\\u20ac\",\"\",\"\",\"\\u20ac\",\"\\u20ac\",\"\",\"\",\"\\u20ac\",\"\\u20ac\",\"\",\"\\u20ac\",\"\",\"\\u20ac\",\"\\u20ac\",\"\",\"\\u20ac\",\"\\u20ac\\u20ac\",\"\\u20ac\",\"\",\"\",\"\",\"\",\"\",\"\\u20ac\",\"\\u20ac\",\"\",\"\",\"\\u20ac\",\"\",\"\\u20ac\",\"\\u20ac\",\"\\u20ac\",\"\\u20ac\",\"\",\"\\u20ac\\u20ac\",\"\\u20ac\",\"\\u20ac\",\"\\u20ac\\u20ac\",\"\\u20ac\",\"\\u20ac\",\"\\u20ac\",\"\",\"\\u20ac\",\"\\u20ac\",\"\\u20ac\",\"\\u20ac\",\"\",\"\",\"\\u20ac\",\"\\u20ac\",\"\\u20ac\",\"\\u20ac\",\"\\u20ac\",\"\\u20ac\",\"\\u20ac\",\"\\u20ac\",\"\",\"\",\"\\u20ac\",\"\\u20ac\",\"\\u20ac\",\"\",\"\\u20ac\",\"\\u20ac\",\"\\u20ac\",\"\",\"\",\"\",\"\",\"\\u20ac\\u20ac\",\"\\u20ac\",\"\",\"\",\"\\u20ac\",\"\",\"\",\"\\u20ac\",\"\",\"\\u20ac\",\"\"],\"xaxis\":\"x\",\"y\":[1,1,1,1,1,1,1,1,1,1,1,1,1,1,1,1,1,1,1,1,1,1,1,1,1,1,1,1,1,1,1,1,1,1,1,1,1,1,1,1,1,1,1,1,1,1,1,1,1,1,1,1,1,1,1,1,1,1,1,1,1,1,1,1,1,1,1,1,1,1,1,1,1,1,1,1,1,1,1,1,1,1,1,1,1,1,1,1,1,1,1,1,1,1,1,1,1,1,1,1,1,1,1,1,1,1,1,1,1,1,1,1,1,1,1,1,1,1,1,1,1,1,1,1,1,1,1,1,1,1,1,1,1,1,1,1,1,1,1,1,1,1,1,1,1,1,1,1,1,1,1,1,1,1,1,1,1,1,1,1,1,1,1,1,1,1,1,1,1,1,1,1,1,1,1,1,1,1,1,1,1,1,1,1,1,1,1,1,1,1,1,1,1,1,1,1,1,1,1,1,1,1,1,1,1,1,1,1,1,1,1,1,1,1,1,1,1,1,1,1,1,1,1,1,1,1,1,1,1,1,1,1,1,1,1,1,1,1,1,1,1,1,1,1,1,1,1,1,1,1,1,1,1,1,1,1,1,1,1,1,1,1,1,1,1,1,1,1,1,1,1,1,1,1,1,1,1,1,1,1,1,1,1,1,1,1,1,1,1,1,1,1,1,1,1,1,1,1,1,1,1,1,1,1,1,1,1,1,1,1,1,1,1,1,1,1,1,1,1,1,1,1,1,1,1,1,1,1,1,1,1,1,1,1,1,1,1,1,1,1,1,1,1,1,1,1,1,1,1,1,1,1,1,1,1,1,1,1,1,1,1,1,1],\"yaxis\":\"y\",\"type\":\"bar\"}],                        {\"template\":{\"data\":{\"histogram2dcontour\":[{\"type\":\"histogram2dcontour\",\"colorbar\":{\"outlinewidth\":0,\"ticks\":\"\"},\"colorscale\":[[0.0,\"#0d0887\"],[0.1111111111111111,\"#46039f\"],[0.2222222222222222,\"#7201a8\"],[0.3333333333333333,\"#9c179e\"],[0.4444444444444444,\"#bd3786\"],[0.5555555555555556,\"#d8576b\"],[0.6666666666666666,\"#ed7953\"],[0.7777777777777778,\"#fb9f3a\"],[0.8888888888888888,\"#fdca26\"],[1.0,\"#f0f921\"]]}],\"choropleth\":[{\"type\":\"choropleth\",\"colorbar\":{\"outlinewidth\":0,\"ticks\":\"\"}}],\"histogram2d\":[{\"type\":\"histogram2d\",\"colorbar\":{\"outlinewidth\":0,\"ticks\":\"\"},\"colorscale\":[[0.0,\"#0d0887\"],[0.1111111111111111,\"#46039f\"],[0.2222222222222222,\"#7201a8\"],[0.3333333333333333,\"#9c179e\"],[0.4444444444444444,\"#bd3786\"],[0.5555555555555556,\"#d8576b\"],[0.6666666666666666,\"#ed7953\"],[0.7777777777777778,\"#fb9f3a\"],[0.8888888888888888,\"#fdca26\"],[1.0,\"#f0f921\"]]}],\"heatmap\":[{\"type\":\"heatmap\",\"colorbar\":{\"outlinewidth\":0,\"ticks\":\"\"},\"colorscale\":[[0.0,\"#0d0887\"],[0.1111111111111111,\"#46039f\"],[0.2222222222222222,\"#7201a8\"],[0.3333333333333333,\"#9c179e\"],[0.4444444444444444,\"#bd3786\"],[0.5555555555555556,\"#d8576b\"],[0.6666666666666666,\"#ed7953\"],[0.7777777777777778,\"#fb9f3a\"],[0.8888888888888888,\"#fdca26\"],[1.0,\"#f0f921\"]]}],\"heatmapgl\":[{\"type\":\"heatmapgl\",\"colorbar\":{\"outlinewidth\":0,\"ticks\":\"\"},\"colorscale\":[[0.0,\"#0d0887\"],[0.1111111111111111,\"#46039f\"],[0.2222222222222222,\"#7201a8\"],[0.3333333333333333,\"#9c179e\"],[0.4444444444444444,\"#bd3786\"],[0.5555555555555556,\"#d8576b\"],[0.6666666666666666,\"#ed7953\"],[0.7777777777777778,\"#fb9f3a\"],[0.8888888888888888,\"#fdca26\"],[1.0,\"#f0f921\"]]}],\"contourcarpet\":[{\"type\":\"contourcarpet\",\"colorbar\":{\"outlinewidth\":0,\"ticks\":\"\"}}],\"contour\":[{\"type\":\"contour\",\"colorbar\":{\"outlinewidth\":0,\"ticks\":\"\"},\"colorscale\":[[0.0,\"#0d0887\"],[0.1111111111111111,\"#46039f\"],[0.2222222222222222,\"#7201a8\"],[0.3333333333333333,\"#9c179e\"],[0.4444444444444444,\"#bd3786\"],[0.5555555555555556,\"#d8576b\"],[0.6666666666666666,\"#ed7953\"],[0.7777777777777778,\"#fb9f3a\"],[0.8888888888888888,\"#fdca26\"],[1.0,\"#f0f921\"]]}],\"surface\":[{\"type\":\"surface\",\"colorbar\":{\"outlinewidth\":0,\"ticks\":\"\"},\"colorscale\":[[0.0,\"#0d0887\"],[0.1111111111111111,\"#46039f\"],[0.2222222222222222,\"#7201a8\"],[0.3333333333333333,\"#9c179e\"],[0.4444444444444444,\"#bd3786\"],[0.5555555555555556,\"#d8576b\"],[0.6666666666666666,\"#ed7953\"],[0.7777777777777778,\"#fb9f3a\"],[0.8888888888888888,\"#fdca26\"],[1.0,\"#f0f921\"]]}],\"mesh3d\":[{\"type\":\"mesh3d\",\"colorbar\":{\"outlinewidth\":0,\"ticks\":\"\"}}],\"scatter\":[{\"fillpattern\":{\"fillmode\":\"overlay\",\"size\":10,\"solidity\":0.2},\"type\":\"scatter\"}],\"parcoords\":[{\"type\":\"parcoords\",\"line\":{\"colorbar\":{\"outlinewidth\":0,\"ticks\":\"\"}}}],\"scatterpolargl\":[{\"type\":\"scatterpolargl\",\"marker\":{\"colorbar\":{\"outlinewidth\":0,\"ticks\":\"\"}}}],\"bar\":[{\"error_x\":{\"color\":\"#2a3f5f\"},\"error_y\":{\"color\":\"#2a3f5f\"},\"marker\":{\"line\":{\"color\":\"#E5ECF6\",\"width\":0.5},\"pattern\":{\"fillmode\":\"overlay\",\"size\":10,\"solidity\":0.2}},\"type\":\"bar\"}],\"scattergeo\":[{\"type\":\"scattergeo\",\"marker\":{\"colorbar\":{\"outlinewidth\":0,\"ticks\":\"\"}}}],\"scatterpolar\":[{\"type\":\"scatterpolar\",\"marker\":{\"colorbar\":{\"outlinewidth\":0,\"ticks\":\"\"}}}],\"histogram\":[{\"marker\":{\"pattern\":{\"fillmode\":\"overlay\",\"size\":10,\"solidity\":0.2}},\"type\":\"histogram\"}],\"scattergl\":[{\"type\":\"scattergl\",\"marker\":{\"colorbar\":{\"outlinewidth\":0,\"ticks\":\"\"}}}],\"scatter3d\":[{\"type\":\"scatter3d\",\"line\":{\"colorbar\":{\"outlinewidth\":0,\"ticks\":\"\"}},\"marker\":{\"colorbar\":{\"outlinewidth\":0,\"ticks\":\"\"}}}],\"scattermapbox\":[{\"type\":\"scattermapbox\",\"marker\":{\"colorbar\":{\"outlinewidth\":0,\"ticks\":\"\"}}}],\"scatterternary\":[{\"type\":\"scatterternary\",\"marker\":{\"colorbar\":{\"outlinewidth\":0,\"ticks\":\"\"}}}],\"scattercarpet\":[{\"type\":\"scattercarpet\",\"marker\":{\"colorbar\":{\"outlinewidth\":0,\"ticks\":\"\"}}}],\"carpet\":[{\"aaxis\":{\"endlinecolor\":\"#2a3f5f\",\"gridcolor\":\"white\",\"linecolor\":\"white\",\"minorgridcolor\":\"white\",\"startlinecolor\":\"#2a3f5f\"},\"baxis\":{\"endlinecolor\":\"#2a3f5f\",\"gridcolor\":\"white\",\"linecolor\":\"white\",\"minorgridcolor\":\"white\",\"startlinecolor\":\"#2a3f5f\"},\"type\":\"carpet\"}],\"table\":[{\"cells\":{\"fill\":{\"color\":\"#EBF0F8\"},\"line\":{\"color\":\"white\"}},\"header\":{\"fill\":{\"color\":\"#C8D4E3\"},\"line\":{\"color\":\"white\"}},\"type\":\"table\"}],\"barpolar\":[{\"marker\":{\"line\":{\"color\":\"#E5ECF6\",\"width\":0.5},\"pattern\":{\"fillmode\":\"overlay\",\"size\":10,\"solidity\":0.2}},\"type\":\"barpolar\"}],\"pie\":[{\"automargin\":true,\"type\":\"pie\"}]},\"layout\":{\"autotypenumbers\":\"strict\",\"colorway\":[\"#636efa\",\"#EF553B\",\"#00cc96\",\"#ab63fa\",\"#FFA15A\",\"#19d3f3\",\"#FF6692\",\"#B6E880\",\"#FF97FF\",\"#FECB52\"],\"font\":{\"color\":\"#2a3f5f\"},\"hovermode\":\"closest\",\"hoverlabel\":{\"align\":\"left\"},\"paper_bgcolor\":\"white\",\"plot_bgcolor\":\"#E5ECF6\",\"polar\":{\"bgcolor\":\"#E5ECF6\",\"angularaxis\":{\"gridcolor\":\"white\",\"linecolor\":\"white\",\"ticks\":\"\"},\"radialaxis\":{\"gridcolor\":\"white\",\"linecolor\":\"white\",\"ticks\":\"\"}},\"ternary\":{\"bgcolor\":\"#E5ECF6\",\"aaxis\":{\"gridcolor\":\"white\",\"linecolor\":\"white\",\"ticks\":\"\"},\"baxis\":{\"gridcolor\":\"white\",\"linecolor\":\"white\",\"ticks\":\"\"},\"caxis\":{\"gridcolor\":\"white\",\"linecolor\":\"white\",\"ticks\":\"\"}},\"coloraxis\":{\"colorbar\":{\"outlinewidth\":0,\"ticks\":\"\"}},\"colorscale\":{\"sequential\":[[0.0,\"#0d0887\"],[0.1111111111111111,\"#46039f\"],[0.2222222222222222,\"#7201a8\"],[0.3333333333333333,\"#9c179e\"],[0.4444444444444444,\"#bd3786\"],[0.5555555555555556,\"#d8576b\"],[0.6666666666666666,\"#ed7953\"],[0.7777777777777778,\"#fb9f3a\"],[0.8888888888888888,\"#fdca26\"],[1.0,\"#f0f921\"]],\"sequentialminus\":[[0.0,\"#0d0887\"],[0.1111111111111111,\"#46039f\"],[0.2222222222222222,\"#7201a8\"],[0.3333333333333333,\"#9c179e\"],[0.4444444444444444,\"#bd3786\"],[0.5555555555555556,\"#d8576b\"],[0.6666666666666666,\"#ed7953\"],[0.7777777777777778,\"#fb9f3a\"],[0.8888888888888888,\"#fdca26\"],[1.0,\"#f0f921\"]],\"diverging\":[[0,\"#8e0152\"],[0.1,\"#c51b7d\"],[0.2,\"#de77ae\"],[0.3,\"#f1b6da\"],[0.4,\"#fde0ef\"],[0.5,\"#f7f7f7\"],[0.6,\"#e6f5d0\"],[0.7,\"#b8e186\"],[0.8,\"#7fbc41\"],[0.9,\"#4d9221\"],[1,\"#276419\"]]},\"xaxis\":{\"gridcolor\":\"white\",\"linecolor\":\"white\",\"ticks\":\"\",\"title\":{\"standoff\":15},\"zerolinecolor\":\"white\",\"automargin\":true,\"zerolinewidth\":2},\"yaxis\":{\"gridcolor\":\"white\",\"linecolor\":\"white\",\"ticks\":\"\",\"title\":{\"standoff\":15},\"zerolinecolor\":\"white\",\"automargin\":true,\"zerolinewidth\":2},\"scene\":{\"xaxis\":{\"backgroundcolor\":\"#E5ECF6\",\"gridcolor\":\"white\",\"linecolor\":\"white\",\"showbackground\":true,\"ticks\":\"\",\"zerolinecolor\":\"white\",\"gridwidth\":2},\"yaxis\":{\"backgroundcolor\":\"#E5ECF6\",\"gridcolor\":\"white\",\"linecolor\":\"white\",\"showbackground\":true,\"ticks\":\"\",\"zerolinecolor\":\"white\",\"gridwidth\":2},\"zaxis\":{\"backgroundcolor\":\"#E5ECF6\",\"gridcolor\":\"white\",\"linecolor\":\"white\",\"showbackground\":true,\"ticks\":\"\",\"zerolinecolor\":\"white\",\"gridwidth\":2}},\"shapedefaults\":{\"line\":{\"color\":\"#2a3f5f\"}},\"annotationdefaults\":{\"arrowcolor\":\"#2a3f5f\",\"arrowhead\":0,\"arrowwidth\":1},\"geo\":{\"bgcolor\":\"white\",\"landcolor\":\"#E5ECF6\",\"subunitcolor\":\"white\",\"showland\":true,\"showlakes\":true,\"lakecolor\":\"white\"},\"title\":{\"x\":0.05},\"mapbox\":{\"style\":\"light\"}}},\"xaxis\":{\"anchor\":\"y\",\"domain\":[0.0,1.0],\"title\":{\"text\":\"precio\"}},\"yaxis\":{\"anchor\":\"x\",\"domain\":[0.0,1.0],\"title\":{\"text\":\"count\"}},\"legend\":{\"tracegroupgap\":0},\"margin\":{\"t\":60},\"barmode\":\"relative\"},                        {\"responsive\": true}                    ).then(function(){\n",
       "                            \n",
       "var gd = document.getElementById('622860f9-3f9f-41ed-a77c-bd51df0bc794');\n",
       "var x = new MutationObserver(function (mutations, observer) {{\n",
       "        var display = window.getComputedStyle(gd).display;\n",
       "        if (!display || display === 'none') {{\n",
       "            console.log([gd, 'removed!']);\n",
       "            Plotly.purge(gd);\n",
       "            observer.disconnect();\n",
       "        }}\n",
       "}});\n",
       "\n",
       "// Listen for the removal of the full notebook cells\n",
       "var notebookContainer = gd.closest('#notebook-container');\n",
       "if (notebookContainer) {{\n",
       "    x.observe(notebookContainer, {childList: true});\n",
       "}}\n",
       "\n",
       "// Listen for the clearing of the current output cell\n",
       "var outputEl = gd.closest('.output');\n",
       "if (outputEl) {{\n",
       "    x.observe(outputEl, {childList: true});\n",
       "}}\n",
       "\n",
       "                        })                };                });            </script>        </div>"
      ]
     },
     "metadata": {},
     "output_type": "display_data"
    }
   ],
   "source": [
    "px.bar(restaurantes, x = 'precio', hover_data=['nombre', 'rate'])"
   ]
  },
  {
   "cell_type": "code",
   "execution_count": 21,
   "id": "76da2dc7",
   "metadata": {},
   "outputs": [
    {
     "data": {
      "application/vnd.plotly.v1+json": {
       "config": {
        "plotlyServerURL": "https://plot.ly"
       },
       "data": [
        {
         "customdata": [
          [
           "Restaurante El Rincón Asturiano",
           4.2,
           "€€"
          ],
          [
           "Restaurante Fortunata",
           4.1,
           "€"
          ],
          [
           "LA TAGUARA By Guayana Mia S.L",
           4.5,
           ""
          ],
          [
           "Bar \"Divino Tinto\"",
           4.5,
           "€€"
          ],
          [
           "Kia Ora",
           4.5,
           ""
          ],
          [
           "La Flor de Asturias",
           3.9,
           "€"
          ],
          [
           "Mesón La Casina",
           3.9,
           "€"
          ],
          [
           "Macarena Madrid",
           4.2,
           ""
          ],
          [
           "La Madreña",
           4.1,
           "€€"
          ],
          [
           "Puerto Maior",
           3.8,
           ""
          ],
          [
           "Restaurante Asturias",
           4.3,
           "€"
          ],
          [
           "Dominguez",
           4.3,
           "€"
          ],
          [
           "Doña Lambra",
           3.9,
           "€"
          ],
          [
           "Restaurante - La Confusa",
           4.6,
           "€"
          ],
          [
           "Mesón Las Regiones",
           4.3,
           "€"
          ],
          [
           "Restaurante Cafetería Trasmontana",
           4,
           "€€"
          ],
          [
           "Los Metales Bar&Kitchen",
           4.7,
           "€€"
          ],
          [
           "Los Castaños",
           4.3,
           "€"
          ],
          [
           "Casa Maxi",
           4.2,
           "€€"
          ],
          [
           "Restaurante Arturo's Méndez Álvaro Buenos cócteles pollo asado cerveza Atocha",
           4.2,
           "€€"
          ],
          [
           "Muxia",
           4.1,
           "€"
          ],
          [
           "Restaurante Horóscopo",
           4.4,
           "€"
          ],
          [
           "Bistro Bar Restaurante",
           4.2,
           "€"
          ],
          [
           "Restaurante Buen Gusto",
           4.2,
           "€"
          ],
          [
           "A Ñora",
           4.2,
           ""
          ],
          [
           "Casa Pedro",
           4.1,
           "€"
          ],
          [
           "Restaurante Nico",
           4,
           ""
          ],
          [
           "Restaurante Arequepay",
           4.6,
           "€"
          ],
          [
           "ALMA CHELI MATADERO",
           4.4,
           "€€"
          ],
          [
           "Restaurante Casa Lucía",
           4.5,
           "€"
          ],
          [
           "Restaurante Os'Peregrinos",
           4.2,
           "€"
          ],
          [
           "Restaurante Mitad del Mundo",
           4.2,
           "€"
          ],
          [
           "Parisien",
           4.3,
           ""
          ],
          [
           "Sidrería Restaurante La Casona",
           3.9,
           "€"
          ],
          [
           "La Cantina del Matadero",
           3.7,
           "€€"
          ],
          [
           "El Tizón",
           3.8,
           "€€"
          ],
          [
           "Bar Menéndez",
           4.7,
           ""
          ],
          [
           "Chipa Ferrocarril",
           4.6,
           ""
          ],
          [
           "Arrocería Imperial",
           4.4,
           "€€"
          ],
          [
           "COCINA 34",
           4.6,
           "€"
          ],
          [
           "Restaurante Cantalejo",
           4,
           "€"
          ],
          [
           "Restaurante Mis Tradiciones",
           4.2,
           "€€"
          ],
          [
           "El Rincón de Asturias",
           4,
           ""
          ],
          [
           "Lola Puñales",
           4.3,
           "€€"
          ],
          [
           "El Rincón A-Gusto",
           4.6,
           "€"
          ],
          [
           "Restaurante O’Ribeiriño",
           3.7,
           "€€"
          ],
          [
           "Cangas Restaurante",
           4.3,
           "€€"
          ],
          [
           "Restaurante Cantespino",
           4,
           "€"
          ],
          [
           "El Ratón De Getaria",
           4.6,
           "€€"
          ],
          [
           "Restaurante Oviedo",
           4.2,
           "€€"
          ],
          [
           "Restaurante Atrapallada",
           3.9,
           "€€"
          ],
          [
           "Pintxoteca",
           4.5,
           ""
          ],
          [
           "El Ideal",
           4.1,
           "€"
          ],
          [
           "Juana la Loca",
           4.5,
           "€€"
          ],
          [
           "Restaurante el Madroño",
           4.2,
           "€"
          ],
          [
           "Restaurants La Chata",
           2.5,
           ""
          ],
          [
           "Restaurante Mis Tradiciones",
           4.2,
           "€€"
          ],
          [
           "Cafetería Favorite Restaurante",
           4.3,
           "€"
          ],
          [
           "Restaurante Esteban",
           4.6,
           "€€€"
          ],
          [
           "Guang Dong City (GD Cuisine)",
           4.4,
           "€"
          ],
          [
           "El sueño de Carmen",
           4.8,
           ""
          ],
          [
           "Sahuaro Madrid",
           4.3,
           "€€"
          ],
          [
           "La Perejila",
           4.5,
           "€"
          ],
          [
           "Sidrería Asgaya",
           4.1,
           "€"
          ],
          [
           "Arrocería D'stapa Madrid",
           4.6,
           "€€"
          ],
          [
           "Restaurante Italiano Emma y Julia",
           4.2,
           "€€"
          ],
          [
           "La Paloma",
           4.4,
           "€€"
          ],
          [
           "Burmet",
           4.8,
           ""
          ],
          [
           "Cantalejo",
           3.8,
           "€"
          ],
          [
           "Taberna Alba's",
           4.3,
           "€€"
          ],
          [
           "Posada de la Villa",
           4.5,
           "€€€"
          ],
          [
           "Bar Restaurante La esquina del Calderón",
           4.4,
           "€"
          ],
          [
           "La Taberna De Mi Abuelo",
           4.1,
           "€"
          ],
          [
           "El Novo Escalón",
           4.3,
           "€"
          ],
          [
           "MEGU",
           4.4,
           "€"
          ],
          [
           "Cervecería Restaurante El Alcázar",
           4,
           ""
          ],
          [
           "Bar Restaurante La Herradura",
           4.2,
           "€"
          ],
          [
           "Restaurante O'Boi",
           4.1,
           "€"
          ],
          [
           "Somolinos",
           4.5,
           "€"
          ],
          [
           "Mafrens",
           4.6,
           "€€"
          ],
          [
           "Restaurante Gibraltar",
           4.6,
           ""
          ],
          [
           "Restaurante Seoul",
           4.3,
           "€"
          ],
          [
           "Restaurante Japonés - RAKU SUSHI",
           4.6,
           "€€"
          ],
          [
           "Casa Lucio",
           4.3,
           "€€"
          ],
          [
           "Taberna del Capitán Alatriste",
           4.4,
           "€€€"
          ],
          [
           "Restaurante O Breogán",
           3.9,
           "€"
          ],
          [
           "Taberna Piedra Pinta",
           4.7,
           ""
          ],
          [
           "Asador Málaga",
           4.4,
           "€"
          ],
          [
           "Terraza La Playa Madrid Río",
           3.9,
           "€€"
          ],
          [
           "Asador \"LOS TRONQUITOS\"",
           4.2,
           "€"
          ],
          [
           "Restaurante Amicis",
           4.3,
           "€€"
          ],
          [
           "La Antoñita",
           4.2,
           ""
          ],
          [
           "Casa Victor",
           4.4,
           "€"
          ],
          [
           "El Landó",
           4.6,
           "€€€"
          ],
          [
           "Restaurante Paraíso",
           4.1,
           "€"
          ],
          [
           "Cervecería El Caño",
           4.6,
           ""
          ],
          [
           "CHIFA Maca",
           4.4,
           "€"
          ],
          [
           "Toga Restaurante",
           4.7,
           "€€"
          ],
          [
           "Don Asador Madrid. Parrilla restaurante argentino.",
           4.9,
           ""
          ],
          [
           "Ronda",
           4.5,
           "€"
          ],
          [
           "Casa Armán",
           4.3,
           "€"
          ],
          [
           "La Barca del Patio",
           3.9,
           "€€"
          ],
          [
           "Taberna La Concha",
           4.5,
           "€€"
          ],
          [
           "Restaurante La Malaje",
           4.2,
           "€€"
          ],
          [
           "La Muralla",
           3.7,
           "€"
          ],
          [
           "GastroBar de la Tierra",
           2.5,
           ""
          ],
          [
           "Naia",
           4,
           "€€"
          ],
          [
           "de Madrid",
           4.1,
           "€"
          ],
          [
           "Restaurante Basarri Terraza",
           4.1,
           "€€"
          ],
          [
           "Bar Restaurante Donde José",
           4.2,
           "€"
          ],
          [
           "La Esquina Peruana",
           4.3,
           "€"
          ],
          [
           "La Casa de Zhou",
           3.8,
           "€"
          ],
          [
           "Ginos",
           4,
           "€€"
          ],
          [
           "Casa Lucas",
           4.5,
           "€€"
          ],
          [
           "Bar Sidrería Aviseo",
           4.3,
           "€"
          ],
          [
           "Pizzería Arezzo",
           4.6,
           "€"
          ],
          [
           "Uskar",
           4.4,
           "€€"
          ],
          [
           "Malacatín",
           4.4,
           "€€"
          ],
          [
           "El Capricho Extremeño",
           4.4,
           "€"
          ],
          [
           "La Posada del Nuncio",
           4.5,
           "€€"
          ],
          [
           "SUSHI MOLA The Crab House.Restaurante Japonés Madrid.",
           4.7,
           ""
          ],
          [
           "Casa Julián de Tolosa",
           4.3,
           "€€€"
          ],
          [
           "La Nueva Martina",
           4.3,
           "€€"
          ],
          [
           "Los Huevos de Lucio",
           4.1,
           "€€"
          ],
          [
           "Cafetería Restaurante Imperial IV",
           4.1,
           "€"
          ],
          [
           "Restaurante Argentino El Camoatí",
           4.5,
           "€€"
          ],
          [
           "Restaurante Los Ángeles",
           4.2,
           "€"
          ],
          [
           "Restaurante LUSI",
           4.1,
           "€"
          ],
          [
           "Bar Ronda",
           4,
           "€"
          ],
          [
           "Cafetería Pontones",
           4.3,
           "€"
          ],
          [
           "Restaurante Fan Hua",
           4.1,
           "€"
          ],
          [
           "Rodilla",
           3.9,
           "€"
          ],
          [
           "Bipolar casa de comidas 2.0",
           4.5,
           "€€"
          ],
          [
           "Cocinante",
           4.3,
           "€"
          ],
          [
           "El Fogón de Usera",
           4.4,
           "€"
          ],
          [
           "La Taberna de Usera",
           4.3,
           "€"
          ],
          [
           "La Parrilla de Usera",
           4.2,
           "€"
          ],
          [
           "La Cuchara Restaurante Asador",
           4.2,
           "€"
          ],
          [
           "Restaurante La Parrilla De Usera",
           4.3,
           "€"
          ],
          [
           "La Casa del Pulpo",
           4.2,
           "€"
          ],
          [
           "Restaurante FEITO USERA",
           4.2,
           "€€"
          ],
          [
           "Restaurante Pasamar",
           4.5,
           "€"
          ],
          [
           "Restaurante Lao Tou",
           4.2,
           "€"
          ],
          [
           "Bodega Amistad",
           4.5,
           "€"
          ],
          [
           "El Rincón de Alina - Bar Restaurante",
           4.2,
           ""
          ],
          [
           "Mr. Doulao (Madrid)",
           4.2,
           "€"
          ],
          [
           "Restaurante La Braña",
           4,
           "€"
          ],
          [
           "La Terracita. Campo De Rugby",
           4.2,
           ""
          ],
          [
           "Igopasta",
           4.4,
           ""
          ],
          [
           "Restaurante Marisco Guo Rong",
           4.1,
           "€"
          ],
          [
           "La Marieta",
           4.3,
           "€"
          ],
          [
           "La Estancia Parrilla Usera",
           4.3,
           "€"
          ],
          [
           "El Carbón De Granada",
           4.7,
           "€€"
          ],
          [
           "A'barca Muxia",
           4.2,
           ""
          ],
          [
           "Restaurante La Barca",
           3.9,
           "€"
          ],
          [
           "Usera 面香缘",
           4.5,
           ""
          ],
          [
           "Feito Río",
           4.1,
           "€€"
          ],
          [
           "Restaurante la Fonda de Colombia ~ Comida Típica Colombiana",
           4.3,
           "€"
          ],
          [
           "Taberna Andaluza Sacromonte",
           4.7,
           "€"
          ],
          [
           "LA AUTENTICA",
           4.3,
           ""
          ],
          [
           "Al Carbón restaurante",
           4.5,
           ""
          ],
          [
           "Asador de Pollos Usera",
           4.6,
           "€"
          ],
          [
           "La Posada de Coti",
           4.2,
           "€"
          ],
          [
           "Cervecería LA CURIOSA",
           4.5,
           "€€"
          ],
          [
           "La abuela Aleja sabor peruano",
           3.7,
           ""
          ],
          [
           "La Alegría De Enrique",
           3.8,
           ""
          ],
          [
           "Royal Cantonés",
           4.3,
           "€"
          ],
          [
           "Bar Restaurante Las Palmeras",
           3.9,
           ""
          ],
          [
           "Casa Mariano",
           4,
           "€"
          ],
          [
           "Perla del Pacifico",
           4,
           "€"
          ],
          [
           "Restaurante Monteferro",
           4.1,
           "€€"
          ],
          [
           "O Freixo",
           3.8,
           "€"
          ],
          [
           "Restaurante Brasayleña CC Plaza Río 2",
           3.8,
           "€€"
          ],
          [
           "El Sabroso",
           4.3,
           ""
          ],
          [
           "Los Cantaritos",
           4,
           "€"
          ],
          [
           "Wanlixiang",
           4.2,
           ""
          ],
          [
           "El Obrero",
           3.8,
           ""
          ],
          [
           "Helaotai (Madrid)",
           4.3,
           "€"
          ],
          [
           "Chic & Trick Bar-Restaurante",
           4.7,
           "€"
          ],
          [
           "La Nueva Terraza Verde",
           4.3,
           "€"
          ],
          [
           "Gilan Restaurante",
           3.9,
           "€€"
          ],
          [
           "Real turkito",
           3.9,
           "€"
          ],
          [
           "Casa Ciri",
           4.3,
           "€"
          ],
          [
           "RESTAURANTE CASA BLANCA",
           4,
           "€"
          ],
          [
           "Restaurante Boliviano Madrid - VIPBAR",
           4.2,
           "€"
          ],
          [
           "川辣香都 Restaurante Sichuan",
           4.3,
           "€"
          ],
          [
           "Jaleos",
           4.1,
           "€"
          ],
          [
           "Jordan Gala Restaurante Cafe Bar",
           4.1,
           "€"
          ],
          [
           "Restaurante Asador Veliz",
           4.3,
           ""
          ],
          [
           "Barbacoa",
           3.6,
           ""
          ],
          [
           "Restaurante ~ La Perla Boliviana 2",
           3.8,
           "€"
          ],
          [
           "Restaurante Ecu-tropical",
           4.6,
           ""
          ],
          [
           "Restaurante Sabor Chiclayano",
           3.9,
           "€"
          ],
          [
           "Restaurante BAMMBAO 打包！(TIBU)",
           4.9,
           ""
          ],
          [
           "Pasta Wok",
           4.1,
           ""
          ],
          [
           "Cordero",
           4.2,
           "€"
          ],
          [
           "Jin Yun Shao Bing",
           4.2,
           "€"
          ],
          [
           "Restaurante Jin Gu",
           4.2,
           ""
          ],
          [
           "La Sazon Boliviana",
           4.2,
           "€"
          ],
          [
           "Terraza Moscardó",
           3.9,
           "€"
          ],
          [
           "El Cruceño Bar Restaurante",
           4.1,
           "€"
          ],
          [
           "QUE BO",
           4.9,
           ""
          ],
          [
           "La Estacion usera",
           5,
           ""
          ],
          [
           "Restaurante Rincón de Andalucia",
           4.2,
           "€"
          ],
          [
           "Bar restaurante Los Kali 2",
           3.8,
           "€"
          ],
          [
           "MESON VALENCIA",
           4.9,
           ""
          ],
          [
           "Mesón Ocandil",
           4,
           ""
          ],
          [
           "Restaurante Parilla Punata",
           2.5,
           ""
          ],
          [
           "Bar Restaurante Nicol",
           4,
           ""
          ],
          [
           "Restaurante Zagros",
           4.4,
           "€"
          ],
          [
           "Restaurante KFC",
           3.6,
           "€"
          ],
          [
           "VOHEMY RESTAURANTE",
           4.6,
           ""
          ],
          [
           "AREPA OLE \"USERA\"",
           3.7,
           "€"
          ],
          [
           "Alice Pizza",
           4.4,
           "€"
          ],
          [
           "Cocina Fresca",
           4,
           ""
          ],
          [
           "Restaurante Margarita",
           3,
           ""
          ],
          [
           "Chuan Shui Yao Restaurante",
           4.1,
           ""
          ],
          [
           "el fogon ecuatoriano",
           3.7,
           "€€"
          ],
          [
           "El Trébol",
           4.2,
           ""
          ],
          [
           "Carnívoros BBQ bar parrilla",
           4.3,
           "€"
          ],
          [
           "Restaurante Vickar",
           2.5,
           ""
          ],
          [
           "Chernobil",
           3.9,
           ""
          ],
          [
           "Deewey",
           3.5,
           ""
          ],
          [
           "Entre Fuego y Carbón - Restaurante Peruano, Menús, Hamburguesas y Carnes al Carbón en Madrid",
           4.5,
           ""
          ],
          [
           "Bar El Aventurero",
           4.4,
           "€"
          ],
          [
           "Bar La Alegria",
           3.6,
           ""
          ],
          [
           "Pizza Mirasierra",
           3.7,
           ""
          ],
          [
           "Bodega La Andaluza",
           3.8,
           "€"
          ],
          [
           "Del Santos Restaurante",
           5,
           ""
          ],
          [
           "Rocío al",
           2.5,
           ""
          ],
          [
           "Mesón La Peña Soriana",
           4.4,
           "€"
          ],
          [
           "Bar Want Kee",
           4.5,
           ""
          ],
          [
           "Pabellón Gathering Edge",
           4.1,
           ""
          ],
          [
           "阿郑小炒 AZHENG restaurante",
           4.9,
           ""
          ],
          [
           "sabor cafetero",
           5,
           ""
          ],
          [
           "MASAMADRE PIZZA USERA",
           3.9,
           "€"
          ],
          [
           "BBTO Sabor Carretillero",
           4,
           ""
          ],
          [
           "Vértice",
           3.7,
           "€"
          ],
          [
           "Restaurante Boliviano Margarita",
           5,
           ""
          ],
          [
           "Museo del Jamón",
           3.9,
           "€"
          ],
          [
           "Bar quillacollo",
           4.2,
           "€"
          ],
          [
           "Restaurante Marisco",
           4.3,
           ""
          ],
          [
           "Mesón Madridejos",
           4,
           "€"
          ],
          [
           "GRAN ASADOR DEL SUR",
           4.3,
           "€€"
          ],
          [
           "MASTER POLLO",
           4.2,
           "€"
          ],
          [
           "Restaurante Chino Da Fa (Usera)",
           3.9,
           "€"
          ],
          [
           "Bar La Peña Soriana",
           4,
           "€"
          ],
          [
           "Bar cafetería aquí me quedo",
           4.4,
           ""
          ],
          [
           "Cocinas del Mundo",
           4,
           ""
          ],
          [
           "Pollo Asado Sudamérica",
           4,
           ""
          ],
          [
           "Burger john",
           4.5,
           "€"
          ],
          [
           "Asador De Pollos Tokio",
           4.3,
           "€"
          ],
          [
           "Rodilla",
           3.8,
           "€"
          ],
          [
           "Restaurante La Suite del Lago",
           4.3,
           "€€"
          ],
          [
           "Mesón Toledano",
           4.4,
           "€€"
          ],
          [
           "El Barril",
           4.1,
           ""
          ],
          [
           "Puerto Pirata",
           4.2,
           "€"
          ],
          [
           "Garri's",
           4.7,
           ""
          ],
          [
           "Arrivederci Comida Italiana",
           4.6,
           "€"
          ],
          [
           "Restaurante el Almendro Pinto",
           4.1,
           "€"
          ],
          [
           "La Cúspide Pinto - Restaurante Peruano",
           4.6,
           ""
          ],
          [
           "Asador Parrilla Rincón De Castilla",
           4,
           "€"
          ],
          [
           "El Buen Yantar de Azucena",
           4.2,
           "€"
          ],
          [
           "Las Patatas de Javi",
           4.3,
           "€"
          ],
          [
           "Mesón Salazar",
           4.2,
           "€"
          ],
          [
           "My'Secret",
           3.9,
           "€"
          ],
          [
           "Il Vit Restaurante Cafetería",
           4.3,
           "€"
          ],
          [
           "Eneria",
           4.4,
           ""
          ],
          [
           "Restaurante Plaza",
           4.1,
           "€"
          ],
          [
           "La Posada",
           3.8,
           "€"
          ],
          [
           "Restaurante El Buen Comer",
           2.5,
           "€"
          ],
          [
           "Restaurante Nadu",
           5,
           ""
          ],
          [
           "La cantina de Frida",
           4,
           ""
          ],
          [
           "Restaurante Panpintao",
           4.7,
           ""
          ],
          [
           "Jamon Y Vino",
           3.9,
           "€"
          ],
          [
           "Crokante",
           4.3,
           ""
          ],
          [
           "Reverso Restaurante",
           4.8,
           ""
          ],
          [
           "Malauva",
           4.5,
           ""
          ],
          [
           "RESTAURANTE EVELIN",
           4.6,
           ""
          ],
          [
           "Restaurante Buenaventura",
           4.1,
           "€"
          ],
          [
           "A Fuego Lento",
           4.5,
           "€"
          ],
          [
           "El Asador De Pinto",
           4.1,
           "€€"
          ],
          [
           "Restaurante Punctum",
           4.6,
           ""
          ],
          [
           "La Barbería",
           4.1,
           "€"
          ],
          [
           "Restaurante Artium",
           4.6,
           ""
          ],
          [
           "Como la trucha al trucho",
           4.9,
           ""
          ],
          [
           "El Apretón II pinto",
           4.2,
           "€"
          ],
          [
           "La Capilla Del Parque",
           3.6,
           "€"
          ],
          [
           "El Teatro de Baco",
           4.5,
           ""
          ],
          [
           "El Apeadero de Pinto",
           4.3,
           ""
          ],
          [
           "Los Ratitos de Marotti",
           4.4,
           "€"
          ],
          [
           "Quintana Bar - Restaurante",
           4.3,
           "€"
          ],
          [
           "EBOLI Gastro",
           4.3,
           ""
          ],
          [
           "Restaurante Chinatown",
           4.3,
           "€"
          ],
          [
           "Restaurante Maica",
           2.5,
           ""
          ],
          [
           "Asador de Pollos El Buen Gusto",
           4.8,
           "€"
          ],
          [
           "Asador ¡Cómo como!",
           4.4,
           "€"
          ],
          [
           "Restaurante el Cisne",
           2.3,
           ""
          ],
          [
           "Cafetería Romayka de David Aguilar",
           4.2,
           "€"
          ],
          [
           "Foster's Hollywood",
           3.3,
           "€€"
          ],
          [
           "The Wok House",
           3.9,
           "€"
          ],
          [
           "La Esperanza",
           4.2,
           ""
          ],
          [
           "La Nave Burger",
           4.7,
           ""
          ],
          [
           "LUSUVER 2018 S.L.U",
           2.5,
           ""
          ],
          [
           "Ponzano",
           4.6,
           ""
          ],
          [
           "Las Delicias Sushi Bar",
           4.4,
           ""
          ],
          [
           "Restaurante LIPARI.",
           3.5,
           "€"
          ],
          [
           "Cafetería Trazos",
           4.3,
           "€"
          ],
          [
           "Al Barrio",
           2.5,
           ""
          ],
          [
           "Wanderlux 360º",
           4.9,
           ""
          ],
          [
           "New pizza pasta",
           4.3,
           "€"
          ],
          [
           "🍽️ En Blanko Taberna",
           4.6,
           ""
          ],
          [
           "Gela",
           4,
           "€"
          ],
          [
           "Anteux Burger",
           4.5,
           "€"
          ],
          [
           "Restaurante Casa Antonio",
           4,
           "€"
          ],
          [
           "La Ostra",
           4.4,
           "€"
          ],
          [
           "Salvaje GastroBar",
           4.6,
           ""
          ],
          [
           "OnSushi",
           4.3,
           "€€"
          ],
          [
           "La Mancha",
           4,
           "€"
          ],
          [
           "Cafetería Gran Vía",
           3.6,
           "€"
          ],
          [
           "Nova Galicia 2",
           4.2,
           "€€"
          ],
          [
           "Restaurante 100 Montaditos",
           3.6,
           "€"
          ],
          [
           "Han",
           4.1,
           "€"
          ],
          [
           "Muerde la Pasta",
           3.4,
           "€"
          ],
          [
           "Cervecería Vinoteca LO NUESTRO",
           3.9,
           ""
          ],
          [
           "La Bahia de Cadiz",
           3.8,
           "€"
          ],
          [
           "Bar El Rincón",
           4.3,
           "€"
          ],
          [
           "Cervecería Atila",
           4.3,
           "€"
          ],
          [
           "Bar Félix",
           4.4,
           "€"
          ],
          [
           "Oasis Cafetería",
           4,
           ""
          ],
          [
           "GASTROCHEF comida para llevar",
           4.3,
           ""
          ],
          [
           "Pizzería Carlos | Pinto",
           3.9,
           "€"
          ],
          [
           "POMODORO Pizza Pasta Burritos",
           3.5,
           "€"
          ],
          [
           "Burger King",
           3.1,
           "€"
          ],
          [
           "Bar los Pitufos",
           4.5,
           "€"
          ],
          [
           "Bar La Rábida.",
           4.4,
           "€"
          ],
          [
           "El Pollo Rico",
           4.3,
           "€"
          ],
          [
           "Bar El Refugio de Pinto",
           4,
           "€"
          ],
          [
           "McDonald's",
           3.5,
           "€"
          ],
          [
           "Cerveceria pub Tennessee",
           4.8,
           ""
          ],
          [
           "Chiringuito De Paco",
           3.9,
           ""
          ],
          [
           "Bar Restaurante La Rinconada",
           4.5,
           "€"
          ],
          [
           "Restaurante Chino Nueva Muralla",
           3.3,
           "€"
          ],
          [
           "Telepizza Pinto - Comida a Domicilio",
           3.2,
           "€"
          ],
          [
           "Arrocería de Pinto",
           3,
           ""
          ],
          [
           "Émalú Coffee Bar",
           4.2,
           "€"
          ],
          [
           "Kebab",
           3.8,
           "€"
          ],
          [
           "Xing",
           3.9,
           "€"
          ],
          [
           "Bar Central Tenería",
           4,
           ""
          ],
          [
           "Asador De Pollos",
           4,
           ""
          ],
          [
           "kebab express & fried chicken",
           3.3,
           ""
          ],
          [
           "Manhattan Lounge",
           4.5,
           ""
          ],
          [
           "Cafetería Restaurante Puerta de Pinto",
           4.1,
           "€€"
          ],
          [
           "Domino's Pizza",
           4,
           "€"
          ],
          [
           "Bar Grana y Oro",
           4.3,
           ""
          ],
          [
           "American Retro Diner",
           1.5,
           ""
          ],
          [
           "Finca, La Nueva",
           3.9,
           "€"
          ],
          [
           "Pincho Doner Kebab",
           3.9,
           ""
          ],
          [
           "Voy Volando Pinto",
           4.3,
           ""
          ],
          [
           "Princesa Café & Bar",
           3.9,
           "€"
          ],
          [
           "Cafeteria Restaurante",
           4,
           ""
          ],
          [
           "EL ROBLE",
           4.2,
           "€"
          ],
          [
           "Restaurante Casa Fermín",
           4.3,
           ""
          ]
         ],
         "hovertemplate": "index=%{x}<br>resenas=%{y}<br>nombre=%{customdata[0]}<br>rate=%{customdata[1]}<br>precio=%{customdata[2]}<extra></extra>",
         "legendgroup": "",
         "line": {
          "color": "#636efa",
          "dash": "solid"
         },
         "marker": {
          "symbol": "circle"
         },
         "mode": "lines",
         "name": "",
         "orientation": "v",
         "showlegend": false,
         "type": "scatter",
         "x": [
          0,
          1,
          2,
          3,
          4,
          5,
          6,
          7,
          8,
          9,
          10,
          11,
          12,
          13,
          14,
          15,
          16,
          18,
          19,
          20,
          21,
          22,
          23,
          24,
          25,
          26,
          27,
          28,
          29,
          30,
          31,
          32,
          33,
          34,
          35,
          36,
          37,
          38,
          39,
          41,
          42,
          43,
          44,
          45,
          46,
          49,
          50,
          51,
          54,
          55,
          56,
          57,
          61,
          62,
          63,
          64,
          65,
          67,
          73,
          74,
          75,
          76,
          77,
          78,
          79,
          80,
          81,
          82,
          83,
          84,
          85,
          86,
          87,
          88,
          89,
          90,
          91,
          92,
          96,
          97,
          98,
          99,
          100,
          102,
          103,
          104,
          105,
          106,
          107,
          108,
          109,
          110,
          111,
          112,
          113,
          114,
          115,
          116,
          117,
          118,
          119,
          120,
          121,
          122,
          123,
          124,
          125,
          128,
          129,
          130,
          131,
          132,
          133,
          134,
          135,
          136,
          137,
          140,
          141,
          142,
          143,
          144,
          145,
          146,
          147,
          148,
          149,
          151,
          152,
          153,
          154,
          155,
          156,
          157,
          158,
          159,
          160,
          161,
          162,
          163,
          164,
          165,
          166,
          167,
          168,
          169,
          170,
          171,
          172,
          173,
          174,
          175,
          176,
          178,
          179,
          180,
          181,
          182,
          183,
          184,
          185,
          186,
          187,
          188,
          191,
          192,
          193,
          194,
          195,
          196,
          197,
          198,
          199,
          200,
          201,
          202,
          203,
          204,
          205,
          206,
          207,
          208,
          209,
          210,
          211,
          212,
          213,
          214,
          215,
          216,
          217,
          218,
          219,
          220,
          221,
          222,
          223,
          224,
          225,
          226,
          227,
          228,
          229,
          230,
          231,
          232,
          233,
          234,
          235,
          236,
          237,
          238,
          239,
          240,
          241,
          242,
          243,
          244,
          245,
          246,
          247,
          248,
          249,
          250,
          251,
          252,
          253,
          254,
          255,
          256,
          257,
          258,
          259,
          260,
          261,
          262,
          263,
          264,
          265,
          266,
          267,
          268,
          269,
          270,
          271,
          272,
          273,
          274,
          275,
          276,
          277,
          278,
          279,
          280,
          281,
          283,
          284,
          285,
          286,
          287,
          288,
          289,
          290,
          291,
          292,
          293,
          294,
          295,
          297,
          298,
          299,
          300,
          301,
          302,
          303,
          304,
          305,
          306,
          308,
          309,
          310,
          311,
          312,
          313,
          314,
          315,
          316,
          317,
          318,
          319,
          320,
          321,
          322,
          323,
          324,
          325,
          327,
          329,
          330,
          331,
          332,
          333,
          334,
          335,
          336,
          337,
          338,
          342,
          343,
          344,
          345,
          346,
          347,
          348,
          349,
          350,
          351,
          352,
          355,
          359,
          360,
          361,
          362,
          363,
          364,
          365,
          366,
          367,
          368,
          369,
          370,
          371,
          372,
          373,
          374,
          375,
          376,
          377,
          378,
          379,
          380,
          381,
          382,
          383,
          384,
          385,
          386,
          387,
          388,
          389,
          390,
          391,
          392,
          393,
          394,
          395,
          396,
          397,
          398,
          400,
          401,
          403,
          404
         ],
         "xaxis": "x",
         "y": [
          3871,
          519,
          617,
          832,
          126,
          307,
          315,
          1734,
          2443,
          1057,
          2377,
          546,
          285,
          264,
          772,
          636,
          898,
          1335,
          357,
          1038,
          679,
          386,
          291,
          1709,
          486,
          345,
          1,
          1139,
          891,
          368,
          228,
          365,
          277,
          380,
          912,
          512,
          38,
          116,
          1030,
          162,
          767,
          1428,
          211,
          272,
          16,
          637,
          529,
          259,
          195,
          2456,
          2781,
          159,
          426,
          4502,
          2035,
          0,
          2275,
          186,
          474,
          793,
          157,
          1815,
          1603,
          1501,
          1124,
          1635,
          923,
          493,
          952,
          294,
          2259,
          856,
          665,
          344,
          747,
          210,
          168,
          271,
          220,
          560,
          797,
          957,
          583,
          6992,
          1823,
          286,
          131,
          152,
          1429,
          367,
          1045,
          738,
          384,
          740,
          139,
          547,
          1310,
          1732,
          726,
          266,
          512,
          1870,
          2008,
          749,
          700,
          0,
          730,
          283,
          844,
          123,
          650,
          153,
          1240,
          1118,
          238,
          211,
          1207,
          2397,
          875,
          449,
          209,
          940,
          1234,
          3713,
          167,
          1250,
          794,
          354,
          615,
          503,
          264,
          419,
          502,
          97,
          462,
          234,
          1017,
          196,
          2824,
          1011,
          901,
          349,
          1023,
          440,
          357,
          480,
          1659,
          731,
          1442,
          619,
          141,
          429,
          703,
          1115,
          280,
          105,
          1859,
          1866,
          261,
          95,
          233,
          115,
          807,
          481,
          115,
          149,
          2718,
          87,
          1986,
          806,
          193,
          1775,
          2450,
          55,
          194,
          127,
          162,
          402,
          116,
          230,
          496,
          67,
          198,
          141,
          821,
          202,
          402,
          1566,
          4,
          76,
          726,
          157,
          93,
          356,
          55,
          75,
          222,
          329,
          66,
          918,
          235,
          82,
          2,
          137,
          208,
          13,
          41,
          0,
          1,
          220,
          1553,
          88,
          162,
          320,
          46,
          23,
          212,
          356,
          6,
          341,
          0,
          80,
          667,
          244,
          58,
          142,
          66,
          1167,
          1,
          0,
          631,
          11,
          29,
          29,
          14,
          249,
          53,
          319,
          1,
          5430,
          84,
          6,
          139,
          80,
          96,
          496,
          500,
          10,
          8,
          204,
          228,
          141,
          785,
          2744,
          808,
          361,
          1072,
          173,
          658,
          148,
          353,
          1383,
          92,
          499,
          101,
          660,
          108,
          85,
          348,
          315,
          8,
          20,
          207,
          278,
          204,
          322,
          295,
          224,
          15,
          901,
          168,
          206,
          144,
          887,
          10,
          51,
          703,
          721,
          146,
          168,
          211,
          254,
          24,
          434,
          0,
          429,
          112,
          3,
          419,
          859,
          581,
          157,
          232,
          0,
          114,
          411,
          345,
          492,
          0,
          39,
          591,
          98,
          492,
          537,
          567,
          324,
          245,
          285,
          201,
          1299,
          448,
          377,
          451,
          399,
          414,
          239,
          123,
          2188,
          261,
          155,
          60,
          558,
          180,
          606,
          401,
          148,
          115,
          459,
          3144,
          26,
          8,
          106,
          137,
          483,
          3,
          414,
          113,
          175,
          204,
          31,
          43,
          101,
          382,
          1475,
          316,
          2,
          64,
          159,
          214,
          349,
          37,
          36,
          704
         ],
         "yaxis": "y"
        }
       ],
       "layout": {
        "legend": {
         "tracegroupgap": 0
        },
        "margin": {
         "t": 60
        },
        "template": {
         "data": {
          "bar": [
           {
            "error_x": {
             "color": "#2a3f5f"
            },
            "error_y": {
             "color": "#2a3f5f"
            },
            "marker": {
             "line": {
              "color": "#E5ECF6",
              "width": 0.5
             },
             "pattern": {
              "fillmode": "overlay",
              "size": 10,
              "solidity": 0.2
             }
            },
            "type": "bar"
           }
          ],
          "barpolar": [
           {
            "marker": {
             "line": {
              "color": "#E5ECF6",
              "width": 0.5
             },
             "pattern": {
              "fillmode": "overlay",
              "size": 10,
              "solidity": 0.2
             }
            },
            "type": "barpolar"
           }
          ],
          "carpet": [
           {
            "aaxis": {
             "endlinecolor": "#2a3f5f",
             "gridcolor": "white",
             "linecolor": "white",
             "minorgridcolor": "white",
             "startlinecolor": "#2a3f5f"
            },
            "baxis": {
             "endlinecolor": "#2a3f5f",
             "gridcolor": "white",
             "linecolor": "white",
             "minorgridcolor": "white",
             "startlinecolor": "#2a3f5f"
            },
            "type": "carpet"
           }
          ],
          "choropleth": [
           {
            "colorbar": {
             "outlinewidth": 0,
             "ticks": ""
            },
            "type": "choropleth"
           }
          ],
          "contour": [
           {
            "colorbar": {
             "outlinewidth": 0,
             "ticks": ""
            },
            "colorscale": [
             [
              0,
              "#0d0887"
             ],
             [
              0.1111111111111111,
              "#46039f"
             ],
             [
              0.2222222222222222,
              "#7201a8"
             ],
             [
              0.3333333333333333,
              "#9c179e"
             ],
             [
              0.4444444444444444,
              "#bd3786"
             ],
             [
              0.5555555555555556,
              "#d8576b"
             ],
             [
              0.6666666666666666,
              "#ed7953"
             ],
             [
              0.7777777777777778,
              "#fb9f3a"
             ],
             [
              0.8888888888888888,
              "#fdca26"
             ],
             [
              1,
              "#f0f921"
             ]
            ],
            "type": "contour"
           }
          ],
          "contourcarpet": [
           {
            "colorbar": {
             "outlinewidth": 0,
             "ticks": ""
            },
            "type": "contourcarpet"
           }
          ],
          "heatmap": [
           {
            "colorbar": {
             "outlinewidth": 0,
             "ticks": ""
            },
            "colorscale": [
             [
              0,
              "#0d0887"
             ],
             [
              0.1111111111111111,
              "#46039f"
             ],
             [
              0.2222222222222222,
              "#7201a8"
             ],
             [
              0.3333333333333333,
              "#9c179e"
             ],
             [
              0.4444444444444444,
              "#bd3786"
             ],
             [
              0.5555555555555556,
              "#d8576b"
             ],
             [
              0.6666666666666666,
              "#ed7953"
             ],
             [
              0.7777777777777778,
              "#fb9f3a"
             ],
             [
              0.8888888888888888,
              "#fdca26"
             ],
             [
              1,
              "#f0f921"
             ]
            ],
            "type": "heatmap"
           }
          ],
          "heatmapgl": [
           {
            "colorbar": {
             "outlinewidth": 0,
             "ticks": ""
            },
            "colorscale": [
             [
              0,
              "#0d0887"
             ],
             [
              0.1111111111111111,
              "#46039f"
             ],
             [
              0.2222222222222222,
              "#7201a8"
             ],
             [
              0.3333333333333333,
              "#9c179e"
             ],
             [
              0.4444444444444444,
              "#bd3786"
             ],
             [
              0.5555555555555556,
              "#d8576b"
             ],
             [
              0.6666666666666666,
              "#ed7953"
             ],
             [
              0.7777777777777778,
              "#fb9f3a"
             ],
             [
              0.8888888888888888,
              "#fdca26"
             ],
             [
              1,
              "#f0f921"
             ]
            ],
            "type": "heatmapgl"
           }
          ],
          "histogram": [
           {
            "marker": {
             "pattern": {
              "fillmode": "overlay",
              "size": 10,
              "solidity": 0.2
             }
            },
            "type": "histogram"
           }
          ],
          "histogram2d": [
           {
            "colorbar": {
             "outlinewidth": 0,
             "ticks": ""
            },
            "colorscale": [
             [
              0,
              "#0d0887"
             ],
             [
              0.1111111111111111,
              "#46039f"
             ],
             [
              0.2222222222222222,
              "#7201a8"
             ],
             [
              0.3333333333333333,
              "#9c179e"
             ],
             [
              0.4444444444444444,
              "#bd3786"
             ],
             [
              0.5555555555555556,
              "#d8576b"
             ],
             [
              0.6666666666666666,
              "#ed7953"
             ],
             [
              0.7777777777777778,
              "#fb9f3a"
             ],
             [
              0.8888888888888888,
              "#fdca26"
             ],
             [
              1,
              "#f0f921"
             ]
            ],
            "type": "histogram2d"
           }
          ],
          "histogram2dcontour": [
           {
            "colorbar": {
             "outlinewidth": 0,
             "ticks": ""
            },
            "colorscale": [
             [
              0,
              "#0d0887"
             ],
             [
              0.1111111111111111,
              "#46039f"
             ],
             [
              0.2222222222222222,
              "#7201a8"
             ],
             [
              0.3333333333333333,
              "#9c179e"
             ],
             [
              0.4444444444444444,
              "#bd3786"
             ],
             [
              0.5555555555555556,
              "#d8576b"
             ],
             [
              0.6666666666666666,
              "#ed7953"
             ],
             [
              0.7777777777777778,
              "#fb9f3a"
             ],
             [
              0.8888888888888888,
              "#fdca26"
             ],
             [
              1,
              "#f0f921"
             ]
            ],
            "type": "histogram2dcontour"
           }
          ],
          "mesh3d": [
           {
            "colorbar": {
             "outlinewidth": 0,
             "ticks": ""
            },
            "type": "mesh3d"
           }
          ],
          "parcoords": [
           {
            "line": {
             "colorbar": {
              "outlinewidth": 0,
              "ticks": ""
             }
            },
            "type": "parcoords"
           }
          ],
          "pie": [
           {
            "automargin": true,
            "type": "pie"
           }
          ],
          "scatter": [
           {
            "fillpattern": {
             "fillmode": "overlay",
             "size": 10,
             "solidity": 0.2
            },
            "type": "scatter"
           }
          ],
          "scatter3d": [
           {
            "line": {
             "colorbar": {
              "outlinewidth": 0,
              "ticks": ""
             }
            },
            "marker": {
             "colorbar": {
              "outlinewidth": 0,
              "ticks": ""
             }
            },
            "type": "scatter3d"
           }
          ],
          "scattercarpet": [
           {
            "marker": {
             "colorbar": {
              "outlinewidth": 0,
              "ticks": ""
             }
            },
            "type": "scattercarpet"
           }
          ],
          "scattergeo": [
           {
            "marker": {
             "colorbar": {
              "outlinewidth": 0,
              "ticks": ""
             }
            },
            "type": "scattergeo"
           }
          ],
          "scattergl": [
           {
            "marker": {
             "colorbar": {
              "outlinewidth": 0,
              "ticks": ""
             }
            },
            "type": "scattergl"
           }
          ],
          "scattermapbox": [
           {
            "marker": {
             "colorbar": {
              "outlinewidth": 0,
              "ticks": ""
             }
            },
            "type": "scattermapbox"
           }
          ],
          "scatterpolar": [
           {
            "marker": {
             "colorbar": {
              "outlinewidth": 0,
              "ticks": ""
             }
            },
            "type": "scatterpolar"
           }
          ],
          "scatterpolargl": [
           {
            "marker": {
             "colorbar": {
              "outlinewidth": 0,
              "ticks": ""
             }
            },
            "type": "scatterpolargl"
           }
          ],
          "scatterternary": [
           {
            "marker": {
             "colorbar": {
              "outlinewidth": 0,
              "ticks": ""
             }
            },
            "type": "scatterternary"
           }
          ],
          "surface": [
           {
            "colorbar": {
             "outlinewidth": 0,
             "ticks": ""
            },
            "colorscale": [
             [
              0,
              "#0d0887"
             ],
             [
              0.1111111111111111,
              "#46039f"
             ],
             [
              0.2222222222222222,
              "#7201a8"
             ],
             [
              0.3333333333333333,
              "#9c179e"
             ],
             [
              0.4444444444444444,
              "#bd3786"
             ],
             [
              0.5555555555555556,
              "#d8576b"
             ],
             [
              0.6666666666666666,
              "#ed7953"
             ],
             [
              0.7777777777777778,
              "#fb9f3a"
             ],
             [
              0.8888888888888888,
              "#fdca26"
             ],
             [
              1,
              "#f0f921"
             ]
            ],
            "type": "surface"
           }
          ],
          "table": [
           {
            "cells": {
             "fill": {
              "color": "#EBF0F8"
             },
             "line": {
              "color": "white"
             }
            },
            "header": {
             "fill": {
              "color": "#C8D4E3"
             },
             "line": {
              "color": "white"
             }
            },
            "type": "table"
           }
          ]
         },
         "layout": {
          "annotationdefaults": {
           "arrowcolor": "#2a3f5f",
           "arrowhead": 0,
           "arrowwidth": 1
          },
          "autotypenumbers": "strict",
          "coloraxis": {
           "colorbar": {
            "outlinewidth": 0,
            "ticks": ""
           }
          },
          "colorscale": {
           "diverging": [
            [
             0,
             "#8e0152"
            ],
            [
             0.1,
             "#c51b7d"
            ],
            [
             0.2,
             "#de77ae"
            ],
            [
             0.3,
             "#f1b6da"
            ],
            [
             0.4,
             "#fde0ef"
            ],
            [
             0.5,
             "#f7f7f7"
            ],
            [
             0.6,
             "#e6f5d0"
            ],
            [
             0.7,
             "#b8e186"
            ],
            [
             0.8,
             "#7fbc41"
            ],
            [
             0.9,
             "#4d9221"
            ],
            [
             1,
             "#276419"
            ]
           ],
           "sequential": [
            [
             0,
             "#0d0887"
            ],
            [
             0.1111111111111111,
             "#46039f"
            ],
            [
             0.2222222222222222,
             "#7201a8"
            ],
            [
             0.3333333333333333,
             "#9c179e"
            ],
            [
             0.4444444444444444,
             "#bd3786"
            ],
            [
             0.5555555555555556,
             "#d8576b"
            ],
            [
             0.6666666666666666,
             "#ed7953"
            ],
            [
             0.7777777777777778,
             "#fb9f3a"
            ],
            [
             0.8888888888888888,
             "#fdca26"
            ],
            [
             1,
             "#f0f921"
            ]
           ],
           "sequentialminus": [
            [
             0,
             "#0d0887"
            ],
            [
             0.1111111111111111,
             "#46039f"
            ],
            [
             0.2222222222222222,
             "#7201a8"
            ],
            [
             0.3333333333333333,
             "#9c179e"
            ],
            [
             0.4444444444444444,
             "#bd3786"
            ],
            [
             0.5555555555555556,
             "#d8576b"
            ],
            [
             0.6666666666666666,
             "#ed7953"
            ],
            [
             0.7777777777777778,
             "#fb9f3a"
            ],
            [
             0.8888888888888888,
             "#fdca26"
            ],
            [
             1,
             "#f0f921"
            ]
           ]
          },
          "colorway": [
           "#636efa",
           "#EF553B",
           "#00cc96",
           "#ab63fa",
           "#FFA15A",
           "#19d3f3",
           "#FF6692",
           "#B6E880",
           "#FF97FF",
           "#FECB52"
          ],
          "font": {
           "color": "#2a3f5f"
          },
          "geo": {
           "bgcolor": "white",
           "lakecolor": "white",
           "landcolor": "#E5ECF6",
           "showlakes": true,
           "showland": true,
           "subunitcolor": "white"
          },
          "hoverlabel": {
           "align": "left"
          },
          "hovermode": "closest",
          "mapbox": {
           "style": "light"
          },
          "paper_bgcolor": "white",
          "plot_bgcolor": "#E5ECF6",
          "polar": {
           "angularaxis": {
            "gridcolor": "white",
            "linecolor": "white",
            "ticks": ""
           },
           "bgcolor": "#E5ECF6",
           "radialaxis": {
            "gridcolor": "white",
            "linecolor": "white",
            "ticks": ""
           }
          },
          "scene": {
           "xaxis": {
            "backgroundcolor": "#E5ECF6",
            "gridcolor": "white",
            "gridwidth": 2,
            "linecolor": "white",
            "showbackground": true,
            "ticks": "",
            "zerolinecolor": "white"
           },
           "yaxis": {
            "backgroundcolor": "#E5ECF6",
            "gridcolor": "white",
            "gridwidth": 2,
            "linecolor": "white",
            "showbackground": true,
            "ticks": "",
            "zerolinecolor": "white"
           },
           "zaxis": {
            "backgroundcolor": "#E5ECF6",
            "gridcolor": "white",
            "gridwidth": 2,
            "linecolor": "white",
            "showbackground": true,
            "ticks": "",
            "zerolinecolor": "white"
           }
          },
          "shapedefaults": {
           "line": {
            "color": "#2a3f5f"
           }
          },
          "ternary": {
           "aaxis": {
            "gridcolor": "white",
            "linecolor": "white",
            "ticks": ""
           },
           "baxis": {
            "gridcolor": "white",
            "linecolor": "white",
            "ticks": ""
           },
           "bgcolor": "#E5ECF6",
           "caxis": {
            "gridcolor": "white",
            "linecolor": "white",
            "ticks": ""
           }
          },
          "title": {
           "x": 0.05
          },
          "xaxis": {
           "automargin": true,
           "gridcolor": "white",
           "linecolor": "white",
           "ticks": "",
           "title": {
            "standoff": 15
           },
           "zerolinecolor": "white",
           "zerolinewidth": 2
          },
          "yaxis": {
           "automargin": true,
           "gridcolor": "white",
           "linecolor": "white",
           "ticks": "",
           "title": {
            "standoff": 15
           },
           "zerolinecolor": "white",
           "zerolinewidth": 2
          }
         }
        },
        "xaxis": {
         "anchor": "y",
         "domain": [
          0,
          1
         ],
         "title": {
          "text": "index"
         }
        },
        "yaxis": {
         "anchor": "x",
         "domain": [
          0,
          1
         ],
         "title": {
          "text": "resenas"
         }
        }
       }
      },
      "text/html": [
       "<div>                            <div id=\"bad59aaf-7ffc-4693-b1aa-d2e6e076dbf1\" class=\"plotly-graph-div\" style=\"height:525px; width:100%;\"></div>            <script type=\"text/javascript\">                require([\"plotly\"], function(Plotly) {                    window.PLOTLYENV=window.PLOTLYENV || {};                                    if (document.getElementById(\"bad59aaf-7ffc-4693-b1aa-d2e6e076dbf1\")) {                    Plotly.newPlot(                        \"bad59aaf-7ffc-4693-b1aa-d2e6e076dbf1\",                        [{\"customdata\":[[\"Restaurante El Rinc\\u00f3n Asturiano\",4.2,\"\\u20ac\\u20ac\"],[\"Restaurante Fortunata\",4.1,\"\\u20ac\"],[\"LA TAGUARA By Guayana Mia S.L\",4.5,\"\"],[\"Bar \\\"Divino Tinto\\\"\",4.5,\"\\u20ac\\u20ac\"],[\"Kia Ora\",4.5,\"\"],[\"La Flor de Asturias\",3.9,\"\\u20ac\"],[\"Mes\\u00f3n La Casina\",3.9,\"\\u20ac\"],[\"Macarena Madrid\",4.2,\"\"],[\"La Madre\\u00f1a\",4.1,\"\\u20ac\\u20ac\"],[\"Puerto Maior\",3.8,\"\"],[\"Restaurante Asturias\",4.3,\"\\u20ac\"],[\"Dominguez\",4.3,\"\\u20ac\"],[\"Do\\u00f1a Lambra\",3.9,\"\\u20ac\"],[\"Restaurante - La Confusa\",4.6,\"\\u20ac\"],[\"Mes\\u00f3n Las Regiones\",4.3,\"\\u20ac\"],[\"Restaurante Cafeter\\u00eda Trasmontana\",4.0,\"\\u20ac\\u20ac\"],[\"Los Metales Bar&Kitchen\",4.7,\"\\u20ac\\u20ac\"],[\"Los Casta\\u00f1os\",4.3,\"\\u20ac\"],[\"Casa Maxi\",4.2,\"\\u20ac\\u20ac\"],[\"Restaurante Arturo's M\\u00e9ndez \\u00c1lvaro Buenos c\\u00f3cteles pollo asado cerveza Atocha\",4.2,\"\\u20ac\\u20ac\"],[\"Muxia\",4.1,\"\\u20ac\"],[\"Restaurante Hor\\u00f3scopo\",4.4,\"\\u20ac\"],[\"Bistro Bar Restaurante\",4.2,\"\\u20ac\"],[\"Restaurante Buen Gusto\",4.2,\"\\u20ac\"],[\"A \\u00d1ora\",4.2,\"\"],[\"Casa Pedro\",4.1,\"\\u20ac\"],[\"Restaurante Nico\",4.0,\"\"],[\"Restaurante Arequepay\",4.6,\"\\u20ac\"],[\"ALMA CHELI MATADERO\",4.4,\"\\u20ac\\u20ac\"],[\"Restaurante Casa Luc\\u00eda\",4.5,\"\\u20ac\"],[\"Restaurante Os'Peregrinos\",4.2,\"\\u20ac\"],[\"Restaurante Mitad del Mundo\",4.2,\"\\u20ac\"],[\"Parisien\",4.3,\"\"],[\"Sidrer\\u00eda Restaurante La Casona\",3.9,\"\\u20ac\"],[\"La Cantina del Matadero\",3.7,\"\\u20ac\\u20ac\"],[\"El Tiz\\u00f3n\",3.8,\"\\u20ac\\u20ac\"],[\"Bar Men\\u00e9ndez\",4.7,\"\"],[\"Chipa Ferrocarril\",4.6,\"\"],[\"Arrocer\\u00eda Imperial\",4.4,\"\\u20ac\\u20ac\"],[\"COCINA 34\",4.6,\"\\u20ac\"],[\"Restaurante Cantalejo\",4.0,\"\\u20ac\"],[\"Restaurante Mis Tradiciones\",4.2,\"\\u20ac\\u20ac\"],[\"El Rinc\\u00f3n de Asturias\",4.0,\"\"],[\"Lola Pu\\u00f1ales\",4.3,\"\\u20ac\\u20ac\"],[\"El Rinc\\u00f3n A-Gusto\",4.6,\"\\u20ac\"],[\"Restaurante O\\u2019Ribeiri\\u00f1o\",3.7,\"\\u20ac\\u20ac\"],[\"Cangas Restaurante\",4.3,\"\\u20ac\\u20ac\"],[\"Restaurante Cantespino\",4.0,\"\\u20ac\"],[\"El Rat\\u00f3n De Getaria\",4.6,\"\\u20ac\\u20ac\"],[\"Restaurante Oviedo\",4.2,\"\\u20ac\\u20ac\"],[\"Restaurante Atrapallada\",3.9,\"\\u20ac\\u20ac\"],[\"Pintxoteca\",4.5,\"\"],[\"El Ideal\",4.1,\"\\u20ac\"],[\"Juana la Loca\",4.5,\"\\u20ac\\u20ac\"],[\"Restaurante el Madro\\u00f1o\",4.2,\"\\u20ac\"],[\"Restaurants La Chata\",2.5,\"\"],[\"Restaurante Mis Tradiciones\",4.2,\"\\u20ac\\u20ac\"],[\"Cafeter\\u00eda Favorite Restaurante\",4.3,\"\\u20ac\"],[\"Restaurante Esteban\",4.6,\"\\u20ac\\u20ac\\u20ac\"],[\"Guang Dong City (GD Cuisine)\",4.4,\"\\u20ac\"],[\"El sue\\u00f1o de Carmen\",4.8,\"\"],[\"Sahuaro Madrid\",4.3,\"\\u20ac\\u20ac\"],[\"La Perejila\",4.5,\"\\u20ac\"],[\"Sidrer\\u00eda Asgaya\",4.1,\"\\u20ac\"],[\"Arrocer\\u00eda D'stapa Madrid\",4.6,\"\\u20ac\\u20ac\"],[\"Restaurante Italiano Emma y Julia\",4.2,\"\\u20ac\\u20ac\"],[\"La Paloma\",4.4,\"\\u20ac\\u20ac\"],[\"Burmet\",4.8,\"\"],[\"Cantalejo\",3.8,\"\\u20ac\"],[\"Taberna Alba's\",4.3,\"\\u20ac\\u20ac\"],[\"Posada de la Villa\",4.5,\"\\u20ac\\u20ac\\u20ac\"],[\"Bar Restaurante La esquina del Calder\\u00f3n\",4.4,\"\\u20ac\"],[\"La Taberna De Mi Abuelo\",4.1,\"\\u20ac\"],[\"El Novo Escal\\u00f3n\",4.3,\"\\u20ac\"],[\"MEGU\",4.4,\"\\u20ac\"],[\"Cervecer\\u00eda Restaurante El Alc\\u00e1zar\",4.0,\"\"],[\"Bar Restaurante La Herradura\",4.2,\"\\u20ac\"],[\"Restaurante O'Boi\",4.1,\"\\u20ac\"],[\"Somolinos\",4.5,\"\\u20ac\"],[\"Mafrens\",4.6,\"\\u20ac\\u20ac\"],[\"Restaurante Gibraltar\",4.6,\"\"],[\"Restaurante Seoul\",4.3,\"\\u20ac\"],[\"Restaurante Japon\\u00e9s - RAKU SUSHI\",4.6,\"\\u20ac\\u20ac\"],[\"Casa Lucio\",4.3,\"\\u20ac\\u20ac\"],[\"Taberna del Capit\\u00e1n Alatriste\",4.4,\"\\u20ac\\u20ac\\u20ac\"],[\"Restaurante O Breog\\u00e1n\",3.9,\"\\u20ac\"],[\"Taberna Piedra Pinta\",4.7,\"\"],[\"Asador M\\u00e1laga\",4.4,\"\\u20ac\"],[\"Terraza La Playa Madrid R\\u00edo\",3.9,\"\\u20ac\\u20ac\"],[\"Asador \\\"LOS TRONQUITOS\\\"\",4.2,\"\\u20ac\"],[\"Restaurante Amicis\",4.3,\"\\u20ac\\u20ac\"],[\"La Anto\\u00f1ita\",4.2,\"\"],[\"Casa Victor\",4.4,\"\\u20ac\"],[\"El Land\\u00f3\",4.6,\"\\u20ac\\u20ac\\u20ac\"],[\"Restaurante Para\\u00edso\",4.1,\"\\u20ac\"],[\"Cervecer\\u00eda El Ca\\u00f1o\",4.6,\"\"],[\"CHIFA Maca\",4.4,\"\\u20ac\"],[\"Toga Restaurante\",4.7,\"\\u20ac\\u20ac\"],[\"Don Asador Madrid. Parrilla restaurante argentino.\",4.9,\"\"],[\"Ronda\",4.5,\"\\u20ac\"],[\"Casa Arm\\u00e1n\",4.3,\"\\u20ac\"],[\"La Barca del Patio\",3.9,\"\\u20ac\\u20ac\"],[\"Taberna La Concha\",4.5,\"\\u20ac\\u20ac\"],[\"Restaurante La Malaje\",4.2,\"\\u20ac\\u20ac\"],[\"La Muralla\",3.7,\"\\u20ac\"],[\"GastroBar de la Tierra\",2.5,\"\"],[\"Naia\",4.0,\"\\u20ac\\u20ac\"],[\"de Madrid\",4.1,\"\\u20ac\"],[\"Restaurante Basarri Terraza\",4.1,\"\\u20ac\\u20ac\"],[\"Bar Restaurante Donde Jos\\u00e9\",4.2,\"\\u20ac\"],[\"La Esquina Peruana\",4.3,\"\\u20ac\"],[\"La Casa de Zhou\",3.8,\"\\u20ac\"],[\"Ginos\",4.0,\"\\u20ac\\u20ac\"],[\"Casa Lucas\",4.5,\"\\u20ac\\u20ac\"],[\"Bar Sidrer\\u00eda Aviseo\",4.3,\"\\u20ac\"],[\"Pizzer\\u00eda Arezzo\",4.6,\"\\u20ac\"],[\"Uskar\",4.4,\"\\u20ac\\u20ac\"],[\"Malacat\\u00edn\",4.4,\"\\u20ac\\u20ac\"],[\"El Capricho Extreme\\u00f1o\",4.4,\"\\u20ac\"],[\"La Posada del Nuncio\",4.5,\"\\u20ac\\u20ac\"],[\"SUSHI MOLA The Crab House.Restaurante Japon\\u00e9s Madrid.\",4.7,\"\"],[\"Casa Juli\\u00e1n de Tolosa\",4.3,\"\\u20ac\\u20ac\\u20ac\"],[\"La Nueva Martina\",4.3,\"\\u20ac\\u20ac\"],[\"Los Huevos de Lucio\",4.1,\"\\u20ac\\u20ac\"],[\"Cafeter\\u00eda Restaurante Imperial IV\",4.1,\"\\u20ac\"],[\"Restaurante Argentino El Camoat\\u00ed\",4.5,\"\\u20ac\\u20ac\"],[\"Restaurante Los \\u00c1ngeles\",4.2,\"\\u20ac\"],[\"Restaurante LUSI\",4.1,\"\\u20ac\"],[\"Bar Ronda\",4.0,\"\\u20ac\"],[\"Cafeter\\u00eda Pontones\",4.3,\"\\u20ac\"],[\"Restaurante Fan Hua\",4.1,\"\\u20ac\"],[\"Rodilla\",3.9,\"\\u20ac\"],[\"Bipolar casa de comidas 2.0\",4.5,\"\\u20ac\\u20ac\"],[\"Cocinante\",4.3,\"\\u20ac\"],[\"El Fog\\u00f3n de Usera\",4.4,\"\\u20ac\"],[\"La Taberna de Usera\",4.3,\"\\u20ac\"],[\"La Parrilla de Usera\",4.2,\"\\u20ac\"],[\"La Cuchara Restaurante Asador\",4.2,\"\\u20ac\"],[\"Restaurante La Parrilla De Usera\",4.3,\"\\u20ac\"],[\"La Casa del Pulpo\",4.2,\"\\u20ac\"],[\"Restaurante FEITO USERA\",4.2,\"\\u20ac\\u20ac\"],[\"Restaurante Pasamar\",4.5,\"\\u20ac\"],[\"Restaurante Lao Tou\",4.2,\"\\u20ac\"],[\"Bodega Amistad\",4.5,\"\\u20ac\"],[\"El Rinc\\u00f3n de Alina - Bar Restaurante\",4.2,\"\"],[\"Mr. Doulao (Madrid)\",4.2,\"\\u20ac\"],[\"Restaurante La Bra\\u00f1a\",4.0,\"\\u20ac\"],[\"La Terracita. Campo De Rugby\",4.2,\"\"],[\"Igopasta\",4.4,\"\"],[\"Restaurante Marisco Guo Rong\",4.1,\"\\u20ac\"],[\"La Marieta\",4.3,\"\\u20ac\"],[\"La Estancia Parrilla Usera\",4.3,\"\\u20ac\"],[\"El Carb\\u00f3n De Granada\",4.7,\"\\u20ac\\u20ac\"],[\"A'barca Muxia\",4.2,\"\"],[\"Restaurante La Barca\",3.9,\"\\u20ac\"],[\"Usera \\u9762\\u9999\\u7f18\",4.5,\"\"],[\"Feito R\\u00edo\",4.1,\"\\u20ac\\u20ac\"],[\"Restaurante la Fonda de Colombia ~ Comida T\\u00edpica Colombiana\",4.3,\"\\u20ac\"],[\"Taberna Andaluza Sacromonte\",4.7,\"\\u20ac\"],[\"LA AUTENTICA\",4.3,\"\"],[\"Al Carb\\u00f3n restaurante\",4.5,\"\"],[\"Asador de Pollos Usera\",4.6,\"\\u20ac\"],[\"La Posada de Coti\",4.2,\"\\u20ac\"],[\"Cervecer\\u00eda LA CURIOSA\",4.5,\"\\u20ac\\u20ac\"],[\"La abuela Aleja sabor peruano\",3.7,\"\"],[\"La Alegr\\u00eda De Enrique\",3.8,\"\"],[\"Royal Canton\\u00e9s\",4.3,\"\\u20ac\"],[\"Bar Restaurante Las Palmeras\",3.9,\"\"],[\"Casa Mariano\",4.0,\"\\u20ac\"],[\"Perla del Pacifico\",4.0,\"\\u20ac\"],[\"Restaurante Monteferro\",4.1,\"\\u20ac\\u20ac\"],[\"O Freixo\",3.8,\"\\u20ac\"],[\"Restaurante Brasayle\\u00f1a CC Plaza R\\u00edo 2\",3.8,\"\\u20ac\\u20ac\"],[\"El Sabroso\",4.3,\"\"],[\"Los Cantaritos\",4.0,\"\\u20ac\"],[\"Wanlixiang\",4.2,\"\"],[\"El Obrero\",3.8,\"\"],[\"Helaotai (Madrid)\",4.3,\"\\u20ac\"],[\"Chic & Trick Bar-Restaurante\",4.7,\"\\u20ac\"],[\"La Nueva Terraza Verde\",4.3,\"\\u20ac\"],[\"Gilan Restaurante\",3.9,\"\\u20ac\\u20ac\"],[\"Real turkito\",3.9,\"\\u20ac\"],[\"Casa Ciri\",4.3,\"\\u20ac\"],[\"RESTAURANTE CASA BLANCA\",4.0,\"\\u20ac\"],[\"Restaurante Boliviano Madrid - VIPBAR\",4.2,\"\\u20ac\"],[\"\\u5ddd\\u8fa3\\u9999\\u90fd Restaurante Sichuan\",4.3,\"\\u20ac\"],[\"Jaleos\",4.1,\"\\u20ac\"],[\"Jordan Gala Restaurante Cafe Bar\",4.1,\"\\u20ac\"],[\"Restaurante Asador Veliz\",4.3,\"\"],[\"Barbacoa\",3.6,\"\"],[\"Restaurante ~ La Perla Boliviana 2\",3.8,\"\\u20ac\"],[\"Restaurante Ecu-tropical\",4.6,\"\"],[\"Restaurante Sabor Chiclayano\",3.9,\"\\u20ac\"],[\"Restaurante BAMMBAO \\u6253\\u5305\\uff01(TIBU)\",4.9,\"\"],[\"Pasta Wok\",4.1,\"\"],[\"Cordero\",4.2,\"\\u20ac\"],[\"Jin Yun Shao Bing\",4.2,\"\\u20ac\"],[\"Restaurante Jin Gu\",4.2,\"\"],[\"La Sazon Boliviana\",4.2,\"\\u20ac\"],[\"Terraza Moscard\\u00f3\",3.9,\"\\u20ac\"],[\"El Cruce\\u00f1o Bar Restaurante\",4.1,\"\\u20ac\"],[\"QUE BO\",4.9,\"\"],[\"La Estacion usera\",5.0,\"\"],[\"Restaurante Rinc\\u00f3n de Andalucia\",4.2,\"\\u20ac\"],[\"Bar restaurante Los Kali 2\",3.8,\"\\u20ac\"],[\"MESON VALENCIA\",4.9,\"\"],[\"Mes\\u00f3n Ocandil\",4.0,\"\"],[\"Restaurante Parilla Punata\",2.5,\"\"],[\"Bar Restaurante Nicol\",4.0,\"\"],[\"Restaurante Zagros\",4.4,\"\\u20ac\"],[\"Restaurante KFC\",3.6,\"\\u20ac\"],[\"VOHEMY RESTAURANTE\",4.6,\"\"],[\"AREPA OLE \\\"USERA\\\"\",3.7,\"\\u20ac\"],[\"Alice Pizza\",4.4,\"\\u20ac\"],[\"Cocina Fresca\",4.0,\"\"],[\"Restaurante Margarita\",3.0,\"\"],[\"Chuan Shui Yao Restaurante\",4.1,\"\"],[\"el fogon ecuatoriano\",3.7,\"\\u20ac\\u20ac\"],[\"El Tr\\u00e9bol\",4.2,\"\"],[\"Carn\\u00edvoros BBQ bar parrilla\",4.3,\"\\u20ac\"],[\"Restaurante Vickar\",2.5,\"\"],[\"Chernobil\",3.9,\"\"],[\"Deewey\",3.5,\"\"],[\"Entre Fuego y Carb\\u00f3n - Restaurante Peruano, Men\\u00fas, Hamburguesas y Carnes al Carb\\u00f3n en Madrid\",4.5,\"\"],[\"Bar El Aventurero\",4.4,\"\\u20ac\"],[\"Bar La Alegria\",3.6,\"\"],[\"Pizza Mirasierra\",3.7,\"\"],[\"Bodega La Andaluza\",3.8,\"\\u20ac\"],[\"Del Santos Restaurante\",5.0,\"\"],[\"Roc\\u00edo al\",2.5,\"\"],[\"Mes\\u00f3n La Pe\\u00f1a Soriana\",4.4,\"\\u20ac\"],[\"Bar Want Kee\",4.5,\"\"],[\"Pabell\\u00f3n Gathering Edge\",4.1,\"\"],[\"\\u963f\\u90d1\\u5c0f\\u7092 AZHENG restaurante\",4.9,\"\"],[\"sabor cafetero\",5.0,\"\"],[\"MASAMADRE PIZZA USERA\",3.9,\"\\u20ac\"],[\"BBTO Sabor Carretillero\",4.0,\"\"],[\"V\\u00e9rtice\",3.7,\"\\u20ac\"],[\"Restaurante Boliviano Margarita\",5.0,\"\"],[\"Museo del Jam\\u00f3n\",3.9,\"\\u20ac\"],[\"Bar quillacollo\",4.2,\"\\u20ac\"],[\"Restaurante Marisco\",4.3,\"\"],[\"Mes\\u00f3n Madridejos\",4.0,\"\\u20ac\"],[\"GRAN ASADOR DEL SUR\",4.3,\"\\u20ac\\u20ac\"],[\"MASTER POLLO\",4.2,\"\\u20ac\"],[\"Restaurante Chino Da Fa (Usera)\",3.9,\"\\u20ac\"],[\"Bar La Pe\\u00f1a Soriana\",4.0,\"\\u20ac\"],[\"Bar cafeter\\u00eda aqu\\u00ed me quedo\",4.4,\"\"],[\"Cocinas del Mundo\",4.0,\"\"],[\"Pollo Asado Sudam\\u00e9rica\",4.0,\"\"],[\"Burger john\",4.5,\"\\u20ac\"],[\"Asador De Pollos Tokio\",4.3,\"\\u20ac\"],[\"Rodilla\",3.8,\"\\u20ac\"],[\"Restaurante La Suite del Lago\",4.3,\"\\u20ac\\u20ac\"],[\"Mes\\u00f3n Toledano\",4.4,\"\\u20ac\\u20ac\"],[\"El Barril\",4.1,\"\"],[\"Puerto Pirata\",4.2,\"\\u20ac\"],[\"Garri's\",4.7,\"\"],[\"Arrivederci Comida Italiana\",4.6,\"\\u20ac\"],[\"Restaurante el Almendro Pinto\",4.1,\"\\u20ac\"],[\"La C\\u00faspide Pinto - Restaurante Peruano\",4.6,\"\"],[\"Asador Parrilla Rinc\\u00f3n De Castilla\",4.0,\"\\u20ac\"],[\"El Buen Yantar de Azucena\",4.2,\"\\u20ac\"],[\"Las Patatas de Javi\",4.3,\"\\u20ac\"],[\"Mes\\u00f3n Salazar\",4.2,\"\\u20ac\"],[\"My'Secret\",3.9,\"\\u20ac\"],[\"Il Vit Restaurante Cafeter\\u00eda\",4.3,\"\\u20ac\"],[\"Eneria\",4.4,\"\"],[\"Restaurante Plaza\",4.1,\"\\u20ac\"],[\"La Posada\",3.8,\"\\u20ac\"],[\"Restaurante El Buen Comer\",2.5,\"\\u20ac\"],[\"Restaurante Nadu\",5.0,\"\"],[\"La cantina de Frida\",4.0,\"\"],[\"Restaurante Panpintao\",4.7,\"\"],[\"Jamon Y Vino\",3.9,\"\\u20ac\"],[\"Crokante\",4.3,\"\"],[\"Reverso Restaurante\",4.8,\"\"],[\"Malauva\",4.5,\"\"],[\"RESTAURANTE EVELIN\",4.6,\"\"],[\"Restaurante Buenaventura\",4.1,\"\\u20ac\"],[\"A Fuego Lento\",4.5,\"\\u20ac\"],[\"El Asador De Pinto\",4.1,\"\\u20ac\\u20ac\"],[\"Restaurante Punctum\",4.6,\"\"],[\"La Barber\\u00eda\",4.1,\"\\u20ac\"],[\"Restaurante Artium\",4.6,\"\"],[\"Como la trucha al trucho\",4.9,\"\"],[\"El Apret\\u00f3n II pinto\",4.2,\"\\u20ac\"],[\"La Capilla Del Parque\",3.6,\"\\u20ac\"],[\"El Teatro de Baco\",4.5,\"\"],[\"El Apeadero de Pinto\",4.3,\"\"],[\"Los Ratitos de Marotti\",4.4,\"\\u20ac\"],[\"Quintana Bar - Restaurante\",4.3,\"\\u20ac\"],[\"EBOLI Gastro\",4.3,\"\"],[\"Restaurante Chinatown\",4.3,\"\\u20ac\"],[\"Restaurante Maica\",2.5,\"\"],[\"Asador de Pollos El Buen Gusto\",4.8,\"\\u20ac\"],[\"Asador \\u00a1C\\u00f3mo como!\",4.4,\"\\u20ac\"],[\"Restaurante el Cisne\",2.3,\"\"],[\"Cafeter\\u00eda Romayka de David Aguilar\",4.2,\"\\u20ac\"],[\"Foster's Hollywood\",3.3,\"\\u20ac\\u20ac\"],[\"The Wok House\",3.9,\"\\u20ac\"],[\"La Esperanza\",4.2,\"\"],[\"La Nave Burger\",4.7,\"\"],[\"LUSUVER 2018 S.L.U\",2.5,\"\"],[\"Ponzano\",4.6,\"\"],[\"Las Delicias Sushi Bar\",4.4,\"\"],[\"Restaurante LIPARI.\",3.5,\"\\u20ac\"],[\"Cafeter\\u00eda Trazos\",4.3,\"\\u20ac\"],[\"Al Barrio\",2.5,\"\"],[\"Wanderlux 360\\u00ba\",4.9,\"\"],[\"New pizza pasta\",4.3,\"\\u20ac\"],[\"\\ud83c\\udf7d\\ufe0f En Blanko Taberna\",4.6,\"\"],[\"Gela\",4.0,\"\\u20ac\"],[\"Anteux Burger\",4.5,\"\\u20ac\"],[\"Restaurante Casa Antonio\",4.0,\"\\u20ac\"],[\"La Ostra\",4.4,\"\\u20ac\"],[\"Salvaje GastroBar\",4.6,\"\"],[\"OnSushi\",4.3,\"\\u20ac\\u20ac\"],[\"La Mancha\",4.0,\"\\u20ac\"],[\"Cafeter\\u00eda Gran V\\u00eda\",3.6,\"\\u20ac\"],[\"Nova Galicia 2\",4.2,\"\\u20ac\\u20ac\"],[\"Restaurante 100 Montaditos\",3.6,\"\\u20ac\"],[\"Han\",4.1,\"\\u20ac\"],[\"Muerde la Pasta\",3.4,\"\\u20ac\"],[\"Cervecer\\u00eda Vinoteca LO NUESTRO\",3.9,\"\"],[\"La Bahia de Cadiz\",3.8,\"\\u20ac\"],[\"Bar El Rinc\\u00f3n\",4.3,\"\\u20ac\"],[\"Cervecer\\u00eda Atila\",4.3,\"\\u20ac\"],[\"Bar F\\u00e9lix\",4.4,\"\\u20ac\"],[\"Oasis Cafeter\\u00eda\",4.0,\"\"],[\"GASTROCHEF comida para llevar\",4.3,\"\"],[\"Pizzer\\u00eda Carlos | Pinto\",3.9,\"\\u20ac\"],[\"POMODORO Pizza Pasta Burritos\",3.5,\"\\u20ac\"],[\"Burger King\",3.1,\"\\u20ac\"],[\"Bar los Pitufos\",4.5,\"\\u20ac\"],[\"Bar La R\\u00e1bida.\",4.4,\"\\u20ac\"],[\"El Pollo Rico\",4.3,\"\\u20ac\"],[\"Bar El Refugio de Pinto\",4.0,\"\\u20ac\"],[\"McDonald's\",3.5,\"\\u20ac\"],[\"Cerveceria pub Tennessee\",4.8,\"\"],[\"Chiringuito De Paco\",3.9,\"\"],[\"Bar Restaurante La Rinconada\",4.5,\"\\u20ac\"],[\"Restaurante Chino Nueva Muralla\",3.3,\"\\u20ac\"],[\"Telepizza Pinto - Comida a Domicilio\",3.2,\"\\u20ac\"],[\"Arrocer\\u00eda de Pinto\",3.0,\"\"],[\"\\u00c9mal\\u00fa Coffee Bar\",4.2,\"\\u20ac\"],[\"Kebab\",3.8,\"\\u20ac\"],[\"Xing\",3.9,\"\\u20ac\"],[\"Bar Central Tener\\u00eda\",4.0,\"\"],[\"Asador De Pollos\",4.0,\"\"],[\"kebab express & fried chicken\",3.3,\"\"],[\"Manhattan Lounge\",4.5,\"\"],[\"Cafeter\\u00eda Restaurante Puerta de Pinto\",4.1,\"\\u20ac\\u20ac\"],[\"Domino's Pizza\",4.0,\"\\u20ac\"],[\"Bar Grana y Oro\",4.3,\"\"],[\"American Retro Diner\",1.5,\"\"],[\"Finca, La Nueva\",3.9,\"\\u20ac\"],[\"Pincho Doner Kebab\",3.9,\"\"],[\"Voy Volando Pinto\",4.3,\"\"],[\"Princesa Caf\\u00e9 & Bar\",3.9,\"\\u20ac\"],[\"Cafeteria Restaurante\",4.0,\"\"],[\"EL ROBLE\",4.2,\"\\u20ac\"],[\"Restaurante Casa Ferm\\u00edn\",4.3,\"\"]],\"hovertemplate\":\"index=%{x}<br>resenas=%{y}<br>nombre=%{customdata[0]}<br>rate=%{customdata[1]}<br>precio=%{customdata[2]}<extra></extra>\",\"legendgroup\":\"\",\"line\":{\"color\":\"#636efa\",\"dash\":\"solid\"},\"marker\":{\"symbol\":\"circle\"},\"mode\":\"lines\",\"name\":\"\",\"orientation\":\"v\",\"showlegend\":false,\"x\":[0,1,2,3,4,5,6,7,8,9,10,11,12,13,14,15,16,18,19,20,21,22,23,24,25,26,27,28,29,30,31,32,33,34,35,36,37,38,39,41,42,43,44,45,46,49,50,51,54,55,56,57,61,62,63,64,65,67,73,74,75,76,77,78,79,80,81,82,83,84,85,86,87,88,89,90,91,92,96,97,98,99,100,102,103,104,105,106,107,108,109,110,111,112,113,114,115,116,117,118,119,120,121,122,123,124,125,128,129,130,131,132,133,134,135,136,137,140,141,142,143,144,145,146,147,148,149,151,152,153,154,155,156,157,158,159,160,161,162,163,164,165,166,167,168,169,170,171,172,173,174,175,176,178,179,180,181,182,183,184,185,186,187,188,191,192,193,194,195,196,197,198,199,200,201,202,203,204,205,206,207,208,209,210,211,212,213,214,215,216,217,218,219,220,221,222,223,224,225,226,227,228,229,230,231,232,233,234,235,236,237,238,239,240,241,242,243,244,245,246,247,248,249,250,251,252,253,254,255,256,257,258,259,260,261,262,263,264,265,266,267,268,269,270,271,272,273,274,275,276,277,278,279,280,281,283,284,285,286,287,288,289,290,291,292,293,294,295,297,298,299,300,301,302,303,304,305,306,308,309,310,311,312,313,314,315,316,317,318,319,320,321,322,323,324,325,327,329,330,331,332,333,334,335,336,337,338,342,343,344,345,346,347,348,349,350,351,352,355,359,360,361,362,363,364,365,366,367,368,369,370,371,372,373,374,375,376,377,378,379,380,381,382,383,384,385,386,387,388,389,390,391,392,393,394,395,396,397,398,400,401,403,404],\"xaxis\":\"x\",\"y\":[3871.0,519.0,617.0,832.0,126.0,307.0,315.0,1734.0,2443.0,1057.0,2377.0,546.0,285.0,264.0,772.0,636.0,898.0,1335.0,357.0,1038.0,679.0,386.0,291.0,1709.0,486.0,345.0,1.0,1139.0,891.0,368.0,228.0,365.0,277.0,380.0,912.0,512.0,38.0,116.0,1030.0,162.0,767.0,1428.0,211.0,272.0,16.0,637.0,529.0,259.0,195.0,2456.0,2781.0,159.0,426.0,4502.0,2035.0,0.0,2275.0,186.0,474.0,793.0,157.0,1815.0,1603.0,1501.0,1124.0,1635.0,923.0,493.0,952.0,294.0,2259.0,856.0,665.0,344.0,747.0,210.0,168.0,271.0,220.0,560.0,797.0,957.0,583.0,6992.0,1823.0,286.0,131.0,152.0,1429.0,367.0,1045.0,738.0,384.0,740.0,139.0,547.0,1310.0,1732.0,726.0,266.0,512.0,1870.0,2008.0,749.0,700.0,0.0,730.0,283.0,844.0,123.0,650.0,153.0,1240.0,1118.0,238.0,211.0,1207.0,2397.0,875.0,449.0,209.0,940.0,1234.0,3713.0,167.0,1250.0,794.0,354.0,615.0,503.0,264.0,419.0,502.0,97.0,462.0,234.0,1017.0,196.0,2824.0,1011.0,901.0,349.0,1023.0,440.0,357.0,480.0,1659.0,731.0,1442.0,619.0,141.0,429.0,703.0,1115.0,280.0,105.0,1859.0,1866.0,261.0,95.0,233.0,115.0,807.0,481.0,115.0,149.0,2718.0,87.0,1986.0,806.0,193.0,1775.0,2450.0,55.0,194.0,127.0,162.0,402.0,116.0,230.0,496.0,67.0,198.0,141.0,821.0,202.0,402.0,1566.0,4.0,76.0,726.0,157.0,93.0,356.0,55.0,75.0,222.0,329.0,66.0,918.0,235.0,82.0,2.0,137.0,208.0,13.0,41.0,0.0,1.0,220.0,1553.0,88.0,162.0,320.0,46.0,23.0,212.0,356.0,6.0,341.0,0.0,80.0,667.0,244.0,58.0,142.0,66.0,1167.0,1.0,0.0,631.0,11.0,29.0,29.0,14.0,249.0,53.0,319.0,1.0,5430.0,84.0,6.0,139.0,80.0,96.0,496.0,500.0,10.0,8.0,204.0,228.0,141.0,785.0,2744.0,808.0,361.0,1072.0,173.0,658.0,148.0,353.0,1383.0,92.0,499.0,101.0,660.0,108.0,85.0,348.0,315.0,8.0,20.0,207.0,278.0,204.0,322.0,295.0,224.0,15.0,901.0,168.0,206.0,144.0,887.0,10.0,51.0,703.0,721.0,146.0,168.0,211.0,254.0,24.0,434.0,0.0,429.0,112.0,3.0,419.0,859.0,581.0,157.0,232.0,0.0,114.0,411.0,345.0,492.0,0.0,39.0,591.0,98.0,492.0,537.0,567.0,324.0,245.0,285.0,201.0,1299.0,448.0,377.0,451.0,399.0,414.0,239.0,123.0,2188.0,261.0,155.0,60.0,558.0,180.0,606.0,401.0,148.0,115.0,459.0,3144.0,26.0,8.0,106.0,137.0,483.0,3.0,414.0,113.0,175.0,204.0,31.0,43.0,101.0,382.0,1475.0,316.0,2.0,64.0,159.0,214.0,349.0,37.0,36.0,704.0],\"yaxis\":\"y\",\"type\":\"scatter\"}],                        {\"template\":{\"data\":{\"histogram2dcontour\":[{\"type\":\"histogram2dcontour\",\"colorbar\":{\"outlinewidth\":0,\"ticks\":\"\"},\"colorscale\":[[0.0,\"#0d0887\"],[0.1111111111111111,\"#46039f\"],[0.2222222222222222,\"#7201a8\"],[0.3333333333333333,\"#9c179e\"],[0.4444444444444444,\"#bd3786\"],[0.5555555555555556,\"#d8576b\"],[0.6666666666666666,\"#ed7953\"],[0.7777777777777778,\"#fb9f3a\"],[0.8888888888888888,\"#fdca26\"],[1.0,\"#f0f921\"]]}],\"choropleth\":[{\"type\":\"choropleth\",\"colorbar\":{\"outlinewidth\":0,\"ticks\":\"\"}}],\"histogram2d\":[{\"type\":\"histogram2d\",\"colorbar\":{\"outlinewidth\":0,\"ticks\":\"\"},\"colorscale\":[[0.0,\"#0d0887\"],[0.1111111111111111,\"#46039f\"],[0.2222222222222222,\"#7201a8\"],[0.3333333333333333,\"#9c179e\"],[0.4444444444444444,\"#bd3786\"],[0.5555555555555556,\"#d8576b\"],[0.6666666666666666,\"#ed7953\"],[0.7777777777777778,\"#fb9f3a\"],[0.8888888888888888,\"#fdca26\"],[1.0,\"#f0f921\"]]}],\"heatmap\":[{\"type\":\"heatmap\",\"colorbar\":{\"outlinewidth\":0,\"ticks\":\"\"},\"colorscale\":[[0.0,\"#0d0887\"],[0.1111111111111111,\"#46039f\"],[0.2222222222222222,\"#7201a8\"],[0.3333333333333333,\"#9c179e\"],[0.4444444444444444,\"#bd3786\"],[0.5555555555555556,\"#d8576b\"],[0.6666666666666666,\"#ed7953\"],[0.7777777777777778,\"#fb9f3a\"],[0.8888888888888888,\"#fdca26\"],[1.0,\"#f0f921\"]]}],\"heatmapgl\":[{\"type\":\"heatmapgl\",\"colorbar\":{\"outlinewidth\":0,\"ticks\":\"\"},\"colorscale\":[[0.0,\"#0d0887\"],[0.1111111111111111,\"#46039f\"],[0.2222222222222222,\"#7201a8\"],[0.3333333333333333,\"#9c179e\"],[0.4444444444444444,\"#bd3786\"],[0.5555555555555556,\"#d8576b\"],[0.6666666666666666,\"#ed7953\"],[0.7777777777777778,\"#fb9f3a\"],[0.8888888888888888,\"#fdca26\"],[1.0,\"#f0f921\"]]}],\"contourcarpet\":[{\"type\":\"contourcarpet\",\"colorbar\":{\"outlinewidth\":0,\"ticks\":\"\"}}],\"contour\":[{\"type\":\"contour\",\"colorbar\":{\"outlinewidth\":0,\"ticks\":\"\"},\"colorscale\":[[0.0,\"#0d0887\"],[0.1111111111111111,\"#46039f\"],[0.2222222222222222,\"#7201a8\"],[0.3333333333333333,\"#9c179e\"],[0.4444444444444444,\"#bd3786\"],[0.5555555555555556,\"#d8576b\"],[0.6666666666666666,\"#ed7953\"],[0.7777777777777778,\"#fb9f3a\"],[0.8888888888888888,\"#fdca26\"],[1.0,\"#f0f921\"]]}],\"surface\":[{\"type\":\"surface\",\"colorbar\":{\"outlinewidth\":0,\"ticks\":\"\"},\"colorscale\":[[0.0,\"#0d0887\"],[0.1111111111111111,\"#46039f\"],[0.2222222222222222,\"#7201a8\"],[0.3333333333333333,\"#9c179e\"],[0.4444444444444444,\"#bd3786\"],[0.5555555555555556,\"#d8576b\"],[0.6666666666666666,\"#ed7953\"],[0.7777777777777778,\"#fb9f3a\"],[0.8888888888888888,\"#fdca26\"],[1.0,\"#f0f921\"]]}],\"mesh3d\":[{\"type\":\"mesh3d\",\"colorbar\":{\"outlinewidth\":0,\"ticks\":\"\"}}],\"scatter\":[{\"fillpattern\":{\"fillmode\":\"overlay\",\"size\":10,\"solidity\":0.2},\"type\":\"scatter\"}],\"parcoords\":[{\"type\":\"parcoords\",\"line\":{\"colorbar\":{\"outlinewidth\":0,\"ticks\":\"\"}}}],\"scatterpolargl\":[{\"type\":\"scatterpolargl\",\"marker\":{\"colorbar\":{\"outlinewidth\":0,\"ticks\":\"\"}}}],\"bar\":[{\"error_x\":{\"color\":\"#2a3f5f\"},\"error_y\":{\"color\":\"#2a3f5f\"},\"marker\":{\"line\":{\"color\":\"#E5ECF6\",\"width\":0.5},\"pattern\":{\"fillmode\":\"overlay\",\"size\":10,\"solidity\":0.2}},\"type\":\"bar\"}],\"scattergeo\":[{\"type\":\"scattergeo\",\"marker\":{\"colorbar\":{\"outlinewidth\":0,\"ticks\":\"\"}}}],\"scatterpolar\":[{\"type\":\"scatterpolar\",\"marker\":{\"colorbar\":{\"outlinewidth\":0,\"ticks\":\"\"}}}],\"histogram\":[{\"marker\":{\"pattern\":{\"fillmode\":\"overlay\",\"size\":10,\"solidity\":0.2}},\"type\":\"histogram\"}],\"scattergl\":[{\"type\":\"scattergl\",\"marker\":{\"colorbar\":{\"outlinewidth\":0,\"ticks\":\"\"}}}],\"scatter3d\":[{\"type\":\"scatter3d\",\"line\":{\"colorbar\":{\"outlinewidth\":0,\"ticks\":\"\"}},\"marker\":{\"colorbar\":{\"outlinewidth\":0,\"ticks\":\"\"}}}],\"scattermapbox\":[{\"type\":\"scattermapbox\",\"marker\":{\"colorbar\":{\"outlinewidth\":0,\"ticks\":\"\"}}}],\"scatterternary\":[{\"type\":\"scatterternary\",\"marker\":{\"colorbar\":{\"outlinewidth\":0,\"ticks\":\"\"}}}],\"scattercarpet\":[{\"type\":\"scattercarpet\",\"marker\":{\"colorbar\":{\"outlinewidth\":0,\"ticks\":\"\"}}}],\"carpet\":[{\"aaxis\":{\"endlinecolor\":\"#2a3f5f\",\"gridcolor\":\"white\",\"linecolor\":\"white\",\"minorgridcolor\":\"white\",\"startlinecolor\":\"#2a3f5f\"},\"baxis\":{\"endlinecolor\":\"#2a3f5f\",\"gridcolor\":\"white\",\"linecolor\":\"white\",\"minorgridcolor\":\"white\",\"startlinecolor\":\"#2a3f5f\"},\"type\":\"carpet\"}],\"table\":[{\"cells\":{\"fill\":{\"color\":\"#EBF0F8\"},\"line\":{\"color\":\"white\"}},\"header\":{\"fill\":{\"color\":\"#C8D4E3\"},\"line\":{\"color\":\"white\"}},\"type\":\"table\"}],\"barpolar\":[{\"marker\":{\"line\":{\"color\":\"#E5ECF6\",\"width\":0.5},\"pattern\":{\"fillmode\":\"overlay\",\"size\":10,\"solidity\":0.2}},\"type\":\"barpolar\"}],\"pie\":[{\"automargin\":true,\"type\":\"pie\"}]},\"layout\":{\"autotypenumbers\":\"strict\",\"colorway\":[\"#636efa\",\"#EF553B\",\"#00cc96\",\"#ab63fa\",\"#FFA15A\",\"#19d3f3\",\"#FF6692\",\"#B6E880\",\"#FF97FF\",\"#FECB52\"],\"font\":{\"color\":\"#2a3f5f\"},\"hovermode\":\"closest\",\"hoverlabel\":{\"align\":\"left\"},\"paper_bgcolor\":\"white\",\"plot_bgcolor\":\"#E5ECF6\",\"polar\":{\"bgcolor\":\"#E5ECF6\",\"angularaxis\":{\"gridcolor\":\"white\",\"linecolor\":\"white\",\"ticks\":\"\"},\"radialaxis\":{\"gridcolor\":\"white\",\"linecolor\":\"white\",\"ticks\":\"\"}},\"ternary\":{\"bgcolor\":\"#E5ECF6\",\"aaxis\":{\"gridcolor\":\"white\",\"linecolor\":\"white\",\"ticks\":\"\"},\"baxis\":{\"gridcolor\":\"white\",\"linecolor\":\"white\",\"ticks\":\"\"},\"caxis\":{\"gridcolor\":\"white\",\"linecolor\":\"white\",\"ticks\":\"\"}},\"coloraxis\":{\"colorbar\":{\"outlinewidth\":0,\"ticks\":\"\"}},\"colorscale\":{\"sequential\":[[0.0,\"#0d0887\"],[0.1111111111111111,\"#46039f\"],[0.2222222222222222,\"#7201a8\"],[0.3333333333333333,\"#9c179e\"],[0.4444444444444444,\"#bd3786\"],[0.5555555555555556,\"#d8576b\"],[0.6666666666666666,\"#ed7953\"],[0.7777777777777778,\"#fb9f3a\"],[0.8888888888888888,\"#fdca26\"],[1.0,\"#f0f921\"]],\"sequentialminus\":[[0.0,\"#0d0887\"],[0.1111111111111111,\"#46039f\"],[0.2222222222222222,\"#7201a8\"],[0.3333333333333333,\"#9c179e\"],[0.4444444444444444,\"#bd3786\"],[0.5555555555555556,\"#d8576b\"],[0.6666666666666666,\"#ed7953\"],[0.7777777777777778,\"#fb9f3a\"],[0.8888888888888888,\"#fdca26\"],[1.0,\"#f0f921\"]],\"diverging\":[[0,\"#8e0152\"],[0.1,\"#c51b7d\"],[0.2,\"#de77ae\"],[0.3,\"#f1b6da\"],[0.4,\"#fde0ef\"],[0.5,\"#f7f7f7\"],[0.6,\"#e6f5d0\"],[0.7,\"#b8e186\"],[0.8,\"#7fbc41\"],[0.9,\"#4d9221\"],[1,\"#276419\"]]},\"xaxis\":{\"gridcolor\":\"white\",\"linecolor\":\"white\",\"ticks\":\"\",\"title\":{\"standoff\":15},\"zerolinecolor\":\"white\",\"automargin\":true,\"zerolinewidth\":2},\"yaxis\":{\"gridcolor\":\"white\",\"linecolor\":\"white\",\"ticks\":\"\",\"title\":{\"standoff\":15},\"zerolinecolor\":\"white\",\"automargin\":true,\"zerolinewidth\":2},\"scene\":{\"xaxis\":{\"backgroundcolor\":\"#E5ECF6\",\"gridcolor\":\"white\",\"linecolor\":\"white\",\"showbackground\":true,\"ticks\":\"\",\"zerolinecolor\":\"white\",\"gridwidth\":2},\"yaxis\":{\"backgroundcolor\":\"#E5ECF6\",\"gridcolor\":\"white\",\"linecolor\":\"white\",\"showbackground\":true,\"ticks\":\"\",\"zerolinecolor\":\"white\",\"gridwidth\":2},\"zaxis\":{\"backgroundcolor\":\"#E5ECF6\",\"gridcolor\":\"white\",\"linecolor\":\"white\",\"showbackground\":true,\"ticks\":\"\",\"zerolinecolor\":\"white\",\"gridwidth\":2}},\"shapedefaults\":{\"line\":{\"color\":\"#2a3f5f\"}},\"annotationdefaults\":{\"arrowcolor\":\"#2a3f5f\",\"arrowhead\":0,\"arrowwidth\":1},\"geo\":{\"bgcolor\":\"white\",\"landcolor\":\"#E5ECF6\",\"subunitcolor\":\"white\",\"showland\":true,\"showlakes\":true,\"lakecolor\":\"white\"},\"title\":{\"x\":0.05},\"mapbox\":{\"style\":\"light\"}}},\"xaxis\":{\"anchor\":\"y\",\"domain\":[0.0,1.0],\"title\":{\"text\":\"index\"}},\"yaxis\":{\"anchor\":\"x\",\"domain\":[0.0,1.0],\"title\":{\"text\":\"resenas\"}},\"legend\":{\"tracegroupgap\":0},\"margin\":{\"t\":60}},                        {\"responsive\": true}                    ).then(function(){\n",
       "                            \n",
       "var gd = document.getElementById('bad59aaf-7ffc-4693-b1aa-d2e6e076dbf1');\n",
       "var x = new MutationObserver(function (mutations, observer) {{\n",
       "        var display = window.getComputedStyle(gd).display;\n",
       "        if (!display || display === 'none') {{\n",
       "            console.log([gd, 'removed!']);\n",
       "            Plotly.purge(gd);\n",
       "            observer.disconnect();\n",
       "        }}\n",
       "}});\n",
       "\n",
       "// Listen for the removal of the full notebook cells\n",
       "var notebookContainer = gd.closest('#notebook-container');\n",
       "if (notebookContainer) {{\n",
       "    x.observe(notebookContainer, {childList: true});\n",
       "}}\n",
       "\n",
       "// Listen for the clearing of the current output cell\n",
       "var outputEl = gd.closest('.output');\n",
       "if (outputEl) {{\n",
       "    x.observe(outputEl, {childList: true});\n",
       "}}\n",
       "\n",
       "                        })                };                });            </script>        </div>"
      ]
     },
     "metadata": {},
     "output_type": "display_data"
    }
   ],
   "source": [
    "px.line(restaurantes, y='resenas', hover_data=['nombre', 'rate', 'precio'])"
   ]
  }
 ],
 "metadata": {
  "kernelspec": {
   "display_name": "Python [conda env:lunarossa_ih]",
   "language": "python",
   "name": "conda-env-lunarossa_ih-py"
  },
  "language_info": {
   "codemirror_mode": {
    "name": "ipython",
    "version": 3
   },
   "file_extension": ".py",
   "mimetype": "text/x-python",
   "name": "python",
   "nbconvert_exporter": "python",
   "pygments_lexer": "ipython3",
   "version": "3.9.13"
  }
 },
 "nbformat": 4,
 "nbformat_minor": 5
}
