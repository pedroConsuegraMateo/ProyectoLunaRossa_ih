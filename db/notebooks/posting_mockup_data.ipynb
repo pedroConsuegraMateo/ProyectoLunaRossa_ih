{
 "cells": [
  {
   "cell_type": "code",
   "execution_count": 1,
   "id": "53c3d35f",
   "metadata": {},
   "outputs": [],
   "source": [
    "import pandas as pd\n",
    "import numpy as np\n",
    "from numpy import random\n",
    "\n",
    "import time\n",
    "\n",
    "import requests, json\n",
    "\n",
    "from sqlalchemy import create_engine"
   ]
  },
  {
   "cell_type": "code",
   "execution_count": 2,
   "id": "15059595",
   "metadata": {},
   "outputs": [
    {
     "name": "stderr",
     "output_type": "stream",
     "text": [
      "/var/folders/n3/xb6jll3d49q147jw5_13y6zm0000gn/T/ipykernel_33659/355435169.py:4: SADeprecationWarning: The Engine.table_names() method is deprecated and will be removed in a future release.  Please refer to Inspector.get_table_names(). (deprecated since: 1.4)\n",
      "  nombre_tabla = engine.table_names()\n"
     ]
    }
   ],
   "source": [
    "engine = create_engine(f'sqlite:///../../../ih_final_project_DB/ih_final_project') \n",
    "con = engine.connect()\n",
    "\n",
    "nombre_tabla = engine.table_names()"
   ]
  },
  {
   "cell_type": "code",
   "execution_count": 3,
   "id": "af89ece1",
   "metadata": {},
   "outputs": [
    {
     "data": {
      "text/plain": [
       "['activity_tracking',\n",
       " 'credenciales_usuarios',\n",
       " 'eventos',\n",
       " 'preferencias_generales',\n",
       " 'preferencias_restaurantes',\n",
       " 'restaurantes',\n",
       " 'sqlite_sequence',\n",
       " 'usuarios']"
      ]
     },
     "execution_count": 3,
     "metadata": {},
     "output_type": "execute_result"
    }
   ],
   "source": [
    "nombre_tabla"
   ]
  },
  {
   "cell_type": "markdown",
   "id": "79b61905",
   "metadata": {},
   "source": [
    "## mockup for credenciales_usuarios"
   ]
  },
  {
   "cell_type": "code",
   "execution_count": 4,
   "id": "b92eea08",
   "metadata": {},
   "outputs": [],
   "source": [
    "credenciales_usuarios = {\n",
    "    'username':['pedro', 'elvira', 'jaime', 'fran', 'angel', 'guilloume', 'ana', 'halima', 'javier', 'victor', 'octavio'],\n",
    "    'email':['pedro@gmail.com', 'elvira@gmail.com', 'jaime@gmail.com', 'fran@gmail.com', 'angel@gmail.com', 'guilloume@gmail.com', 'ana@gmail.com', 'halima@gmail.com', 'javier@gmail.com', 'victor@gmail.com', 'octavio@gmail.com'],\n",
    "    'password':['pedro1234', 'elvira1234', 'jaime1234', 'fran1234', 'angel1234', 'guilloume1234', 'ana1234', 'halima1234', 'javier1234', 'victor1234', 'octavio1234']\n",
    "}"
   ]
  },
  {
   "cell_type": "code",
   "execution_count": 5,
   "id": "ae49ff15",
   "metadata": {},
   "outputs": [
    {
     "data": {
      "text/plain": [
       "{'username': ['pedro',\n",
       "  'elvira',\n",
       "  'jaime',\n",
       "  'fran',\n",
       "  'angel',\n",
       "  'guilloume',\n",
       "  'ana',\n",
       "  'halima',\n",
       "  'javier',\n",
       "  'victor',\n",
       "  'octavio'],\n",
       " 'email': ['pedro@gmail.com',\n",
       "  'elvira@gmail.com',\n",
       "  'jaime@gmail.com',\n",
       "  'fran@gmail.com',\n",
       "  'angel@gmail.com',\n",
       "  'guilloume@gmail.com',\n",
       "  'ana@gmail.com',\n",
       "  'halima@gmail.com',\n",
       "  'javier@gmail.com',\n",
       "  'victor@gmail.com',\n",
       "  'octavio@gmail.com'],\n",
       " 'password': ['pedro1234',\n",
       "  'elvira1234',\n",
       "  'jaime1234',\n",
       "  'fran1234',\n",
       "  'angel1234',\n",
       "  'guilloume1234',\n",
       "  'ana1234',\n",
       "  'halima1234',\n",
       "  'javier1234',\n",
       "  'victor1234',\n",
       "  'octavio1234']}"
      ]
     },
     "execution_count": 5,
     "metadata": {},
     "output_type": "execute_result"
    }
   ],
   "source": [
    "credenciales_usuarios"
   ]
  },
  {
   "cell_type": "code",
   "execution_count": 6,
   "id": "9d890b77",
   "metadata": {},
   "outputs": [],
   "source": [
    "credenciales = pd.DataFrame(credenciales_usuarios)"
   ]
  },
  {
   "cell_type": "code",
   "execution_count": 7,
   "id": "a608cd7c",
   "metadata": {},
   "outputs": [
    {
     "data": {
      "text/html": [
       "<div>\n",
       "<style scoped>\n",
       "    .dataframe tbody tr th:only-of-type {\n",
       "        vertical-align: middle;\n",
       "    }\n",
       "\n",
       "    .dataframe tbody tr th {\n",
       "        vertical-align: top;\n",
       "    }\n",
       "\n",
       "    .dataframe thead th {\n",
       "        text-align: right;\n",
       "    }\n",
       "</style>\n",
       "<table border=\"1\" class=\"dataframe\">\n",
       "  <thead>\n",
       "    <tr style=\"text-align: right;\">\n",
       "      <th></th>\n",
       "      <th>username</th>\n",
       "      <th>email</th>\n",
       "      <th>password</th>\n",
       "    </tr>\n",
       "  </thead>\n",
       "  <tbody>\n",
       "    <tr>\n",
       "      <th>0</th>\n",
       "      <td>pedro</td>\n",
       "      <td>pedro@gmail.com</td>\n",
       "      <td>pedro1234</td>\n",
       "    </tr>\n",
       "    <tr>\n",
       "      <th>1</th>\n",
       "      <td>elvira</td>\n",
       "      <td>elvira@gmail.com</td>\n",
       "      <td>elvira1234</td>\n",
       "    </tr>\n",
       "    <tr>\n",
       "      <th>2</th>\n",
       "      <td>jaime</td>\n",
       "      <td>jaime@gmail.com</td>\n",
       "      <td>jaime1234</td>\n",
       "    </tr>\n",
       "    <tr>\n",
       "      <th>3</th>\n",
       "      <td>fran</td>\n",
       "      <td>fran@gmail.com</td>\n",
       "      <td>fran1234</td>\n",
       "    </tr>\n",
       "    <tr>\n",
       "      <th>4</th>\n",
       "      <td>angel</td>\n",
       "      <td>angel@gmail.com</td>\n",
       "      <td>angel1234</td>\n",
       "    </tr>\n",
       "    <tr>\n",
       "      <th>5</th>\n",
       "      <td>guilloume</td>\n",
       "      <td>guilloume@gmail.com</td>\n",
       "      <td>guilloume1234</td>\n",
       "    </tr>\n",
       "    <tr>\n",
       "      <th>6</th>\n",
       "      <td>ana</td>\n",
       "      <td>ana@gmail.com</td>\n",
       "      <td>ana1234</td>\n",
       "    </tr>\n",
       "    <tr>\n",
       "      <th>7</th>\n",
       "      <td>halima</td>\n",
       "      <td>halima@gmail.com</td>\n",
       "      <td>halima1234</td>\n",
       "    </tr>\n",
       "    <tr>\n",
       "      <th>8</th>\n",
       "      <td>javier</td>\n",
       "      <td>javier@gmail.com</td>\n",
       "      <td>javier1234</td>\n",
       "    </tr>\n",
       "    <tr>\n",
       "      <th>9</th>\n",
       "      <td>victor</td>\n",
       "      <td>victor@gmail.com</td>\n",
       "      <td>victor1234</td>\n",
       "    </tr>\n",
       "    <tr>\n",
       "      <th>10</th>\n",
       "      <td>octavio</td>\n",
       "      <td>octavio@gmail.com</td>\n",
       "      <td>octavio1234</td>\n",
       "    </tr>\n",
       "  </tbody>\n",
       "</table>\n",
       "</div>"
      ],
      "text/plain": [
       "     username                email       password\n",
       "0       pedro      pedro@gmail.com      pedro1234\n",
       "1      elvira     elvira@gmail.com     elvira1234\n",
       "2       jaime      jaime@gmail.com      jaime1234\n",
       "3        fran       fran@gmail.com       fran1234\n",
       "4       angel      angel@gmail.com      angel1234\n",
       "5   guilloume  guilloume@gmail.com  guilloume1234\n",
       "6         ana        ana@gmail.com        ana1234\n",
       "7      halima     halima@gmail.com     halima1234\n",
       "8      javier     javier@gmail.com     javier1234\n",
       "9      victor     victor@gmail.com     victor1234\n",
       "10    octavio    octavio@gmail.com    octavio1234"
      ]
     },
     "execution_count": 7,
     "metadata": {},
     "output_type": "execute_result"
    }
   ],
   "source": [
    "credenciales.to_sql('credenciales_usuarios')"
   ]
  },
  {
   "cell_type": "code",
   "execution_count": 9,
   "id": "9b9b0d5e",
   "metadata": {},
   "outputs": [
    {
     "data": {
      "text/plain": [
       "11"
      ]
     },
     "execution_count": 9,
     "metadata": {},
     "output_type": "execute_result"
    }
   ],
   "source": [
    "credenciales.to_sql('credenciales_usuarios', con, if_exists='append', index=False)"
   ]
  },
  {
   "cell_type": "markdown",
   "id": "7693e178",
   "metadata": {},
   "source": [
    "## mockup for usuarios"
   ]
  },
  {
   "cell_type": "code",
   "execution_count": 10,
   "id": "1f124e3c",
   "metadata": {},
   "outputs": [],
   "source": [
    "usuarios = {\n",
    "    'genero': ['h', 'm', 'h', 'h', 'h', 'h', 'm', 'm', 'h', 'h', 'h'],\n",
    "    'telefono': ['600000000', '600000000', '600000000', '600000000', '600000000', '600000000', '600000000', '600000000', '600000000', '600000000', '600000000'],\n",
    "    'nombre': ['Pedro', 'Elvira', 'Jaime', 'Fran', 'Angel', 'Guilloume', 'Ana', 'Halima', 'Javier', 'Victor', 'Octavio'],\n",
    "    'apellido': ['Consuegra', 'Apellido', 'Apellido', 'Apellido', 'Apellido', 'Apellido', 'Apellido', 'Apellido', 'Apellido', 'Apellido', 'Apellido'],\n",
    "    'fecha_nacimiento': ['21/07/1997', '12/10/1980', '21/11/1989', '21/08/1992', '11/02/1987', '01/03/1993', '25/07/1992', '21/12/1988', '11/11/1982', '07/07/1986', '21/05/1984'],\n",
    "    'id_credenciales': [1, 2, 3, 4, 5, 6, 7, 8, 9, 10, 11]\n",
    "}"
   ]
  },
  {
   "cell_type": "code",
   "execution_count": 12,
   "id": "61b1c158",
   "metadata": {},
   "outputs": [
    {
     "data": {
      "text/html": [
       "<div>\n",
       "<style scoped>\n",
       "    .dataframe tbody tr th:only-of-type {\n",
       "        vertical-align: middle;\n",
       "    }\n",
       "\n",
       "    .dataframe tbody tr th {\n",
       "        vertical-align: top;\n",
       "    }\n",
       "\n",
       "    .dataframe thead th {\n",
       "        text-align: right;\n",
       "    }\n",
       "</style>\n",
       "<table border=\"1\" class=\"dataframe\">\n",
       "  <thead>\n",
       "    <tr style=\"text-align: right;\">\n",
       "      <th></th>\n",
       "      <th>genero</th>\n",
       "      <th>telefono</th>\n",
       "      <th>nombre</th>\n",
       "      <th>apellido</th>\n",
       "      <th>fecha_nacimiento</th>\n",
       "      <th>id_credenciales</th>\n",
       "    </tr>\n",
       "  </thead>\n",
       "  <tbody>\n",
       "    <tr>\n",
       "      <th>0</th>\n",
       "      <td>h</td>\n",
       "      <td>600000000</td>\n",
       "      <td>Pedro</td>\n",
       "      <td>Consuegra</td>\n",
       "      <td>21/07/1997</td>\n",
       "      <td>1</td>\n",
       "    </tr>\n",
       "    <tr>\n",
       "      <th>1</th>\n",
       "      <td>m</td>\n",
       "      <td>600000000</td>\n",
       "      <td>Elvira</td>\n",
       "      <td>Apellido</td>\n",
       "      <td>12/10/1980</td>\n",
       "      <td>2</td>\n",
       "    </tr>\n",
       "    <tr>\n",
       "      <th>2</th>\n",
       "      <td>h</td>\n",
       "      <td>600000000</td>\n",
       "      <td>Jaime</td>\n",
       "      <td>Apellido</td>\n",
       "      <td>21/11/1989</td>\n",
       "      <td>3</td>\n",
       "    </tr>\n",
       "    <tr>\n",
       "      <th>3</th>\n",
       "      <td>h</td>\n",
       "      <td>600000000</td>\n",
       "      <td>Fran</td>\n",
       "      <td>Apellido</td>\n",
       "      <td>21/08/1992</td>\n",
       "      <td>4</td>\n",
       "    </tr>\n",
       "    <tr>\n",
       "      <th>4</th>\n",
       "      <td>h</td>\n",
       "      <td>600000000</td>\n",
       "      <td>Angel</td>\n",
       "      <td>Apellido</td>\n",
       "      <td>11/02/1987</td>\n",
       "      <td>5</td>\n",
       "    </tr>\n",
       "    <tr>\n",
       "      <th>5</th>\n",
       "      <td>h</td>\n",
       "      <td>600000000</td>\n",
       "      <td>Guilloume</td>\n",
       "      <td>Apellido</td>\n",
       "      <td>01/03/1993</td>\n",
       "      <td>6</td>\n",
       "    </tr>\n",
       "    <tr>\n",
       "      <th>6</th>\n",
       "      <td>m</td>\n",
       "      <td>600000000</td>\n",
       "      <td>Ana</td>\n",
       "      <td>Apellido</td>\n",
       "      <td>25/07/1992</td>\n",
       "      <td>7</td>\n",
       "    </tr>\n",
       "    <tr>\n",
       "      <th>7</th>\n",
       "      <td>m</td>\n",
       "      <td>600000000</td>\n",
       "      <td>Halima</td>\n",
       "      <td>Apellido</td>\n",
       "      <td>21/12/1988</td>\n",
       "      <td>8</td>\n",
       "    </tr>\n",
       "    <tr>\n",
       "      <th>8</th>\n",
       "      <td>h</td>\n",
       "      <td>600000000</td>\n",
       "      <td>Javier</td>\n",
       "      <td>Apellido</td>\n",
       "      <td>11/11/1982</td>\n",
       "      <td>9</td>\n",
       "    </tr>\n",
       "    <tr>\n",
       "      <th>9</th>\n",
       "      <td>h</td>\n",
       "      <td>600000000</td>\n",
       "      <td>Victor</td>\n",
       "      <td>Apellido</td>\n",
       "      <td>07/07/1986</td>\n",
       "      <td>10</td>\n",
       "    </tr>\n",
       "    <tr>\n",
       "      <th>10</th>\n",
       "      <td>h</td>\n",
       "      <td>600000000</td>\n",
       "      <td>Octavio</td>\n",
       "      <td>Apellido</td>\n",
       "      <td>21/05/1984</td>\n",
       "      <td>11</td>\n",
       "    </tr>\n",
       "  </tbody>\n",
       "</table>\n",
       "</div>"
      ],
      "text/plain": [
       "   genero   telefono     nombre   apellido fecha_nacimiento  id_credenciales\n",
       "0       h  600000000      Pedro  Consuegra       21/07/1997                1\n",
       "1       m  600000000     Elvira   Apellido       12/10/1980                2\n",
       "2       h  600000000      Jaime   Apellido       21/11/1989                3\n",
       "3       h  600000000       Fran   Apellido       21/08/1992                4\n",
       "4       h  600000000      Angel   Apellido       11/02/1987                5\n",
       "5       h  600000000  Guilloume   Apellido       01/03/1993                6\n",
       "6       m  600000000        Ana   Apellido       25/07/1992                7\n",
       "7       m  600000000     Halima   Apellido       21/12/1988                8\n",
       "8       h  600000000     Javier   Apellido       11/11/1982                9\n",
       "9       h  600000000     Victor   Apellido       07/07/1986               10\n",
       "10      h  600000000    Octavio   Apellido       21/05/1984               11"
      ]
     },
     "execution_count": 12,
     "metadata": {},
     "output_type": "execute_result"
    }
   ],
   "source": [
    "usuarios_df = pd.DataFrame(usuarios)\n",
    "usuarios_df"
   ]
  },
  {
   "cell_type": "code",
   "execution_count": 13,
   "id": "c34287bd",
   "metadata": {},
   "outputs": [
    {
     "data": {
      "text/plain": [
       "11"
      ]
     },
     "execution_count": 13,
     "metadata": {},
     "output_type": "execute_result"
    }
   ],
   "source": [
    "usuarios_df.to_sql('usuarios', con, if_exists='append', index=False)"
   ]
  },
  {
   "cell_type": "code",
   "execution_count": null,
   "id": "d04f1b6c",
   "metadata": {},
   "outputs": [],
   "source": []
  }
 ],
 "metadata": {
  "kernelspec": {
   "display_name": "Python [conda env:lunarossa_ih]",
   "language": "python",
   "name": "conda-env-lunarossa_ih-py"
  },
  "language_info": {
   "codemirror_mode": {
    "name": "ipython",
    "version": 3
   },
   "file_extension": ".py",
   "mimetype": "text/x-python",
   "name": "python",
   "nbconvert_exporter": "python",
   "pygments_lexer": "ipython3",
   "version": "3.9.13"
  }
 },
 "nbformat": 4,
 "nbformat_minor": 5
}
